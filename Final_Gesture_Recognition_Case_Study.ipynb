{
  "cells": [
    {
      "cell_type": "markdown",
      "metadata": {
        "id": "5ZE825kQpFwJ"
      },
      "source": [
        "## Deep Learning Course Project - Gesture Recognition\n",
        "\n",
        "### Problem Statement\n",
        "Imagine you are working as a data scientist at a home electronics company which manufactures state of the art smart televisions. You want to develop a cool feature in the smart-TV that can recognise five different gestures performed by the user which will help users control the TV without using a remote.\n",
        "\n",
        "The gestures are continuously monitored by the webcam mounted on the TV. Each gesture corresponds to a specific command:\n",
        " \n",
        "| Gesture | Corresponding Action |\n",
        "| --- | --- | \n",
        "| Thumbs Up | Increase the volume. |\n",
        "| Thumbs Down | Decrease the volume. |\n",
        "| Left Swipe | 'Jump' backwards 10 seconds. |\n",
        "| Right Swipe | 'Jump' forward 10 seconds. |\n",
        "| Stop | Pause the movie. |\n",
        "\n",
        "Each video is a sequence of 30 frames (or images).\n",
        "\n",
        "### Objectives:\n",
        "1. **Generator**:  The generator should be able to take a batch of videos as input without any error. Steps like cropping, resizing and normalization should be performed successfully.\n",
        "\n",
        "2. **Model**: Develop a model that is able to train without any errors which will be judged on the total number of parameters (as the inference(prediction) time should be less) and the accuracy achieved. As suggested by Snehansu, start training on a small amount of data and then proceed further.\n",
        "\n",
        "3. **Write up**: This should contain the detailed procedure followed in choosing the final model. The write up should start with the reason for choosing the base model, then highlight the reasons and metrics taken into consideration to modify and experiment to arrive at the final model. "
      ]
    },
    {
      "cell_type": "code",
      "execution_count": 1,
      "metadata": {
        "id": "ImsuPngPpFwO",
        "colab": {
          "base_uri": "https://localhost:8080/"
        },
        "outputId": "28cef617-f627-4335-abb6-b637d3df2df9"
      },
      "outputs": [
        {
          "output_type": "stream",
          "name": "stdout",
          "text": [
            "Wed Jan 12 09:22:34 2022       \n",
            "+-----------------------------------------------------------------------------+\n",
            "| NVIDIA-SMI 495.46       Driver Version: 460.32.03    CUDA Version: 11.2     |\n",
            "|-------------------------------+----------------------+----------------------+\n",
            "| GPU  Name        Persistence-M| Bus-Id        Disp.A | Volatile Uncorr. ECC |\n",
            "| Fan  Temp  Perf  Pwr:Usage/Cap|         Memory-Usage | GPU-Util  Compute M. |\n",
            "|                               |                      |               MIG M. |\n",
            "|===============================+======================+======================|\n",
            "|   0  Tesla P100-PCIE...  Off  | 00000000:00:04.0 Off |                    0 |\n",
            "| N/A   42C    P0    28W / 250W |      0MiB / 16280MiB |      0%      Default |\n",
            "|                               |                      |                  N/A |\n",
            "+-------------------------------+----------------------+----------------------+\n",
            "                                                                               \n",
            "+-----------------------------------------------------------------------------+\n",
            "| Processes:                                                                  |\n",
            "|  GPU   GI   CI        PID   Type   Process name                  GPU Memory |\n",
            "|        ID   ID                                                   Usage      |\n",
            "|=============================================================================|\n",
            "|  No running processes found                                                 |\n",
            "+-----------------------------------------------------------------------------+\n"
          ]
        }
      ],
      "source": [
        "## Checking the GPU configuration\n",
        "\n",
        "!nvidia-smi"
      ]
    },
    {
      "cell_type": "code",
      "execution_count": 2,
      "metadata": {
        "id": "I5D88omHpFwQ"
      },
      "outputs": [],
      "source": [
        "# Importing the necessary libraries\n",
        "\n",
        "import numpy as np\n",
        "import os\n",
        "#from scipy.misc import imread, imresize\n",
        "from skimage.io import imread\n",
        "from skimage.transform import resize as imresize\n",
        "import datetime\n",
        "import os\n",
        "import warnings\n",
        "warnings.filterwarnings(\"ignore\")\n",
        "import abc\n",
        "from sys import getsizeof"
      ]
    },
    {
      "cell_type": "markdown",
      "metadata": {
        "id": "S4j8Gm34pFwR"
      },
      "source": [
        "We set the random seed so that the results don't vary drastically."
      ]
    },
    {
      "cell_type": "code",
      "execution_count": 3,
      "metadata": {
        "id": "w3lKB1QQpFwS"
      },
      "outputs": [],
      "source": [
        "np.random.seed(30)\n",
        "import random as rn\n",
        "rn.seed(30)\n",
        "from keras import backend as K\n",
        "import tensorflow as tf\n",
        "from tensorflow import keras\n",
        "#tf.set_random_seed(30)\n",
        "tf.random.set_seed(30)"
      ]
    },
    {
      "cell_type": "code",
      "execution_count": 4,
      "metadata": {
        "id": "u7Gzpx80pFwT"
      },
      "outputs": [],
      "source": [
        "import cv2\n",
        "import matplotlib.pyplot as plt\n",
        "%matplotlib inline"
      ]
    },
    {
      "cell_type": "markdown",
      "metadata": {
        "id": "QncsKGj6pFwU"
      },
      "source": [
        "In this block, you read the folder names for training and validation. You also set the `batch_size` here. Note that you set the batch size in such a way that you are able to use the GPU in full capacity. You keep increasing the batch size until the machine throws an error."
      ]
    },
    {
      "cell_type": "code",
      "execution_count": 5,
      "metadata": {
        "id": "gz_OfP1XpFwU"
      },
      "outputs": [],
      "source": [
        "# importing some other libraries which will be needed for model building.\n",
        "\n",
        "from keras.models import Sequential, Model\n",
        "from keras.layers import Dense, GRU, Flatten, TimeDistributed, Flatten, BatchNormalization, Activation\n",
        "from keras.layers.convolutional import Conv3D, MaxPooling3D, Conv2D, MaxPooling2D\n",
        "from keras.layers.recurrent import LSTM\n",
        "from keras.callbacks import ModelCheckpoint, ReduceLROnPlateau, EarlyStopping\n",
        "from keras import optimizers\n",
        "from keras.layers import Dropout"
      ]
    },
    {
      "cell_type": "code",
      "execution_count": 6,
      "metadata": {
        "id": "-oFsAOHopFwV"
      },
      "outputs": [],
      "source": [
        "#project_folder=(\"C://Users//Asus//Downloads//python//Gesture_Recognition//Project_data//Project_data\")"
      ]
    },
    {
      "cell_type": "code",
      "source": [
        "from google.colab import drive\n",
        "drive.mount('/content/drive')"
      ],
      "metadata": {
        "colab": {
          "base_uri": "https://localhost:8080/"
        },
        "id": "2SnHVmklqP45",
        "outputId": "ff2b4b5c-cbad-40db-af67-7b3a893500d9"
      },
      "execution_count": 7,
      "outputs": [
        {
          "output_type": "stream",
          "name": "stdout",
          "text": [
            "Mounted at /content/drive\n"
          ]
        }
      ]
    },
    {
      "cell_type": "code",
      "source": [
        "!gdown --id \"1SThbXw2AqUYLI5CCCI0ay05jDwHKRlkL\" # downloading the zipped file in the session\n"
      ],
      "metadata": {
        "colab": {
          "base_uri": "https://localhost:8080/"
        },
        "id": "CM6WOg2Fqf1Z",
        "outputId": "9817dae8-ff86-49dc-de30-373d58a5760a"
      },
      "execution_count": 8,
      "outputs": [
        {
          "output_type": "stream",
          "name": "stdout",
          "text": [
            "Downloading...\n",
            "From: https://drive.google.com/uc?id=1SThbXw2AqUYLI5CCCI0ay05jDwHKRlkL\n",
            "To: /content/Project_data_1.zip\n",
            "100% 1.71G/1.71G [00:13<00:00, 127MB/s]\n"
          ]
        }
      ]
    },
    {
      "cell_type": "code",
      "source": [
        "!ls"
      ],
      "metadata": {
        "colab": {
          "base_uri": "https://localhost:8080/"
        },
        "id": "FTWkxgncrbhD",
        "outputId": "0006086f-e41e-45f5-c6a7-7d8e6321a206"
      },
      "execution_count": 9,
      "outputs": [
        {
          "output_type": "stream",
          "name": "stdout",
          "text": [
            "drive  Project_data_1.zip  sample_data\n"
          ]
        }
      ]
    },
    {
      "cell_type": "code",
      "source": [
        "!unzip -q \"/content/Project_data_1.zip\" -d \"/content/Project_data_1\" "
      ],
      "metadata": {
        "id": "69zA57vhtbXa"
      },
      "execution_count": 10,
      "outputs": []
    },
    {
      "cell_type": "code",
      "source": [
        "!ls"
      ],
      "metadata": {
        "colab": {
          "base_uri": "https://localhost:8080/"
        },
        "id": "0rregdANtxPK",
        "outputId": "4be84c91-95a3-457d-ab78-369054250ea2"
      },
      "execution_count": 11,
      "outputs": [
        {
          "output_type": "stream",
          "name": "stdout",
          "text": [
            "drive  Project_data_1  Project_data_1.zip  sample_data\n"
          ]
        }
      ]
    },
    {
      "cell_type": "code",
      "source": [
        "project_folder=(\"Project_data_1/Project_data\")"
      ],
      "metadata": {
        "id": "cpSiAhFKt9ph"
      },
      "execution_count": 12,
      "outputs": []
    },
    {
      "cell_type": "markdown",
      "metadata": {
        "id": "DQNzHpYPpFwV"
      },
      "source": [
        "##### Plotting"
      ]
    },
    {
      "cell_type": "code",
      "execution_count": 13,
      "metadata": {
        "id": "9VoAB23cpFwW"
      },
      "outputs": [],
      "source": [
        "# function to plot the training/validation accuracies/losses.\n",
        "\n",
        "def plot(history):\n",
        "    fig, axes = plt.subplots(nrows=1, ncols=2, figsize=(15,4))\n",
        "    axes[0].plot(history.history['loss'])   \n",
        "    axes[0].plot(history.history['val_loss'])\n",
        "    axes[0].grid()\n",
        "    axes[0].legend(['loss','val_loss'])\n",
        "    axes[1].plot(history.history['categorical_accuracy'])   \n",
        "    axes[1].plot(history.history['val_categorical_accuracy'])\n",
        "    axes[1].grid()\n",
        "    axes[1].legend(['categorical_accuracy','val_categorical_accuracy'])"
      ]
    },
    {
      "cell_type": "markdown",
      "metadata": {
        "id": "XKq3JVOYpFwW"
      },
      "source": [
        "## Generator\n",
        "This is one of the most important part of the code. The overall structure of the generator has been given. In the generator, you are going to preprocess the images as you have images of 2 different dimensions as well as create a batch of video frames. You have to experiment with `img_idx`, `y`,`z` and normalization such that you get high accuracy."
      ]
    },
    {
      "cell_type": "code",
      "execution_count": 14,
      "metadata": {
        "id": "PX9nkyKgpFwX"
      },
      "outputs": [],
      "source": [
        "class ModelBuilder(metaclass= abc.ABCMeta):\n",
        "    # initialisng the path where project data resides\n",
        "    def initialize_path(self,project_folder):\n",
        "        self.train_doc = np.random.permutation(open(project_folder + '/' + 'train.csv').readlines())\n",
        "        self.val_doc = np.random.permutation(open(project_folder + '/' + 'val.csv').readlines())\n",
        "        self.train_path = project_folder + '/' + 'train'\n",
        "        self.val_path =  project_folder + '/' + 'val'\n",
        "        self.num_train_sequences = len(self.train_doc)\n",
        "        self.num_val_sequences = len(self.val_doc)\n",
        "    # initialising the image properties    \n",
        "    def initialize_image_properties(self,image_height=100,image_width=100):\n",
        "        self.image_height=image_height\n",
        "        self.image_width=image_width\n",
        "        self.channels=3\n",
        "        self.num_classes=5\n",
        "        self.total_frames=30\n",
        "    # initialising the batch size, frames to sample and the no. of epochs\n",
        "    def initialize_hyperparams(self,frames_to_sample=30,batch_size=20,num_epochs=20):\n",
        "        self.frames_to_sample=frames_to_sample\n",
        "        self.batch_size=batch_size\n",
        "        self.num_epochs=num_epochs\n",
        "        \n",
        "    # MOST IMPORTANT PART HERE - The generator function        \n",
        "    def generator(self,source_path, folder_list, augment=False):\n",
        "        img_idx = np.round(np.linspace(0,self.total_frames-1,self.frames_to_sample)).astype(int)\n",
        "        batch_size=self.batch_size\n",
        "        while True:\n",
        "            t = np.random.permutation(folder_list)\n",
        "            num_batches = len(t)//batch_size\n",
        "        \n",
        "            for batch in range(num_batches): \n",
        "                batch_data, batch_labels= self.one_batch_data(source_path,t,batch,batch_size,img_idx,augment)\n",
        "                yield batch_data, batch_labels \n",
        "\n",
        "            remaining_seq=len(t)%batch_size\n",
        "        \n",
        "            if (remaining_seq != 0):\n",
        "                batch_data, batch_labels= self.one_batch_data(source_path,t,num_batches,batch_size,img_idx,augment,remaining_seq)\n",
        "                yield batch_data, batch_labels \n",
        "    \n",
        "    \n",
        "    def one_batch_data(self,source_path,t,batch,batch_size,img_idx,augment,remaining_seq=0):\n",
        "    \n",
        "        seq_len = remaining_seq if remaining_seq else batch_size\n",
        "    \n",
        "        batch_data = np.zeros((seq_len,len(img_idx),self.image_height,self.image_width,self.channels)) \n",
        "        batch_labels = np.zeros((seq_len,self.num_classes)) \n",
        "    \n",
        "        if (augment): batch_data_aug = np.zeros((seq_len,len(img_idx),self.image_height,self.image_width,self.channels))\n",
        "\n",
        "        \n",
        "        for folder in range(seq_len): \n",
        "            imgs = os.listdir(source_path+'/'+ t[folder + (batch*batch_size)].split(';')[0]) \n",
        "            for idx,item in enumerate(img_idx):\n",
        "                #performing image reading and resizing\n",
        "                image = imread(source_path+'/'+ t[folder + (batch*batch_size)].strip().split(';')[0]+'/'+imgs[item]).astype(np.float32)\n",
        "                image_resized=imresize(image,(self.image_height,self.image_width,3))\n",
        "            \n",
        "                #normalizing the images\n",
        "                batch_data[folder,idx,:,:,0] = (image_resized[:,:,0])/255\n",
        "                batch_data[folder,idx,:,:,1] = (image_resized[:,:,1])/255\n",
        "                batch_data[folder,idx,:,:,2] = (image_resized[:,:,2])/255\n",
        "            \n",
        "                if (augment):\n",
        "                    shifted = cv2.warpAffine(image, \n",
        "                                             np.float32([[1, 0, np.random.randint(-30,30)],[0, 1, np.random.randint(-30,30)]]), \n",
        "                                            (image.shape[1], image.shape[0]))\n",
        "                    \n",
        "                    gray = cv2.cvtColor(shifted,cv2.COLOR_BGR2GRAY)\n",
        "\n",
        "                    x0, y0 = np.argwhere(gray > 0).min(axis=0)\n",
        "                    x1, y1 = np.argwhere(gray > 0).max(axis=0) \n",
        "                    # cropping the images to have the targeted gestures and remove the noise from the images.\n",
        "                    cropped=shifted[x0:x1,y0:y1,:]\n",
        "                    \n",
        "                    image_resized=imresize(cropped,(self.image_height,self.image_width,3))\n",
        "                    \n",
        "                    #shifted = cv2.warpAffine(image_resized, \n",
        "                    #                        np.float32([[1, 0, np.random.randint(-3,3)],[0, 1, np.random.randint(-3,3)]]), \n",
        "                    #                        (image_resized.shape[1], image_resized.shape[0]))\n",
        "            \n",
        "                    batch_data_aug[folder,idx,:,:,0] = (image_resized[:,:,0])/255\n",
        "                    batch_data_aug[folder,idx,:,:,1] = (image_resized[:,:,1])/255\n",
        "                    batch_data_aug[folder,idx,:,:,2] = (image_resized[:,:,2])/255\n",
        "                \n",
        "            \n",
        "            batch_labels[folder, int(t[folder + (batch*batch_size)].strip().split(';')[2])] = 1\n",
        "            \n",
        "    \n",
        "        if (augment):\n",
        "            batch_data=np.concatenate([batch_data,batch_data_aug])\n",
        "            batch_labels=np.concatenate([batch_labels,batch_labels])\n",
        "\n",
        "        \n",
        "        return(batch_data,batch_labels)\n",
        "    \n",
        "    \n",
        "    def train_model(self, model, augment_data=False):\n",
        "        train_generator = self.generator(self.train_path, self.train_doc,augment=augment_data)\n",
        "        val_generator = self.generator(self.val_path, self.val_doc)\n",
        "\n",
        "        model_name = 'model_init' + '_' + str(datetime.datetime.now()).replace(' ','').replace(':','_') + '/'\n",
        "    \n",
        "        if not os.path.exists(model_name):\n",
        "            os.mkdir(model_name)\n",
        "        \n",
        "        filepath = model_name + 'model-{epoch:05d}-{loss:.5f}-{categorical_accuracy:.5f}-{val_loss:.5f}-{val_categorical_accuracy:.5f}.h5'\n",
        "\n",
        "        checkpoint = ModelCheckpoint(filepath, monitor='val_loss', verbose=1, save_best_only=True, save_weights_only=False, mode='auto', period=1)\n",
        "        LR = ReduceLROnPlateau(monitor='val_loss', factor=0.2, verbose=1, patience=4)\n",
        "        \n",
        "        earlystop = EarlyStopping( monitor=\"val_loss\", min_delta=0,patience=10,verbose=1)\n",
        "        callbacks_list = [checkpoint, LR, earlystop]\n",
        "\n",
        "        if (self.num_train_sequences%self.batch_size) == 0:\n",
        "            steps_per_epoch = int(self.num_train_sequences/self.batch_size)\n",
        "        else:\n",
        "            steps_per_epoch = (self.num_train_sequences//self.batch_size) + 1\n",
        "\n",
        "        if (self.num_val_sequences%self.batch_size) == 0:\n",
        "            validation_steps = int(self.num_val_sequences/self.batch_size)\n",
        "        else:\n",
        "            validation_steps = (self.num_val_sequences//self.batch_size) + 1\n",
        "    \n",
        "        history=model.fit_generator(train_generator, steps_per_epoch=steps_per_epoch, epochs=self.num_epochs, verbose=1, \n",
        "                            callbacks=callbacks_list, validation_data=val_generator, \n",
        "                            validation_steps=validation_steps, class_weight=None, workers=1, initial_epoch=0)\n",
        "        return history\n",
        "\n",
        "        \n",
        "    @abc.abstractmethod\n",
        "    def define_model(self):\n",
        "        pass"
      ]
    },
    {
      "cell_type": "markdown",
      "metadata": {
        "id": "9Mo8SDt6pFwY"
      },
      "source": [
        "## Model\n",
        "Here you make the model using different functionalities that Keras provides. Remember to use `Conv3D` and `MaxPooling3D` and not `Conv2D` and `Maxpooling2D` for a 3D convolution model. You would want to use `TimeDistributed` while building a Conv2D + RNN model. Also remember that the last layer is the softmax. Design the network in such a way that the model is able to give good accuracy on the least number of parameters so that it can fit in the memory of the webcam."
      ]
    },
    {
      "cell_type": "markdown",
      "metadata": {
        "id": "oVULYozqpFwY"
      },
      "source": [
        "## Sample Model"
      ]
    },
    {
      "cell_type": "code",
      "execution_count": 15,
      "metadata": {
        "id": "VQ5jboz3pFwY"
      },
      "outputs": [],
      "source": [
        "class ModelConv3D1(ModelBuilder):\n",
        "    \n",
        "    def define_model(self):\n",
        "\n",
        "        model = Sequential()\n",
        "        model.add(Conv3D(16, (3, 3, 3), padding='same',\n",
        "                 input_shape=(self.frames_to_sample,self.image_height,self.image_width,self.channels)))\n",
        "        model.add(Activation('relu'))\n",
        "        model.add(BatchNormalization())\n",
        "        model.add(MaxPooling3D(pool_size=(2, 2, 2)))\n",
        "\n",
        "        model.add(Conv3D(32, (2, 2, 2), padding='same'))\n",
        "        model.add(Activation('relu'))\n",
        "        model.add(BatchNormalization())\n",
        "        model.add(MaxPooling3D(pool_size=(2, 2, 2)))\n",
        "\n",
        "        model.add(Conv3D(64, (2, 2, 2), padding='same'))\n",
        "        model.add(Activation('relu'))\n",
        "        model.add(BatchNormalization())\n",
        "        model.add(MaxPooling3D(pool_size=(2, 2, 2)))\n",
        "\n",
        "        model.add(Conv3D(128, (2, 2, 2), padding='same'))\n",
        "        model.add(Activation('relu'))\n",
        "        model.add(BatchNormalization())\n",
        "        model.add(MaxPooling3D(pool_size=(2, 2, 2)))\n",
        "\n",
        "        model.add(Flatten())\n",
        "        model.add(Dense(128,activation='relu'))\n",
        "        model.add(BatchNormalization())\n",
        "        model.add(Dropout(0.5))\n",
        "\n",
        "        model.add(Dense(64,activation='relu'))\n",
        "        model.add(BatchNormalization())\n",
        "        model.add(Dropout(0.25))\n",
        "\n",
        "\n",
        "        model.add(Dense(self.num_classes,activation='softmax'))\n",
        "\n",
        "        optimiser = tf.optimizers.Adam()\n",
        "        #optimiser = 'sgd'\n",
        "        model.compile(optimizer=optimiser, loss='categorical_crossentropy', metrics=['categorical_accuracy'])\n",
        "        return model"
      ]
    },
    {
      "cell_type": "code",
      "execution_count": 16,
      "metadata": {
        "scrolled": false,
        "colab": {
          "base_uri": "https://localhost:8080/"
        },
        "id": "i4SHRzKepFwZ",
        "outputId": "ac0b2b43-cb06-4635-85d6-9d3d31571950"
      },
      "outputs": [
        {
          "output_type": "stream",
          "name": "stdout",
          "text": [
            "Model: \"sequential\"\n",
            "_________________________________________________________________\n",
            " Layer (type)                Output Shape              Param #   \n",
            "=================================================================\n",
            " conv3d (Conv3D)             (None, 30, 160, 160, 16)  1312      \n",
            "                                                                 \n",
            " activation (Activation)     (None, 30, 160, 160, 16)  0         \n",
            "                                                                 \n",
            " batch_normalization (BatchN  (None, 30, 160, 160, 16)  64       \n",
            " ormalization)                                                   \n",
            "                                                                 \n",
            " max_pooling3d (MaxPooling3D  (None, 15, 80, 80, 16)   0         \n",
            " )                                                               \n",
            "                                                                 \n",
            " conv3d_1 (Conv3D)           (None, 15, 80, 80, 32)    4128      \n",
            "                                                                 \n",
            " activation_1 (Activation)   (None, 15, 80, 80, 32)    0         \n",
            "                                                                 \n",
            " batch_normalization_1 (Batc  (None, 15, 80, 80, 32)   128       \n",
            " hNormalization)                                                 \n",
            "                                                                 \n",
            " max_pooling3d_1 (MaxPooling  (None, 7, 40, 40, 32)    0         \n",
            " 3D)                                                             \n",
            "                                                                 \n",
            " conv3d_2 (Conv3D)           (None, 7, 40, 40, 64)     16448     \n",
            "                                                                 \n",
            " activation_2 (Activation)   (None, 7, 40, 40, 64)     0         \n",
            "                                                                 \n",
            " batch_normalization_2 (Batc  (None, 7, 40, 40, 64)    256       \n",
            " hNormalization)                                                 \n",
            "                                                                 \n",
            " max_pooling3d_2 (MaxPooling  (None, 3, 20, 20, 64)    0         \n",
            " 3D)                                                             \n",
            "                                                                 \n",
            " conv3d_3 (Conv3D)           (None, 3, 20, 20, 128)    65664     \n",
            "                                                                 \n",
            " activation_3 (Activation)   (None, 3, 20, 20, 128)    0         \n",
            "                                                                 \n",
            " batch_normalization_3 (Batc  (None, 3, 20, 20, 128)   512       \n",
            " hNormalization)                                                 \n",
            "                                                                 \n",
            " max_pooling3d_3 (MaxPooling  (None, 1, 10, 10, 128)   0         \n",
            " 3D)                                                             \n",
            "                                                                 \n",
            " flatten (Flatten)           (None, 12800)             0         \n",
            "                                                                 \n",
            " dense (Dense)               (None, 128)               1638528   \n",
            "                                                                 \n",
            " batch_normalization_4 (Batc  (None, 128)              512       \n",
            " hNormalization)                                                 \n",
            "                                                                 \n",
            " dropout (Dropout)           (None, 128)               0         \n",
            "                                                                 \n",
            " dense_1 (Dense)             (None, 64)                8256      \n",
            "                                                                 \n",
            " batch_normalization_5 (Batc  (None, 64)               256       \n",
            " hNormalization)                                                 \n",
            "                                                                 \n",
            " dropout_1 (Dropout)         (None, 64)                0         \n",
            "                                                                 \n",
            " dense_2 (Dense)             (None, 5)                 325       \n",
            "                                                                 \n",
            "=================================================================\n",
            "Total params: 1,736,389\n",
            "Trainable params: 1,735,525\n",
            "Non-trainable params: 864\n",
            "_________________________________________________________________\n"
          ]
        }
      ],
      "source": [
        "conv_3d1=ModelConv3D1()\n",
        "conv_3d1.initialize_path(project_folder)\n",
        "conv_3d1.initialize_image_properties(image_height=160,image_width=160)\n",
        "conv_3d1.initialize_hyperparams(frames_to_sample=30,batch_size=10,num_epochs=1)\n",
        "conv_3d1_model=conv_3d1.define_model()\n",
        "conv_3d1_model.summary()"
      ]
    },
    {
      "cell_type": "markdown",
      "metadata": {
        "id": "OaqLUFmZpFwZ"
      },
      "source": [
        "##### Sample Cropping"
      ]
    },
    {
      "cell_type": "code",
      "execution_count": 17,
      "metadata": {
        "colab": {
          "base_uri": "https://localhost:8080/",
          "height": 204
        },
        "id": "I5ZRX8OapFwZ",
        "outputId": "23ce6333-fa29-4739-9bb2-69584eee79d8"
      },
      "outputs": [
        {
          "output_type": "display_data",
          "data": {
            "image/png": "[encoded data removed]",
            "text/plain": [
              "<Figure size 432x288 with 2 Axes>"
            ]
          },
          "metadata": {
            "needs_background": "light"
          }
        }
      ],
      "source": [
        "test_generator=ModelConv3D1()\n",
        "test_generator.initialize_path(project_folder)\n",
        "test_generator.initialize_image_properties(image_height=160,image_width=160)\n",
        "test_generator.initialize_hyperparams(frames_to_sample=30,batch_size=3,num_epochs=1)\n",
        "\n",
        "g=test_generator.generator(test_generator.val_path,test_generator.val_doc,augment=True)\n",
        "batch_data, batch_labels=next(g)\n",
        "fig, axes = plt.subplots(nrows=1, ncols=2)\n",
        "axes[0].imshow(batch_data[0,15,:,:,:])   \n",
        "axes[1].imshow(batch_data[3,15,:,:,:])   \n",
        "plt.show()"
      ]
    },
    {
      "cell_type": "markdown",
      "metadata": {
        "id": "8QzzgLi3pFwa"
      },
      "source": [
        "## Experimenting with Image resolution, number of frames to use and batch_size"
      ]
    },
    {
      "cell_type": "code",
      "execution_count": 18,
      "metadata": {
        "colab": {
          "base_uri": "https://localhost:8080/"
        },
        "id": "BFIJpkVRpFwa",
        "outputId": "c6774045-3392-493e-82b3-384ff3812946"
      },
      "outputs": [
        {
          "output_type": "stream",
          "name": "stdout",
          "text": [
            "WARNING:tensorflow:`period` argument is deprecated. Please use `save_freq` to specify the frequency in number of batches seen.\n",
            "67/67 [==============================] - ETA: 0s - loss: 1.5477 - categorical_accuracy: 0.4012\n",
            "Epoch 00001: val_loss improved from inf to 6.64477, saving model to model_init_2022-01-1209_23_48.368491/model-00001-1.54767-0.40121-6.64477-0.23000.h5\n",
            "67/67 [==============================] - 255s 4s/step - loss: 1.5477 - categorical_accuracy: 0.4012 - val_loss: 6.6448 - val_categorical_accuracy: 0.2300 - lr: 0.0010\n"
          ]
        },
        {
          "output_type": "execute_result",
          "data": {
            "text/plain": [
              "<keras.callbacks.History at 0x7fb81f1b5290>"
            ]
          },
          "metadata": {},
          "execution_count": 18
        }
      ],
      "source": [
        "conv_3d1.train_model(conv_3d1_model)"
      ]
    },
    {
      "cell_type": "markdown",
      "metadata": {
        "id": "ifHyHaCPpFwa"
      },
      "source": [
        "##### So lets trade-off between these parameters"
      ]
    },
    {
      "cell_type": "markdown",
      "metadata": {
        "collapsed": true,
        "id": "ySn4c1MopFwa"
      },
      "source": [
        "##### Below are the experiments to see how training time is affected by image resolution, number of images in sequence and batch size"
      ]
    },
    {
      "cell_type": "code",
      "execution_count": 19,
      "metadata": {
        "colab": {
          "base_uri": "https://localhost:8080/"
        },
        "id": "iUVz6FnQpFwb",
        "outputId": "5c5d2e4b-c000-4626-ce99-2f6cb35d7d7c"
      },
      "outputs": [
        {
          "output_type": "stream",
          "name": "stdout",
          "text": [
            "Total Params: 687813\n",
            "WARNING:tensorflow:`period` argument is deprecated. Please use `save_freq` to specify the frequency in number of batches seen.\n",
            "Epoch 1/2\n",
            "23/23 [==============================] - ETA: 0s - loss: 1.6129 - categorical_accuracy: 0.3906\n",
            "Epoch 00001: val_loss improved from inf to 2.10230, saving model to model_init_2022-01-1209_28_08.467547/model-00001-1.61294-0.39065-2.10230-0.21000.h5\n",
            "23/23 [==============================] - 154s 7s/step - loss: 1.6129 - categorical_accuracy: 0.3906 - val_loss: 2.1023 - val_categorical_accuracy: 0.2100 - lr: 0.0010\n",
            "Epoch 2/2\n",
            "23/23 [==============================] - ETA: 0s - loss: 1.1410 - categorical_accuracy: 0.5626\n",
            "Epoch 00002: val_loss did not improve from 2.10230\n",
            "23/23 [==============================] - 153s 7s/step - loss: 1.1410 - categorical_accuracy: 0.5626 - val_loss: 3.4804 - val_categorical_accuracy: 0.2100 - lr: 0.0010\n"
          ]
        },
        {
          "output_type": "execute_result",
          "data": {
            "text/plain": [
              "<keras.callbacks.History at 0x7fb77fd83350>"
            ]
          },
          "metadata": {},
          "execution_count": 19
        }
      ],
      "source": [
        "conv_3d1=ModelConv3D1()\n",
        "conv_3d1.initialize_path(project_folder)\n",
        "conv_3d1.initialize_image_properties(image_height=100,image_width=100)\n",
        "conv_3d1.initialize_hyperparams(frames_to_sample=20,batch_size=30,num_epochs=2)\n",
        "conv_3d1_model=conv_3d1.define_model()\n",
        "print(\"Total Params:\", conv_3d1_model.count_params())\n",
        "conv_3d1.train_model(conv_3d1_model)"
      ]
    },
    {
      "cell_type": "code",
      "execution_count": 20,
      "metadata": {
        "colab": {
          "base_uri": "https://localhost:8080/"
        },
        "id": "mAKyiOZmpFwb",
        "outputId": "fa4c6f52-537f-401c-c061-e7a2e4ce02cd"
      },
      "outputs": [
        {
          "output_type": "stream",
          "name": "stdout",
          "text": [
            "Total Params: 687813\n",
            "WARNING:tensorflow:`period` argument is deprecated. Please use `save_freq` to specify the frequency in number of batches seen.\n",
            "Epoch 1/2\n",
            "34/34 [==============================] - ETA: 0s - loss: 1.6475 - categorical_accuracy: 0.3952\n",
            "Epoch 00001: val_loss improved from inf to 2.26215, saving model to model_init_2022-01-1209_33_20.678799/model-00001-1.64752-0.39517-2.26215-0.16000.h5\n",
            "34/34 [==============================] - 222s 7s/step - loss: 1.6475 - categorical_accuracy: 0.3952 - val_loss: 2.2622 - val_categorical_accuracy: 0.1600 - lr: 0.0010\n",
            "Epoch 2/2\n",
            "34/34 [==============================] - ETA: 0s - loss: 1.0727 - categorical_accuracy: 0.5837\n",
            "Epoch 00002: val_loss did not improve from 2.26215\n",
            "34/34 [==============================] - 226s 7s/step - loss: 1.0727 - categorical_accuracy: 0.5837 - val_loss: 3.1622 - val_categorical_accuracy: 0.1800 - lr: 0.0010\n"
          ]
        },
        {
          "output_type": "execute_result",
          "data": {
            "text/plain": [
              "<keras.callbacks.History at 0x7fb77f15e110>"
            ]
          },
          "metadata": {},
          "execution_count": 20
        }
      ],
      "source": [
        "conv_3d1=ModelConv3D1()\n",
        "conv_3d1.initialize_path(project_folder)\n",
        "conv_3d1.initialize_image_properties(image_height=100,image_width=100)\n",
        "conv_3d1.initialize_hyperparams(frames_to_sample=30,batch_size=20,num_epochs=2)\n",
        "conv_3d1_model=conv_3d1.define_model()\n",
        "print(\"Total Params:\", conv_3d1_model.count_params())\n",
        "conv_3d1.train_model(conv_3d1_model)"
      ]
    },
    {
      "cell_type": "code",
      "execution_count": 21,
      "metadata": {
        "colab": {
          "base_uri": "https://localhost:8080/"
        },
        "id": "2KIgw_zZpFwb",
        "outputId": "5835c5f8-b903-4879-de13-2567f41d3af9"
      },
      "outputs": [
        {
          "output_type": "stream",
          "name": "stdout",
          "text": [
            "Total Params: 1736389\n",
            "WARNING:tensorflow:`period` argument is deprecated. Please use `save_freq` to specify the frequency in number of batches seen.\n",
            "Epoch 1/2\n",
            "45/45 [==============================] - ETA: 0s - loss: 1.6521 - categorical_accuracy: 0.3982\n",
            "Epoch 00001: val_loss improved from inf to 7.62859, saving model to model_init_2022-01-1209_41_48.851254/model-00001-1.65205-0.39819-7.62859-0.16000.h5\n",
            "45/45 [==============================] - 268s 6s/step - loss: 1.6521 - categorical_accuracy: 0.3982 - val_loss: 7.6286 - val_categorical_accuracy: 0.1600 - lr: 0.0010\n",
            "Epoch 2/2\n",
            "45/45 [==============================] - ETA: 0s - loss: 1.1882 - categorical_accuracy: 0.5415\n",
            "Epoch 00002: val_loss did not improve from 7.62859\n",
            "45/45 [==============================] - 264s 6s/step - loss: 1.1882 - categorical_accuracy: 0.5415 - val_loss: 12.9789 - val_categorical_accuracy: 0.1900 - lr: 0.0010\n"
          ]
        },
        {
          "output_type": "execute_result",
          "data": {
            "text/plain": [
              "<keras.callbacks.History at 0x7fb77e0b2310>"
            ]
          },
          "metadata": {},
          "execution_count": 21
        }
      ],
      "source": [
        "conv_3d1=ModelConv3D1()\n",
        "conv_3d1.initialize_path(project_folder)\n",
        "conv_3d1.initialize_image_properties(image_height=160,image_width=160)\n",
        "conv_3d1.initialize_hyperparams(frames_to_sample=30,batch_size=15,num_epochs=2)\n",
        "conv_3d1_model=conv_3d1.define_model()\n",
        "print(\"Total Params:\", conv_3d1_model.count_params())\n",
        "conv_3d1.train_model(conv_3d1_model)"
      ]
    },
    {
      "cell_type": "code",
      "execution_count": 22,
      "metadata": {
        "colab": {
          "base_uri": "https://localhost:8080/"
        },
        "id": "kCyu69eapFwb",
        "outputId": "4309cdc5-7515-4718-dcec-b991ed644b8c"
      },
      "outputs": [
        {
          "output_type": "stream",
          "name": "stdout",
          "text": [
            "Total Params: 1736389\n",
            "WARNING:tensorflow:`period` argument is deprecated. Please use `save_freq` to specify the frequency in number of batches seen.\n",
            "Epoch 1/2\n",
            "23/23 [==============================] - ETA: 0s - loss: 1.4571 - categorical_accuracy: 0.4299\n",
            "Epoch 00001: val_loss improved from inf to 1.90687, saving model to model_init_2022-01-1209_51_18.284956/model-00001-1.45709-0.42986-1.90687-0.18000.h5\n",
            "23/23 [==============================] - 136s 6s/step - loss: 1.4571 - categorical_accuracy: 0.4299 - val_loss: 1.9069 - val_categorical_accuracy: 0.1800 - lr: 0.0010\n",
            "Epoch 2/2\n",
            "23/23 [==============================] - ETA: 0s - loss: 0.9416 - categorical_accuracy: 0.6380\n",
            "Epoch 00002: val_loss did not improve from 1.90687\n",
            "23/23 [==============================] - 138s 6s/step - loss: 0.9416 - categorical_accuracy: 0.6380 - val_loss: 3.7974 - val_categorical_accuracy: 0.1900 - lr: 0.0010\n"
          ]
        },
        {
          "output_type": "execute_result",
          "data": {
            "text/plain": [
              "<keras.callbacks.History at 0x7fb7747f3710>"
            ]
          },
          "metadata": {},
          "execution_count": 22
        }
      ],
      "source": [
        "conv_3d1=ModelConv3D1()\n",
        "conv_3d1.initialize_path(project_folder)\n",
        "conv_3d1.initialize_image_properties(image_height=160,image_width=160)\n",
        "conv_3d1.initialize_hyperparams(frames_to_sample=16,batch_size=30,num_epochs=2)\n",
        "conv_3d1_model=conv_3d1.define_model()\n",
        "print(\"Total Params:\", conv_3d1_model.count_params())\n",
        "conv_3d1.train_model(conv_3d1_model)"
      ]
    },
    {
      "cell_type": "markdown",
      "metadata": {
        "id": "rtYF4QnkpFwc"
      },
      "source": [
        "- As we see from the above experiments **\"image resolution\"** and **number of frames** in sequence have more impact on training time than **batch_size**\n",
        "- We can consider the Batch Size around 15-40\n",
        "- We will change the resoulution 160 * 160, 120 * 120 according the model performance\n"
      ]
    },
    {
      "cell_type": "markdown",
      "metadata": {
        "id": "IlkEU_8ApFwc"
      },
      "source": [
        "## Model 1\n",
        "### Base Model - Batch Size = 40 and No. of Epochs = 20"
      ]
    },
    {
      "cell_type": "code",
      "execution_count": 23,
      "metadata": {
        "id": "Hl9IOqb5pFwc"
      },
      "outputs": [],
      "source": [
        "class ModelConv3D1(ModelBuilder):\n",
        "    \n",
        "    def define_model(self,filtersize=(3,3,3),dense_neurons=64,dropout=0.25):\n",
        "\n",
        "        model = Sequential()\n",
        "        model.add(Conv3D(16, filtersize, padding='same',\n",
        "                 input_shape=(self.frames_to_sample,self.image_height,self.image_width,self.channels)))\n",
        "        model.add(Activation('relu'))\n",
        "        model.add(BatchNormalization())\n",
        "        model.add(MaxPooling3D(pool_size=(2, 2, 2)))\n",
        "\n",
        "        model.add(Conv3D(32, filtersize, padding='same'))\n",
        "        model.add(Activation('relu'))\n",
        "        model.add(BatchNormalization())\n",
        "        model.add(MaxPooling3D(pool_size=(2, 2, 2)))\n",
        "\n",
        "        model.add(Conv3D(64, filtersize, padding='same'))\n",
        "        model.add(Activation('relu'))\n",
        "        model.add(BatchNormalization())\n",
        "        model.add(MaxPooling3D(pool_size=(2, 2, 2)))\n",
        "\n",
        "        model.add(Conv3D(128, filtersize, padding='same'))\n",
        "        model.add(Activation('relu'))\n",
        "        model.add(BatchNormalization())\n",
        "        model.add(MaxPooling3D(pool_size=(2, 2, 2)))\n",
        "\n",
        "        model.add(Flatten())\n",
        "        model.add(Dense(dense_neurons,activation='relu'))\n",
        "        model.add(BatchNormalization())\n",
        "        model.add(Dropout(dropout))\n",
        "\n",
        "        model.add(Dense(dense_neurons,activation='relu'))\n",
        "        model.add(BatchNormalization())\n",
        "        model.add(Dropout(dropout))\n",
        "\n",
        "\n",
        "        model.add(Dense(self.num_classes,activation='softmax'))\n",
        "\n",
        "        optimiser = tf.optimizers.Adam()\n",
        "        model.compile(optimizer=optimiser, loss='categorical_crossentropy', metrics=['categorical_accuracy'])\n",
        "        return model"
      ]
    },
    {
      "cell_type": "code",
      "execution_count": 24,
      "metadata": {
        "colab": {
          "base_uri": "https://localhost:8080/"
        },
        "id": "xR0NR0L1pFwc",
        "outputId": "21edc275-3a94-48ba-f688-b3d6ed558e6d"
      },
      "outputs": [
        {
          "output_type": "stream",
          "name": "stdout",
          "text": [
            "Model: \"sequential_5\"\n",
            "_________________________________________________________________\n",
            " Layer (type)                Output Shape              Param #   \n",
            "=================================================================\n",
            " conv3d_20 (Conv3D)          (None, 20, 160, 160, 16)  1312      \n",
            "                                                                 \n",
            " activation_20 (Activation)  (None, 20, 160, 160, 16)  0         \n",
            "                                                                 \n",
            " batch_normalization_30 (Bat  (None, 20, 160, 160, 16)  64       \n",
            " chNormalization)                                                \n",
            "                                                                 \n",
            " max_pooling3d_20 (MaxPoolin  (None, 10, 80, 80, 16)   0         \n",
            " g3D)                                                            \n",
            "                                                                 \n",
            " conv3d_21 (Conv3D)          (None, 10, 80, 80, 32)    13856     \n",
            "                                                                 \n",
            " activation_21 (Activation)  (None, 10, 80, 80, 32)    0         \n",
            "                                                                 \n",
            " batch_normalization_31 (Bat  (None, 10, 80, 80, 32)   128       \n",
            " chNormalization)                                                \n",
            "                                                                 \n",
            " max_pooling3d_21 (MaxPoolin  (None, 5, 40, 40, 32)    0         \n",
            " g3D)                                                            \n",
            "                                                                 \n",
            " conv3d_22 (Conv3D)          (None, 5, 40, 40, 64)     55360     \n",
            "                                                                 \n",
            " activation_22 (Activation)  (None, 5, 40, 40, 64)     0         \n",
            "                                                                 \n",
            " batch_normalization_32 (Bat  (None, 5, 40, 40, 64)    256       \n",
            " chNormalization)                                                \n",
            "                                                                 \n",
            " max_pooling3d_22 (MaxPoolin  (None, 2, 20, 20, 64)    0         \n",
            " g3D)                                                            \n",
            "                                                                 \n",
            " conv3d_23 (Conv3D)          (None, 2, 20, 20, 128)    221312    \n",
            "                                                                 \n",
            " activation_23 (Activation)  (None, 2, 20, 20, 128)    0         \n",
            "                                                                 \n",
            " batch_normalization_33 (Bat  (None, 2, 20, 20, 128)   512       \n",
            " chNormalization)                                                \n",
            "                                                                 \n",
            " max_pooling3d_23 (MaxPoolin  (None, 1, 10, 10, 128)   0         \n",
            " g3D)                                                            \n",
            "                                                                 \n",
            " flatten_5 (Flatten)         (None, 12800)             0         \n",
            "                                                                 \n",
            " dense_15 (Dense)            (None, 64)                819264    \n",
            "                                                                 \n",
            " batch_normalization_34 (Bat  (None, 64)               256       \n",
            " chNormalization)                                                \n",
            "                                                                 \n",
            " dropout_10 (Dropout)        (None, 64)                0         \n",
            "                                                                 \n",
            " dense_16 (Dense)            (None, 64)                4160      \n",
            "                                                                 \n",
            " batch_normalization_35 (Bat  (None, 64)               256       \n",
            " chNormalization)                                                \n",
            "                                                                 \n",
            " dropout_11 (Dropout)        (None, 64)                0         \n",
            "                                                                 \n",
            " dense_17 (Dense)            (None, 5)                 325       \n",
            "                                                                 \n",
            "=================================================================\n",
            "Total params: 1,117,061\n",
            "Trainable params: 1,116,325\n",
            "Non-trainable params: 736\n",
            "_________________________________________________________________\n"
          ]
        }
      ],
      "source": [
        "conv_3d1=ModelConv3D1()\n",
        "conv_3d1.initialize_path(project_folder)\n",
        "conv_3d1.initialize_image_properties(image_height=160,image_width=160)\n",
        "conv_3d1.initialize_hyperparams(frames_to_sample=20,batch_size=40,num_epochs=20)\n",
        "conv_3d1_model=conv_3d1.define_model()\n",
        "conv_3d1_model.summary()"
      ]
    },
    {
      "cell_type": "code",
      "execution_count": 25,
      "metadata": {
        "scrolled": false,
        "colab": {
          "base_uri": "https://localhost:8080/"
        },
        "id": "OeNgRj1MpFwc",
        "outputId": "9790edb5-8df1-4f8a-fea3-645142ffd53c"
      },
      "outputs": [
        {
          "output_type": "stream",
          "name": "stdout",
          "text": [
            "Total Params: 1117061\n",
            "WARNING:tensorflow:`period` argument is deprecated. Please use `save_freq` to specify the frequency in number of batches seen.\n",
            "Epoch 1/20\n",
            "17/17 [==============================] - ETA: 0s - loss: 1.6555 - categorical_accuracy: 0.3771\n",
            "Epoch 00001: val_loss improved from inf to 2.48571, saving model to model_init_2022-01-1209_56_47.644006/model-00001-1.65554-0.37707-2.48571-0.16000.h5\n",
            "17/17 [==============================] - 181s 11s/step - loss: 1.6555 - categorical_accuracy: 0.3771 - val_loss: 2.4857 - val_categorical_accuracy: 0.1600 - lr: 0.0010\n",
            "Epoch 2/20\n",
            "17/17 [==============================] - ETA: 0s - loss: 1.1664 - categorical_accuracy: 0.5415\n",
            "Epoch 00002: val_loss did not improve from 2.48571\n",
            "17/17 [==============================] - 172s 11s/step - loss: 1.1664 - categorical_accuracy: 0.5415 - val_loss: 3.2260 - val_categorical_accuracy: 0.1700 - lr: 0.0010\n",
            "Epoch 3/20\n",
            "17/17 [==============================] - ETA: 0s - loss: 0.8946 - categorical_accuracy: 0.6425\n",
            "Epoch 00003: val_loss did not improve from 2.48571\n",
            "17/17 [==============================] - 171s 11s/step - loss: 0.8946 - categorical_accuracy: 0.6425 - val_loss: 2.6197 - val_categorical_accuracy: 0.1500 - lr: 0.0010\n",
            "Epoch 4/20\n",
            "17/17 [==============================] - ETA: 0s - loss: 0.6674 - categorical_accuracy: 0.7436\n",
            "Epoch 00004: val_loss did not improve from 2.48571\n",
            "17/17 [==============================] - 170s 11s/step - loss: 0.6674 - categorical_accuracy: 0.7436 - val_loss: 3.1280 - val_categorical_accuracy: 0.1600 - lr: 0.0010\n",
            "Epoch 5/20\n",
            "17/17 [==============================] - ETA: 0s - loss: 0.4978 - categorical_accuracy: 0.8175\n",
            "Epoch 00005: val_loss did not improve from 2.48571\n",
            "\n",
            "Epoch 00005: ReduceLROnPlateau reducing learning rate to 0.00020000000949949026.\n",
            "17/17 [==============================] - 177s 11s/step - loss: 0.4978 - categorical_accuracy: 0.8175 - val_loss: 3.4362 - val_categorical_accuracy: 0.2100 - lr: 0.0010\n",
            "Epoch 6/20\n",
            "17/17 [==============================] - ETA: 0s - loss: 0.3636 - categorical_accuracy: 0.8763\n",
            "Epoch 00006: val_loss did not improve from 2.48571\n",
            "17/17 [==============================] - 175s 11s/step - loss: 0.3636 - categorical_accuracy: 0.8763 - val_loss: 3.6607 - val_categorical_accuracy: 0.2000 - lr: 2.0000e-04\n",
            "Epoch 7/20\n",
            "17/17 [==============================] - ETA: 0s - loss: 0.2869 - categorical_accuracy: 0.9155\n",
            "Epoch 00007: val_loss did not improve from 2.48571\n",
            "17/17 [==============================] - 172s 11s/step - loss: 0.2869 - categorical_accuracy: 0.9155 - val_loss: 3.9843 - val_categorical_accuracy: 0.2400 - lr: 2.0000e-04\n",
            "Epoch 8/20\n",
            "17/17 [==============================] - ETA: 0s - loss: 0.3080 - categorical_accuracy: 0.9140\n",
            "Epoch 00008: val_loss did not improve from 2.48571\n",
            "17/17 [==============================] - 169s 11s/step - loss: 0.3080 - categorical_accuracy: 0.9140 - val_loss: 4.3576 - val_categorical_accuracy: 0.2400 - lr: 2.0000e-04\n",
            "Epoch 9/20\n",
            "17/17 [==============================] - ETA: 0s - loss: 0.2151 - categorical_accuracy: 0.9427\n",
            "Epoch 00009: val_loss did not improve from 2.48571\n",
            "\n",
            "Epoch 00009: ReduceLROnPlateau reducing learning rate to 4.0000001899898055e-05.\n",
            "17/17 [==============================] - 170s 11s/step - loss: 0.2151 - categorical_accuracy: 0.9427 - val_loss: 4.0923 - val_categorical_accuracy: 0.2700 - lr: 2.0000e-04\n",
            "Epoch 10/20\n",
            "17/17 [==============================] - ETA: 0s - loss: 0.2007 - categorical_accuracy: 0.9472\n",
            "Epoch 00010: val_loss did not improve from 2.48571\n",
            "17/17 [==============================] - 164s 10s/step - loss: 0.2007 - categorical_accuracy: 0.9472 - val_loss: 4.2132 - val_categorical_accuracy: 0.2700 - lr: 4.0000e-05\n",
            "Epoch 11/20\n",
            "17/17 [==============================] - ETA: 0s - loss: 0.2014 - categorical_accuracy: 0.9502\n",
            "Epoch 00011: val_loss did not improve from 2.48571\n",
            "17/17 [==============================] - 165s 10s/step - loss: 0.2014 - categorical_accuracy: 0.9502 - val_loss: 4.0518 - val_categorical_accuracy: 0.2900 - lr: 4.0000e-05\n",
            "Epoch 00011: early stopping\n"
          ]
        }
      ],
      "source": [
        "print(\"Total Params:\", conv_3d1_model.count_params())\n",
        "history_model1 = conv_3d1.train_model(conv_3d1_model)"
      ]
    },
    {
      "cell_type": "code",
      "execution_count": 26,
      "metadata": {
        "colab": {
          "base_uri": "https://localhost:8080/",
          "height": 264
        },
        "id": "ShLJIkzKpFwd",
        "outputId": "b4c5f1ba-03cd-41bf-a42e-703e3c032ddf"
      },
      "outputs": [
        {
          "output_type": "display_data",
          "data": {
            "image/png": "[encoded data removed]",
            "text/plain": [
              "<Figure size 1080x288 with 2 Axes>"
            ]
          },
          "metadata": {
            "needs_background": "light"
          }
        }
      ],
      "source": [
        "plot(history_model1)"
      ]
    },
    {
      "cell_type": "markdown",
      "metadata": {
        "id": "SNwZ_iR8pFwd"
      },
      "source": [
        "##### Model is clearly overfitting. :("
      ]
    },
    {
      "cell_type": "markdown",
      "metadata": {
        "id": "lhMi0JTRpFwd"
      },
      "source": [
        "## Model 2  \n",
        "### Adding dropout layers - Batch Size = 20 and No. of Epochs = 25"
      ]
    },
    {
      "cell_type": "code",
      "execution_count": 27,
      "metadata": {
        "colab": {
          "base_uri": "https://localhost:8080/"
        },
        "id": "2oGNkVgvpFwd",
        "outputId": "043ae591-ffc2-4645-84b4-4a7178dd0433"
      },
      "outputs": [
        {
          "output_type": "stream",
          "name": "stdout",
          "text": [
            "Model: \"sequential_6\"\n",
            "_________________________________________________________________\n",
            " Layer (type)                Output Shape              Param #   \n",
            "=================================================================\n",
            " conv3d_24 (Conv3D)          (None, 20, 160, 160, 16)  1312      \n",
            "                                                                 \n",
            " activation_24 (Activation)  (None, 20, 160, 160, 16)  0         \n",
            "                                                                 \n",
            " batch_normalization_36 (Bat  (None, 20, 160, 160, 16)  64       \n",
            " chNormalization)                                                \n",
            "                                                                 \n",
            " max_pooling3d_24 (MaxPoolin  (None, 10, 80, 80, 16)   0         \n",
            " g3D)                                                            \n",
            "                                                                 \n",
            " conv3d_25 (Conv3D)          (None, 10, 80, 80, 32)    13856     \n",
            "                                                                 \n",
            " activation_25 (Activation)  (None, 10, 80, 80, 32)    0         \n",
            "                                                                 \n",
            " batch_normalization_37 (Bat  (None, 10, 80, 80, 32)   128       \n",
            " chNormalization)                                                \n",
            "                                                                 \n",
            " max_pooling3d_25 (MaxPoolin  (None, 5, 40, 40, 32)    0         \n",
            " g3D)                                                            \n",
            "                                                                 \n",
            " conv3d_26 (Conv3D)          (None, 5, 40, 40, 64)     55360     \n",
            "                                                                 \n",
            " activation_26 (Activation)  (None, 5, 40, 40, 64)     0         \n",
            "                                                                 \n",
            " batch_normalization_38 (Bat  (None, 5, 40, 40, 64)    256       \n",
            " chNormalization)                                                \n",
            "                                                                 \n",
            " max_pooling3d_26 (MaxPoolin  (None, 2, 20, 20, 64)    0         \n",
            " g3D)                                                            \n",
            "                                                                 \n",
            " conv3d_27 (Conv3D)          (None, 2, 20, 20, 128)    221312    \n",
            "                                                                 \n",
            " activation_27 (Activation)  (None, 2, 20, 20, 128)    0         \n",
            "                                                                 \n",
            " batch_normalization_39 (Bat  (None, 2, 20, 20, 128)   512       \n",
            " chNormalization)                                                \n",
            "                                                                 \n",
            " max_pooling3d_27 (MaxPoolin  (None, 1, 10, 10, 128)   0         \n",
            " g3D)                                                            \n",
            "                                                                 \n",
            " flatten_6 (Flatten)         (None, 12800)             0         \n",
            "                                                                 \n",
            " dense_18 (Dense)            (None, 256)               3277056   \n",
            "                                                                 \n",
            " batch_normalization_40 (Bat  (None, 256)              1024      \n",
            " chNormalization)                                                \n",
            "                                                                 \n",
            " dropout_12 (Dropout)        (None, 256)               0         \n",
            "                                                                 \n",
            " dense_19 (Dense)            (None, 256)               65792     \n",
            "                                                                 \n",
            " batch_normalization_41 (Bat  (None, 256)              1024      \n",
            " chNormalization)                                                \n",
            "                                                                 \n",
            " dropout_13 (Dropout)        (None, 256)               0         \n",
            "                                                                 \n",
            " dense_20 (Dense)            (None, 5)                 1285      \n",
            "                                                                 \n",
            "=================================================================\n",
            "Total params: 3,638,981\n",
            "Trainable params: 3,637,477\n",
            "Non-trainable params: 1,504\n",
            "_________________________________________________________________\n"
          ]
        }
      ],
      "source": [
        "conv_3d2=ModelConv3D1()\n",
        "conv_3d2.initialize_path(project_folder)\n",
        "conv_3d2.initialize_image_properties(image_height=160,image_width=160)\n",
        "conv_3d2.initialize_hyperparams(frames_to_sample=20,batch_size=20,num_epochs=25)\n",
        "conv_3d2_model=conv_3d2.define_model(dense_neurons=256,dropout=0.5)\n",
        "conv_3d2_model.summary()"
      ]
    },
    {
      "cell_type": "code",
      "execution_count": 28,
      "metadata": {
        "scrolled": false,
        "colab": {
          "base_uri": "https://localhost:8080/"
        },
        "id": "CIgsQGN8pFwd",
        "outputId": "354ffcf8-f183-420e-8205-11870d3f7fac"
      },
      "outputs": [
        {
          "output_type": "stream",
          "name": "stdout",
          "text": [
            "Total Params: 3638981\n",
            "WARNING:tensorflow:`period` argument is deprecated. Please use `save_freq` to specify the frequency in number of batches seen.\n",
            "Epoch 1/25\n",
            "34/34 [==============================] - ETA: 0s - loss: 1.9303 - categorical_accuracy: 0.3891\n",
            "Epoch 00001: val_loss improved from inf to 1.89853, saving model to model_init_2022-01-1210_29_20.753347/model-00001-1.93031-0.38914-1.89853-0.30000.h5\n",
            "34/34 [==============================] - 292s 9s/step - loss: 1.9303 - categorical_accuracy: 0.3891 - val_loss: 1.8985 - val_categorical_accuracy: 0.3000 - lr: 0.0010\n",
            "Epoch 2/25\n",
            "34/34 [==============================] - ETA: 0s - loss: 1.3225 - categorical_accuracy: 0.5407\n",
            "Epoch 00002: val_loss did not improve from 1.89853\n",
            "34/34 [==============================] - 287s 9s/step - loss: 1.3225 - categorical_accuracy: 0.5407 - val_loss: 3.3933 - val_categorical_accuracy: 0.1700 - lr: 0.0010\n",
            "Epoch 3/25\n",
            "34/34 [==============================] - ETA: 0s - loss: 1.1837 - categorical_accuracy: 0.5950\n",
            "Epoch 00003: val_loss did not improve from 1.89853\n",
            "34/34 [==============================] - 294s 9s/step - loss: 1.1837 - categorical_accuracy: 0.5950 - val_loss: 4.1270 - val_categorical_accuracy: 0.1900 - lr: 0.0010\n",
            "Epoch 4/25\n",
            "34/34 [==============================] - ETA: 0s - loss: 0.9371 - categorical_accuracy: 0.6546\n",
            "Epoch 00004: val_loss did not improve from 1.89853\n",
            "34/34 [==============================] - 289s 9s/step - loss: 0.9371 - categorical_accuracy: 0.6546 - val_loss: 6.2193 - val_categorical_accuracy: 0.1700 - lr: 0.0010\n",
            "Epoch 5/25\n",
            "34/34 [==============================] - ETA: 0s - loss: 0.9307 - categorical_accuracy: 0.6659\n",
            "Epoch 00005: val_loss did not improve from 1.89853\n",
            "\n",
            "Epoch 00005: ReduceLROnPlateau reducing learning rate to 0.00020000000949949026.\n",
            "34/34 [==============================] - 293s 9s/step - loss: 0.9307 - categorical_accuracy: 0.6659 - val_loss: 4.7557 - val_categorical_accuracy: 0.2500 - lr: 0.0010\n",
            "Epoch 6/25\n",
            "34/34 [==============================] - ETA: 0s - loss: 0.7177 - categorical_accuracy: 0.7338\n",
            "Epoch 00006: val_loss did not improve from 1.89853\n",
            "34/34 [==============================] - 293s 9s/step - loss: 0.7177 - categorical_accuracy: 0.7338 - val_loss: 4.2293 - val_categorical_accuracy: 0.2300 - lr: 2.0000e-04\n",
            "Epoch 7/25\n",
            "34/34 [==============================] - ETA: 0s - loss: 0.6313 - categorical_accuracy: 0.7647\n",
            "Epoch 00007: val_loss did not improve from 1.89853\n",
            "34/34 [==============================] - 295s 9s/step - loss: 0.6313 - categorical_accuracy: 0.7647 - val_loss: 3.4737 - val_categorical_accuracy: 0.3100 - lr: 2.0000e-04\n",
            "Epoch 8/25\n",
            "34/34 [==============================] - ETA: 0s - loss: 0.5555 - categorical_accuracy: 0.7926\n",
            "Epoch 00008: val_loss did not improve from 1.89853\n",
            "34/34 [==============================] - 294s 9s/step - loss: 0.5555 - categorical_accuracy: 0.7926 - val_loss: 3.6195 - val_categorical_accuracy: 0.2800 - lr: 2.0000e-04\n",
            "Epoch 9/25\n",
            "34/34 [==============================] - ETA: 0s - loss: 0.5476 - categorical_accuracy: 0.7798\n",
            "Epoch 00009: val_loss did not improve from 1.89853\n",
            "\n",
            "Epoch 00009: ReduceLROnPlateau reducing learning rate to 4.0000001899898055e-05.\n",
            "34/34 [==============================] - 296s 9s/step - loss: 0.5476 - categorical_accuracy: 0.7798 - val_loss: 3.5677 - val_categorical_accuracy: 0.2900 - lr: 2.0000e-04\n",
            "Epoch 10/25\n",
            "34/34 [==============================] - ETA: 0s - loss: 0.5067 - categorical_accuracy: 0.8069\n",
            "Epoch 00010: val_loss did not improve from 1.89853\n",
            "34/34 [==============================] - 293s 9s/step - loss: 0.5067 - categorical_accuracy: 0.8069 - val_loss: 3.0576 - val_categorical_accuracy: 0.3600 - lr: 4.0000e-05\n",
            "Epoch 11/25\n",
            "34/34 [==============================] - ETA: 0s - loss: 0.5225 - categorical_accuracy: 0.8092\n",
            "Epoch 00011: val_loss did not improve from 1.89853\n",
            "34/34 [==============================] - 297s 9s/step - loss: 0.5225 - categorical_accuracy: 0.8092 - val_loss: 2.8048 - val_categorical_accuracy: 0.3700 - lr: 4.0000e-05\n",
            "Epoch 00011: early stopping\n"
          ]
        }
      ],
      "source": [
        "print(\"Total Params:\", conv_3d2_model.count_params())\n",
        "history_model2=conv_3d2.train_model(conv_3d2_model,augment_data=True)"
      ]
    },
    {
      "cell_type": "code",
      "execution_count": 29,
      "metadata": {
        "id": "OgQLOt2YpFwe",
        "colab": {
          "base_uri": "https://localhost:8080/",
          "height": 264
        },
        "outputId": "2e7908a4-cd08-411a-e855-ab9e87817135"
      },
      "outputs": [
        {
          "output_type": "display_data",
          "data": {
            "image/png": "[encoded data removed]",
            "text/plain": [
              "<Figure size 1080x288 with 2 Axes>"
            ]
          },
          "metadata": {
            "needs_background": "light"
          }
        }
      ],
      "source": [
        "plot(history_model2)"
      ]
    },
    {
      "cell_type": "markdown",
      "metadata": {
        "id": "35e6lVPipFwe"
      },
      "source": [
        "##### We can see  val_loss did not improve from 1.24219 so earlystopping stops the epoch automatically!! \n",
        "- Last Epoch stop on 15/25!! good job earlystopping ;)\n",
        "- Best weights save automatically. The validation accuracy of 52% and training accuracy of 65%. Next we will try to reduce the filter size and image resolution and see if get better results. Moreover since we see minor oscillations  in loss, let's try lowering the learning rate to 0.0002"
      ]
    },
    {
      "cell_type": "markdown",
      "metadata": {
        "id": "lmo57kxjpFwe"
      },
      "source": [
        "## Model 3 \n",
        "### Reduce filter size to (2,2,2) and image res to 120 x  120, - Batch Size = 30 and No. of Epochs = 25"
      ]
    },
    {
      "cell_type": "code",
      "execution_count": 30,
      "metadata": {
        "id": "eEvWmcgJpFwe"
      },
      "outputs": [],
      "source": [
        "class ModelConv3D3(ModelBuilder):\n",
        "    \n",
        "    def define_model(self,filtersize=(3,3,3),dense_neurons=64,dropout=0.25):\n",
        "\n",
        "        model = Sequential()\n",
        "        model.add(Conv3D(16, filtersize, padding='same',\n",
        "                 input_shape=(self.frames_to_sample,self.image_height,self.image_width,self.channels)))\n",
        "        model.add(Activation('relu'))\n",
        "        model.add(BatchNormalization())\n",
        "        model.add(MaxPooling3D(pool_size=(2, 2, 2)))\n",
        "\n",
        "        model.add(Conv3D(32, filtersize, padding='same'))\n",
        "        model.add(Activation('relu'))\n",
        "        model.add(BatchNormalization())\n",
        "        model.add(MaxPooling3D(pool_size=(2, 2, 2)))\n",
        "\n",
        "        model.add(Conv3D(64, filtersize, padding='same'))\n",
        "        model.add(Activation('relu'))\n",
        "        model.add(BatchNormalization())\n",
        "        model.add(MaxPooling3D(pool_size=(2, 2, 2)))\n",
        "\n",
        "        model.add(Conv3D(128, filtersize, padding='same'))\n",
        "        model.add(Activation('relu'))\n",
        "        model.add(BatchNormalization())\n",
        "        model.add(MaxPooling3D(pool_size=(2, 2, 2)))\n",
        "\n",
        "        model.add(Flatten())\n",
        "        model.add(Dense(dense_neurons,activation='relu'))\n",
        "        model.add(BatchNormalization())\n",
        "        model.add(Dropout(dropout))\n",
        "\n",
        "        model.add(Dense(dense_neurons,activation='relu'))\n",
        "        model.add(BatchNormalization())\n",
        "        model.add(Dropout(dropout))\n",
        "\n",
        "\n",
        "        model.add(Dense(self.num_classes,activation='softmax'))\n",
        "        \n",
        "        optimiser = tf.optimizers.Adam(lr=0.0002)\n",
        "        model.compile(optimizer=optimiser, loss='categorical_crossentropy', metrics=['categorical_accuracy'])\n",
        "        return model"
      ]
    },
    {
      "cell_type": "code",
      "execution_count": 31,
      "metadata": {
        "id": "oxU5prpjpFwe",
        "colab": {
          "base_uri": "https://localhost:8080/"
        },
        "outputId": "6a534353-7974-44ba-dd6b-ae0efab816ea"
      },
      "outputs": [
        {
          "output_type": "stream",
          "name": "stdout",
          "text": [
            "Model: \"sequential_7\"\n",
            "_________________________________________________________________\n",
            " Layer (type)                Output Shape              Param #   \n",
            "=================================================================\n",
            " conv3d_28 (Conv3D)          (None, 16, 120, 120, 16)  400       \n",
            "                                                                 \n",
            " activation_28 (Activation)  (None, 16, 120, 120, 16)  0         \n",
            "                                                                 \n",
            " batch_normalization_42 (Bat  (None, 16, 120, 120, 16)  64       \n",
            " chNormalization)                                                \n",
            "                                                                 \n",
            " max_pooling3d_28 (MaxPoolin  (None, 8, 60, 60, 16)    0         \n",
            " g3D)                                                            \n",
            "                                                                 \n",
            " conv3d_29 (Conv3D)          (None, 8, 60, 60, 32)     4128      \n",
            "                                                                 \n",
            " activation_29 (Activation)  (None, 8, 60, 60, 32)     0         \n",
            "                                                                 \n",
            " batch_normalization_43 (Bat  (None, 8, 60, 60, 32)    128       \n",
            " chNormalization)                                                \n",
            "                                                                 \n",
            " max_pooling3d_29 (MaxPoolin  (None, 4, 30, 30, 32)    0         \n",
            " g3D)                                                            \n",
            "                                                                 \n",
            " conv3d_30 (Conv3D)          (None, 4, 30, 30, 64)     16448     \n",
            "                                                                 \n",
            " activation_30 (Activation)  (None, 4, 30, 30, 64)     0         \n",
            "                                                                 \n",
            " batch_normalization_44 (Bat  (None, 4, 30, 30, 64)    256       \n",
            " chNormalization)                                                \n",
            "                                                                 \n",
            " max_pooling3d_30 (MaxPoolin  (None, 2, 15, 15, 64)    0         \n",
            " g3D)                                                            \n",
            "                                                                 \n",
            " conv3d_31 (Conv3D)          (None, 2, 15, 15, 128)    65664     \n",
            "                                                                 \n",
            " activation_31 (Activation)  (None, 2, 15, 15, 128)    0         \n",
            "                                                                 \n",
            " batch_normalization_45 (Bat  (None, 2, 15, 15, 128)   512       \n",
            " chNormalization)                                                \n",
            "                                                                 \n",
            " max_pooling3d_31 (MaxPoolin  (None, 1, 7, 7, 128)     0         \n",
            " g3D)                                                            \n",
            "                                                                 \n",
            " flatten_7 (Flatten)         (None, 6272)              0         \n",
            "                                                                 \n",
            " dense_21 (Dense)            (None, 256)               1605888   \n",
            "                                                                 \n",
            " batch_normalization_46 (Bat  (None, 256)              1024      \n",
            " chNormalization)                                                \n",
            "                                                                 \n",
            " dropout_14 (Dropout)        (None, 256)               0         \n",
            "                                                                 \n",
            " dense_22 (Dense)            (None, 256)               65792     \n",
            "                                                                 \n",
            " batch_normalization_47 (Bat  (None, 256)              1024      \n",
            " chNormalization)                                                \n",
            "                                                                 \n",
            " dropout_15 (Dropout)        (None, 256)               0         \n",
            "                                                                 \n",
            " dense_23 (Dense)            (None, 5)                 1285      \n",
            "                                                                 \n",
            "=================================================================\n",
            "Total params: 1,762,613\n",
            "Trainable params: 1,761,109\n",
            "Non-trainable params: 1,504\n",
            "_________________________________________________________________\n"
          ]
        }
      ],
      "source": [
        "conv_3d3=ModelConv3D3()\n",
        "conv_3d3.initialize_path(project_folder)\n",
        "conv_3d3.initialize_image_properties(image_height=120,image_width=120)\n",
        "conv_3d3.initialize_hyperparams(frames_to_sample=16,batch_size=30,num_epochs=25)\n",
        "conv_3d3_model=conv_3d3.define_model(filtersize=(2,2,2),dense_neurons=256,dropout=0.5)\n",
        "conv_3d3_model.summary()"
      ]
    },
    {
      "cell_type": "code",
      "execution_count": 32,
      "metadata": {
        "scrolled": false,
        "id": "zJ_CmUqYpFwe",
        "colab": {
          "base_uri": "https://localhost:8080/"
        },
        "outputId": "a24c49b2-a865-49e5-8628-0594d62881b9"
      },
      "outputs": [
        {
          "output_type": "stream",
          "name": "stdout",
          "text": [
            "Total Params: 1762613\n",
            "WARNING:tensorflow:`period` argument is deprecated. Please use `save_freq` to specify the frequency in number of batches seen.\n",
            "Epoch 1/25\n",
            "23/23 [==============================] - ETA: 0s - loss: 2.1748 - categorical_accuracy: 0.3379\n",
            "Epoch 00001: val_loss improved from inf to 1.74464, saving model to model_init_2022-01-1211_23_53.168862/model-00001-2.17484-0.33786-1.74464-0.14000.h5\n",
            "23/23 [==============================] - 213s 10s/step - loss: 2.1748 - categorical_accuracy: 0.3379 - val_loss: 1.7446 - val_categorical_accuracy: 0.1400 - lr: 2.0000e-04\n",
            "Epoch 2/25\n",
            "23/23 [==============================] - ETA: 0s - loss: 1.4330 - categorical_accuracy: 0.5166\n",
            "Epoch 00002: val_loss did not improve from 1.74464\n",
            "23/23 [==============================] - 210s 10s/step - loss: 1.4330 - categorical_accuracy: 0.5166 - val_loss: 2.3422 - val_categorical_accuracy: 0.2200 - lr: 2.0000e-04\n",
            "Epoch 3/25\n",
            "23/23 [==============================] - ETA: 0s - loss: 1.2709 - categorical_accuracy: 0.5475\n",
            "Epoch 00003: val_loss did not improve from 1.74464\n",
            "23/23 [==============================] - 215s 10s/step - loss: 1.2709 - categorical_accuracy: 0.5475 - val_loss: 2.6549 - val_categorical_accuracy: 0.1900 - lr: 2.0000e-04\n",
            "Epoch 4/25\n",
            "23/23 [==============================] - ETA: 0s - loss: 1.1377 - categorical_accuracy: 0.6026\n",
            "Epoch 00004: val_loss did not improve from 1.74464\n",
            "23/23 [==============================] - 203s 9s/step - loss: 1.1377 - categorical_accuracy: 0.6026 - val_loss: 3.2917 - val_categorical_accuracy: 0.1600 - lr: 2.0000e-04\n",
            "Epoch 5/25\n",
            "23/23 [==============================] - ETA: 0s - loss: 1.0726 - categorical_accuracy: 0.6207\n",
            "Epoch 00005: val_loss did not improve from 1.74464\n",
            "\n",
            "Epoch 00005: ReduceLROnPlateau reducing learning rate to 3.9999998989515007e-05.\n",
            "23/23 [==============================] - 205s 9s/step - loss: 1.0726 - categorical_accuracy: 0.6207 - val_loss: 3.5096 - val_categorical_accuracy: 0.1600 - lr: 2.0000e-04\n",
            "Epoch 6/25\n",
            "23/23 [==============================] - ETA: 0s - loss: 1.0030 - categorical_accuracy: 0.6373\n",
            "Epoch 00006: val_loss did not improve from 1.74464\n",
            "23/23 [==============================] - 198s 9s/step - loss: 1.0030 - categorical_accuracy: 0.6373 - val_loss: 3.5841 - val_categorical_accuracy: 0.1600 - lr: 4.0000e-05\n",
            "Epoch 7/25\n",
            "23/23 [==============================] - ETA: 0s - loss: 0.9206 - categorical_accuracy: 0.6682\n",
            "Epoch 00007: val_loss did not improve from 1.74464\n",
            "23/23 [==============================] - 201s 9s/step - loss: 0.9206 - categorical_accuracy: 0.6682 - val_loss: 4.5362 - val_categorical_accuracy: 0.1900 - lr: 4.0000e-05\n",
            "Epoch 8/25\n",
            "23/23 [==============================] - ETA: 0s - loss: 0.9389 - categorical_accuracy: 0.6659\n",
            "Epoch 00008: val_loss did not improve from 1.74464\n",
            "23/23 [==============================] - 207s 9s/step - loss: 0.9389 - categorical_accuracy: 0.6659 - val_loss: 4.7685 - val_categorical_accuracy: 0.1600 - lr: 4.0000e-05\n",
            "Epoch 9/25\n",
            "23/23 [==============================] - ETA: 0s - loss: 0.8607 - categorical_accuracy: 0.6840\n",
            "Epoch 00009: val_loss did not improve from 1.74464\n",
            "\n",
            "Epoch 00009: ReduceLROnPlateau reducing learning rate to 7.999999797903002e-06.\n",
            "23/23 [==============================] - 208s 9s/step - loss: 0.8607 - categorical_accuracy: 0.6840 - val_loss: 5.2906 - val_categorical_accuracy: 0.1600 - lr: 4.0000e-05\n",
            "Epoch 10/25\n",
            "23/23 [==============================] - ETA: 0s - loss: 0.8878 - categorical_accuracy: 0.6817\n",
            "Epoch 00010: val_loss did not improve from 1.74464\n",
            "23/23 [==============================] - 209s 9s/step - loss: 0.8878 - categorical_accuracy: 0.6817 - val_loss: 5.1883 - val_categorical_accuracy: 0.1400 - lr: 8.0000e-06\n",
            "Epoch 11/25\n",
            "23/23 [==============================] - ETA: 0s - loss: 0.8718 - categorical_accuracy: 0.6863\n",
            "Epoch 00011: val_loss did not improve from 1.74464\n",
            "23/23 [==============================] - 208s 9s/step - loss: 0.8718 - categorical_accuracy: 0.6863 - val_loss: 5.4410 - val_categorical_accuracy: 0.1500 - lr: 8.0000e-06\n",
            "Epoch 00011: early stopping\n"
          ]
        }
      ],
      "source": [
        "print(\"Total Params:\", conv_3d3_model.count_params())\n",
        "history_model3=conv_3d3.train_model(conv_3d3_model,augment_data=True)"
      ]
    },
    {
      "cell_type": "code",
      "execution_count": 33,
      "metadata": {
        "id": "lSJPHxOTpFwe",
        "colab": {
          "base_uri": "https://localhost:8080/",
          "height": 264
        },
        "outputId": "516b8810-090e-4ff8-f96a-6d51713ea322"
      },
      "outputs": [
        {
          "output_type": "display_data",
          "data": {
            "image/png": "[encoded data removed]",
            "text/plain": [
              "<Figure size 1080x288 with 2 Axes>"
            ]
          },
          "metadata": {
            "needs_background": "light"
          }
        }
      ],
      "source": [
        "plot(history_model3)"
      ]
    },
    {
      "cell_type": "markdown",
      "metadata": {
        "id": "1hBur1GZpFwf"
      },
      "source": [
        "##### Model has a  best validation accuracy of 72% and training accuracy of 76% . Also we were able to reduce the parameter size by half the earlier model. Let's trying adding more layers"
      ]
    },
    {
      "cell_type": "markdown",
      "metadata": {
        "id": "HS4qL3XPpFwf"
      },
      "source": [
        "## Model 4 - \n",
        "### Adding more layers - Batch Size = 20 and No. of Epochs = 25"
      ]
    },
    {
      "cell_type": "code",
      "execution_count": 34,
      "metadata": {
        "id": "mGMc_8jipFwf"
      },
      "outputs": [],
      "source": [
        "class ModelConv3D4(ModelBuilder):\n",
        "    \n",
        "    def define_model(self,filtersize=(3,3,3),dense_neurons=64,dropout=0.25):\n",
        "\n",
        "        model = Sequential()\n",
        "        model.add(Conv3D(16, filtersize, padding='same',\n",
        "                 input_shape=(self.frames_to_sample,self.image_height,self.image_width,self.channels)))\n",
        "        model.add(Activation('relu'))\n",
        "        model.add(BatchNormalization())\n",
        "        \n",
        "        model.add(Conv3D(16, filtersize, padding='same',\n",
        "                 input_shape=(self.frames_to_sample,self.image_height,self.image_width,self.channels)))\n",
        "        model.add(Activation('relu'))\n",
        "        model.add(BatchNormalization())\n",
        "        \n",
        "        model.add(MaxPooling3D(pool_size=(2, 2, 2)))\n",
        "\n",
        "        model.add(Conv3D(32, filtersize, padding='same'))\n",
        "        model.add(Activation('relu'))\n",
        "        model.add(BatchNormalization())\n",
        "        \n",
        "        model.add(Conv3D(32, filtersize, padding='same'))\n",
        "        model.add(Activation('relu'))\n",
        "        model.add(BatchNormalization())\n",
        "        \n",
        "        model.add(MaxPooling3D(pool_size=(2, 2, 2)))\n",
        "\n",
        "        model.add(Conv3D(64, filtersize, padding='same'))\n",
        "        model.add(Activation('relu'))\n",
        "        model.add(BatchNormalization())\n",
        "        \n",
        "        model.add(Conv3D(64, filtersize, padding='same'))\n",
        "        model.add(Activation('relu'))\n",
        "        model.add(BatchNormalization())\n",
        "        \n",
        "        model.add(MaxPooling3D(pool_size=(2, 2, 2)))\n",
        "\n",
        "        model.add(Conv3D(128, filtersize, padding='same'))\n",
        "        model.add(Activation('relu'))\n",
        "        model.add(BatchNormalization())\n",
        "        \n",
        "        model.add(Conv3D(128, filtersize, padding='same'))\n",
        "        model.add(Activation('relu'))\n",
        "        model.add(BatchNormalization())\n",
        "        \n",
        "        model.add(MaxPooling3D(pool_size=(2, 2, 2)))\n",
        "        \n",
        "\n",
        "        model.add(Flatten())\n",
        "        model.add(Dense(dense_neurons,activation='relu'))\n",
        "        model.add(BatchNormalization())\n",
        "        model.add(Dropout(dropout))\n",
        "\n",
        "        model.add(Dense(dense_neurons,activation='relu'))\n",
        "        model.add(BatchNormalization())\n",
        "        model.add(Dropout(dropout))\n",
        "\n",
        "\n",
        "        model.add(Dense(self.num_classes,activation='softmax'))\n",
        "\n",
        "        optimiser = tf.optimizers.Adam()\n",
        "        model.compile(optimizer=optimiser, loss='categorical_crossentropy', metrics=['categorical_accuracy'])\n",
        "        return model"
      ]
    },
    {
      "cell_type": "code",
      "execution_count": 35,
      "metadata": {
        "id": "lqEECucEpFwf",
        "colab": {
          "base_uri": "https://localhost:8080/"
        },
        "outputId": "0b4279f8-60ba-4b1a-f557-d97f6655d543"
      },
      "outputs": [
        {
          "output_type": "stream",
          "name": "stdout",
          "text": [
            "Model: \"sequential_8\"\n",
            "_________________________________________________________________\n",
            " Layer (type)                Output Shape              Param #   \n",
            "=================================================================\n",
            " conv3d_32 (Conv3D)          (None, 16, 120, 120, 16)  1312      \n",
            "                                                                 \n",
            " activation_32 (Activation)  (None, 16, 120, 120, 16)  0         \n",
            "                                                                 \n",
            " batch_normalization_48 (Bat  (None, 16, 120, 120, 16)  64       \n",
            " chNormalization)                                                \n",
            "                                                                 \n",
            " conv3d_33 (Conv3D)          (None, 16, 120, 120, 16)  6928      \n",
            "                                                                 \n",
            " activation_33 (Activation)  (None, 16, 120, 120, 16)  0         \n",
            "                                                                 \n",
            " batch_normalization_49 (Bat  (None, 16, 120, 120, 16)  64       \n",
            " chNormalization)                                                \n",
            "                                                                 \n",
            " max_pooling3d_32 (MaxPoolin  (None, 8, 60, 60, 16)    0         \n",
            " g3D)                                                            \n",
            "                                                                 \n",
            " conv3d_34 (Conv3D)          (None, 8, 60, 60, 32)     13856     \n",
            "                                                                 \n",
            " activation_34 (Activation)  (None, 8, 60, 60, 32)     0         \n",
            "                                                                 \n",
            " batch_normalization_50 (Bat  (None, 8, 60, 60, 32)    128       \n",
            " chNormalization)                                                \n",
            "                                                                 \n",
            " conv3d_35 (Conv3D)          (None, 8, 60, 60, 32)     27680     \n",
            "                                                                 \n",
            " activation_35 (Activation)  (None, 8, 60, 60, 32)     0         \n",
            "                                                                 \n",
            " batch_normalization_51 (Bat  (None, 8, 60, 60, 32)    128       \n",
            " chNormalization)                                                \n",
            "                                                                 \n",
            " max_pooling3d_33 (MaxPoolin  (None, 4, 30, 30, 32)    0         \n",
            " g3D)                                                            \n",
            "                                                                 \n",
            " conv3d_36 (Conv3D)          (None, 4, 30, 30, 64)     55360     \n",
            "                                                                 \n",
            " activation_36 (Activation)  (None, 4, 30, 30, 64)     0         \n",
            "                                                                 \n",
            " batch_normalization_52 (Bat  (None, 4, 30, 30, 64)    256       \n",
            " chNormalization)                                                \n",
            "                                                                 \n",
            " conv3d_37 (Conv3D)          (None, 4, 30, 30, 64)     110656    \n",
            "                                                                 \n",
            " activation_37 (Activation)  (None, 4, 30, 30, 64)     0         \n",
            "                                                                 \n",
            " batch_normalization_53 (Bat  (None, 4, 30, 30, 64)    256       \n",
            " chNormalization)                                                \n",
            "                                                                 \n",
            " max_pooling3d_34 (MaxPoolin  (None, 2, 15, 15, 64)    0         \n",
            " g3D)                                                            \n",
            "                                                                 \n",
            " conv3d_38 (Conv3D)          (None, 2, 15, 15, 128)    221312    \n",
            "                                                                 \n",
            " activation_38 (Activation)  (None, 2, 15, 15, 128)    0         \n",
            "                                                                 \n",
            " batch_normalization_54 (Bat  (None, 2, 15, 15, 128)   512       \n",
            " chNormalization)                                                \n",
            "                                                                 \n",
            " conv3d_39 (Conv3D)          (None, 2, 15, 15, 128)    442496    \n",
            "                                                                 \n",
            " activation_39 (Activation)  (None, 2, 15, 15, 128)    0         \n",
            "                                                                 \n",
            " batch_normalization_55 (Bat  (None, 2, 15, 15, 128)   512       \n",
            " chNormalization)                                                \n",
            "                                                                 \n",
            " max_pooling3d_35 (MaxPoolin  (None, 1, 7, 7, 128)     0         \n",
            " g3D)                                                            \n",
            "                                                                 \n",
            " flatten_8 (Flatten)         (None, 6272)              0         \n",
            "                                                                 \n",
            " dense_24 (Dense)            (None, 256)               1605888   \n",
            "                                                                 \n",
            " batch_normalization_56 (Bat  (None, 256)              1024      \n",
            " chNormalization)                                                \n",
            "                                                                 \n",
            " dropout_16 (Dropout)        (None, 256)               0         \n",
            "                                                                 \n",
            " dense_25 (Dense)            (None, 256)               65792     \n",
            "                                                                 \n",
            " batch_normalization_57 (Bat  (None, 256)              1024      \n",
            " chNormalization)                                                \n",
            "                                                                 \n",
            " dropout_17 (Dropout)        (None, 256)               0         \n",
            "                                                                 \n",
            " dense_26 (Dense)            (None, 5)                 1285      \n",
            "                                                                 \n",
            "=================================================================\n",
            "Total params: 2,556,533\n",
            "Trainable params: 2,554,549\n",
            "Non-trainable params: 1,984\n",
            "_________________________________________________________________\n"
          ]
        }
      ],
      "source": [
        "conv_3d4=ModelConv3D4()\n",
        "conv_3d4.initialize_path(project_folder)\n",
        "conv_3d4.initialize_image_properties(image_height=120,image_width=120)\n",
        "conv_3d4.initialize_hyperparams(frames_to_sample=16,batch_size=20,num_epochs=25)\n",
        "conv_3d4_model=conv_3d4.define_model(filtersize=(3,3,3),dense_neurons=256,dropout=0.5)\n",
        "conv_3d4_model.summary()"
      ]
    },
    {
      "cell_type": "code",
      "execution_count": 36,
      "metadata": {
        "scrolled": false,
        "id": "lzPi2SItpFwf",
        "colab": {
          "base_uri": "https://localhost:8080/"
        },
        "outputId": "5f2f1d7e-3e83-412b-abdc-3f7466f0cf86"
      },
      "outputs": [
        {
          "output_type": "stream",
          "name": "stdout",
          "text": [
            "Total Params: 2556533\n",
            "WARNING:tensorflow:`period` argument is deprecated. Please use `save_freq` to specify the frequency in number of batches seen.\n",
            "Epoch 1/25\n",
            "34/34 [==============================] - ETA: 0s - loss: 2.0046 - categorical_accuracy: 0.3529\n",
            "Epoch 00001: val_loss improved from inf to 2.09215, saving model to model_init_2022-01-1212_02_01.224938/model-00001-2.00460-0.35294-2.09215-0.21000.h5\n",
            "34/34 [==============================] - 214s 6s/step - loss: 2.0046 - categorical_accuracy: 0.3529 - val_loss: 2.0921 - val_categorical_accuracy: 0.2100 - lr: 0.0010\n",
            "Epoch 2/25\n",
            "34/34 [==============================] - ETA: 0s - loss: 1.5639 - categorical_accuracy: 0.4449\n",
            "Epoch 00002: val_loss did not improve from 2.09215\n",
            "34/34 [==============================] - 213s 6s/step - loss: 1.5639 - categorical_accuracy: 0.4449 - val_loss: 2.4257 - val_categorical_accuracy: 0.1900 - lr: 0.0010\n",
            "Epoch 3/25\n",
            "34/34 [==============================] - ETA: 0s - loss: 1.3121 - categorical_accuracy: 0.5392\n",
            "Epoch 00003: val_loss did not improve from 2.09215\n",
            "34/34 [==============================] - 218s 7s/step - loss: 1.3121 - categorical_accuracy: 0.5392 - val_loss: 2.7592 - val_categorical_accuracy: 0.1900 - lr: 0.0010\n",
            "Epoch 4/25\n",
            "34/34 [==============================] - ETA: 0s - loss: 1.1474 - categorical_accuracy: 0.5867\n",
            "Epoch 00004: val_loss did not improve from 2.09215\n",
            "34/34 [==============================] - 215s 6s/step - loss: 1.1474 - categorical_accuracy: 0.5867 - val_loss: 2.4708 - val_categorical_accuracy: 0.1800 - lr: 0.0010\n",
            "Epoch 5/25\n",
            "34/34 [==============================] - ETA: 0s - loss: 1.1085 - categorical_accuracy: 0.5754\n",
            "Epoch 00005: val_loss did not improve from 2.09215\n",
            "\n",
            "Epoch 00005: ReduceLROnPlateau reducing learning rate to 0.00020000000949949026.\n",
            "34/34 [==============================] - 219s 7s/step - loss: 1.1085 - categorical_accuracy: 0.5754 - val_loss: 2.3155 - val_categorical_accuracy: 0.2300 - lr: 0.0010\n",
            "Epoch 6/25\n",
            "34/34 [==============================] - ETA: 0s - loss: 0.8870 - categorical_accuracy: 0.6584\n",
            "Epoch 00006: val_loss did not improve from 2.09215\n",
            "34/34 [==============================] - 215s 7s/step - loss: 0.8870 - categorical_accuracy: 0.6584 - val_loss: 2.5627 - val_categorical_accuracy: 0.2100 - lr: 2.0000e-04\n",
            "Epoch 7/25\n",
            "34/34 [==============================] - ETA: 0s - loss: 0.8526 - categorical_accuracy: 0.6787\n",
            "Epoch 00007: val_loss did not improve from 2.09215\n",
            "34/34 [==============================] - 222s 7s/step - loss: 0.8526 - categorical_accuracy: 0.6787 - val_loss: 2.6599 - val_categorical_accuracy: 0.2500 - lr: 2.0000e-04\n",
            "Epoch 8/25\n",
            "34/34 [==============================] - ETA: 0s - loss: 0.7833 - categorical_accuracy: 0.7112\n",
            "Epoch 00008: val_loss did not improve from 2.09215\n",
            "34/34 [==============================] - 212s 6s/step - loss: 0.7833 - categorical_accuracy: 0.7112 - val_loss: 4.6546 - val_categorical_accuracy: 0.2400 - lr: 2.0000e-04\n",
            "Epoch 9/25\n",
            "34/34 [==============================] - ETA: 0s - loss: 0.7732 - categorical_accuracy: 0.7187\n",
            "Epoch 00009: val_loss did not improve from 2.09215\n",
            "\n",
            "Epoch 00009: ReduceLROnPlateau reducing learning rate to 4.0000001899898055e-05.\n",
            "34/34 [==============================] - 213s 6s/step - loss: 0.7732 - categorical_accuracy: 0.7187 - val_loss: 3.7898 - val_categorical_accuracy: 0.2200 - lr: 2.0000e-04\n",
            "Epoch 10/25\n",
            "34/34 [==============================] - ETA: 0s - loss: 0.7823 - categorical_accuracy: 0.7134\n",
            "Epoch 00010: val_loss did not improve from 2.09215\n",
            "34/34 [==============================] - 215s 7s/step - loss: 0.7823 - categorical_accuracy: 0.7134 - val_loss: 3.7739 - val_categorical_accuracy: 0.3000 - lr: 4.0000e-05\n",
            "Epoch 11/25\n",
            "34/34 [==============================] - ETA: 0s - loss: 0.6555 - categorical_accuracy: 0.7609\n",
            "Epoch 00011: val_loss did not improve from 2.09215\n",
            "34/34 [==============================] - 213s 6s/step - loss: 0.6555 - categorical_accuracy: 0.7609 - val_loss: 3.2954 - val_categorical_accuracy: 0.3000 - lr: 4.0000e-05\n",
            "Epoch 00011: early stopping\n"
          ]
        }
      ],
      "source": [
        "print(\"Total Params:\", conv_3d4_model.count_params())\n",
        "history_model4=conv_3d4.train_model(conv_3d4_model,augment_data=True)"
      ]
    },
    {
      "cell_type": "code",
      "execution_count": 37,
      "metadata": {
        "id": "6uDcAQyNpFwf",
        "colab": {
          "base_uri": "https://localhost:8080/",
          "height": 264
        },
        "outputId": "ca4f3787-b6e1-42ee-ed1e-c3445dca14db"
      },
      "outputs": [
        {
          "output_type": "display_data",
          "data": {
            "image/png": "[encoded data removed]",
            "text/plain": [
              "<Figure size 1080x288 with 2 Axes>"
            ]
          },
          "metadata": {
            "needs_background": "light"
          }
        }
      ],
      "source": [
        "plot(history_model4)"
      ]
    },
    {
      "cell_type": "markdown",
      "metadata": {
        "id": "Mw8Y0r8WpFwg"
      },
      "source": [
        "##### With more layers we dont see much performance improvement. We get a best validation accuracy of 76% . Let's try adding dropouts at the convolution layers"
      ]
    },
    {
      "cell_type": "markdown",
      "metadata": {
        "id": "RsenSTBUpFwg"
      },
      "source": [
        "## Model 5 \n",
        "### Adding dropout at convolution layers"
      ]
    },
    {
      "cell_type": "code",
      "execution_count": 38,
      "metadata": {
        "id": "sR8dxHTtpFwg"
      },
      "outputs": [],
      "source": [
        "class ModelConv3D5(ModelBuilder):\n",
        "    \n",
        "    def define_model(self,filtersize=(3,3,3),dense_neurons=64,dropout=0.25):\n",
        "\n",
        "        model = Sequential()\n",
        "        model.add(Conv3D(16, filtersize, padding='same',\n",
        "                 input_shape=(self.frames_to_sample,self.image_height,self.image_width,self.channels)))\n",
        "        model.add(Activation('relu'))\n",
        "        model.add(BatchNormalization())\n",
        "        \n",
        "        model.add(Conv3D(16, filtersize, padding='same',\n",
        "                 input_shape=(self.frames_to_sample,self.image_height,self.image_width,self.channels)))\n",
        "        model.add(Activation('relu'))\n",
        "        model.add(BatchNormalization())\n",
        "        \n",
        "        model.add(MaxPooling3D(pool_size=(2, 2, 2)))\n",
        "        model.add(Dropout(dropout))\n",
        "\n",
        "        model.add(Conv3D(32, filtersize, padding='same'))\n",
        "        model.add(Activation('relu'))\n",
        "        model.add(BatchNormalization())\n",
        "        \n",
        "        model.add(Conv3D(32, filtersize, padding='same'))\n",
        "        model.add(Activation('relu'))\n",
        "        model.add(BatchNormalization())\n",
        "        \n",
        "        model.add(MaxPooling3D(pool_size=(2, 2, 2)))\n",
        "        model.add(Dropout(dropout))\n",
        "\n",
        "        model.add(Conv3D(64, filtersize, padding='same'))\n",
        "        model.add(Activation('relu'))\n",
        "        model.add(BatchNormalization())\n",
        "        \n",
        "        model.add(Conv3D(64, filtersize, padding='same'))\n",
        "        model.add(Activation('relu'))\n",
        "        model.add(BatchNormalization())\n",
        "        \n",
        "        model.add(MaxPooling3D(pool_size=(2, 2, 2)))\n",
        "        model.add(Dropout(dropout))\n",
        "\n",
        "        model.add(Conv3D(128, filtersize, padding='same'))\n",
        "        model.add(Activation('relu'))\n",
        "        model.add(BatchNormalization())\n",
        "        \n",
        "        model.add(Conv3D(128, filtersize, padding='same'))\n",
        "        model.add(Activation('relu'))\n",
        "        model.add(BatchNormalization())\n",
        "        \n",
        "        model.add(MaxPooling3D(pool_size=(2, 2, 2)))\n",
        "        model.add(Dropout(dropout))\n",
        "        \n",
        "        model.add(Flatten())\n",
        "        model.add(Dense(dense_neurons,activation='relu'))\n",
        "        model.add(BatchNormalization())\n",
        "        model.add(Dropout(dropout))\n",
        "\n",
        "        model.add(Dense(dense_neurons,activation='relu'))\n",
        "        model.add(BatchNormalization())\n",
        "        model.add(Dropout(dropout))\n",
        "\n",
        "\n",
        "        model.add(Dense(self.num_classes,activation='softmax'))\n",
        "\n",
        "        optimiser = tf.optimizers.Adam()\n",
        "        model.compile(optimizer=optimiser, loss='categorical_crossentropy', metrics=['categorical_accuracy'])\n",
        "        return model"
      ]
    },
    {
      "cell_type": "code",
      "execution_count": 39,
      "metadata": {
        "id": "953xd_MdpFwg",
        "colab": {
          "base_uri": "https://localhost:8080/"
        },
        "outputId": "c8a3afcd-408e-4b90-82ff-632df5eab0a4"
      },
      "outputs": [
        {
          "output_type": "stream",
          "name": "stdout",
          "text": [
            "Model: \"sequential_9\"\n",
            "_________________________________________________________________\n",
            " Layer (type)                Output Shape              Param #   \n",
            "=================================================================\n",
            " conv3d_40 (Conv3D)          (None, 16, 120, 120, 16)  1312      \n",
            "                                                                 \n",
            " activation_40 (Activation)  (None, 16, 120, 120, 16)  0         \n",
            "                                                                 \n",
            " batch_normalization_58 (Bat  (None, 16, 120, 120, 16)  64       \n",
            " chNormalization)                                                \n",
            "                                                                 \n",
            " conv3d_41 (Conv3D)          (None, 16, 120, 120, 16)  6928      \n",
            "                                                                 \n",
            " activation_41 (Activation)  (None, 16, 120, 120, 16)  0         \n",
            "                                                                 \n",
            " batch_normalization_59 (Bat  (None, 16, 120, 120, 16)  64       \n",
            " chNormalization)                                                \n",
            "                                                                 \n",
            " max_pooling3d_36 (MaxPoolin  (None, 8, 60, 60, 16)    0         \n",
            " g3D)                                                            \n",
            "                                                                 \n",
            " dropout_18 (Dropout)        (None, 8, 60, 60, 16)     0         \n",
            "                                                                 \n",
            " conv3d_42 (Conv3D)          (None, 8, 60, 60, 32)     13856     \n",
            "                                                                 \n",
            " activation_42 (Activation)  (None, 8, 60, 60, 32)     0         \n",
            "                                                                 \n",
            " batch_normalization_60 (Bat  (None, 8, 60, 60, 32)    128       \n",
            " chNormalization)                                                \n",
            "                                                                 \n",
            " conv3d_43 (Conv3D)          (None, 8, 60, 60, 32)     27680     \n",
            "                                                                 \n",
            " activation_43 (Activation)  (None, 8, 60, 60, 32)     0         \n",
            "                                                                 \n",
            " batch_normalization_61 (Bat  (None, 8, 60, 60, 32)    128       \n",
            " chNormalization)                                                \n",
            "                                                                 \n",
            " max_pooling3d_37 (MaxPoolin  (None, 4, 30, 30, 32)    0         \n",
            " g3D)                                                            \n",
            "                                                                 \n",
            " dropout_19 (Dropout)        (None, 4, 30, 30, 32)     0         \n",
            "                                                                 \n",
            " conv3d_44 (Conv3D)          (None, 4, 30, 30, 64)     55360     \n",
            "                                                                 \n",
            " activation_44 (Activation)  (None, 4, 30, 30, 64)     0         \n",
            "                                                                 \n",
            " batch_normalization_62 (Bat  (None, 4, 30, 30, 64)    256       \n",
            " chNormalization)                                                \n",
            "                                                                 \n",
            " conv3d_45 (Conv3D)          (None, 4, 30, 30, 64)     110656    \n",
            "                                                                 \n",
            " activation_45 (Activation)  (None, 4, 30, 30, 64)     0         \n",
            "                                                                 \n",
            " batch_normalization_63 (Bat  (None, 4, 30, 30, 64)    256       \n",
            " chNormalization)                                                \n",
            "                                                                 \n",
            " max_pooling3d_38 (MaxPoolin  (None, 2, 15, 15, 64)    0         \n",
            " g3D)                                                            \n",
            "                                                                 \n",
            " dropout_20 (Dropout)        (None, 2, 15, 15, 64)     0         \n",
            "                                                                 \n",
            " conv3d_46 (Conv3D)          (None, 2, 15, 15, 128)    221312    \n",
            "                                                                 \n",
            " activation_46 (Activation)  (None, 2, 15, 15, 128)    0         \n",
            "                                                                 \n",
            " batch_normalization_64 (Bat  (None, 2, 15, 15, 128)   512       \n",
            " chNormalization)                                                \n",
            "                                                                 \n",
            " conv3d_47 (Conv3D)          (None, 2, 15, 15, 128)    442496    \n",
            "                                                                 \n",
            " activation_47 (Activation)  (None, 2, 15, 15, 128)    0         \n",
            "                                                                 \n",
            " batch_normalization_65 (Bat  (None, 2, 15, 15, 128)   512       \n",
            " chNormalization)                                                \n",
            "                                                                 \n",
            " max_pooling3d_39 (MaxPoolin  (None, 1, 7, 7, 128)     0         \n",
            " g3D)                                                            \n",
            "                                                                 \n",
            " dropout_21 (Dropout)        (None, 1, 7, 7, 128)      0         \n",
            "                                                                 \n",
            " flatten_9 (Flatten)         (None, 6272)              0         \n",
            "                                                                 \n",
            " dense_27 (Dense)            (None, 256)               1605888   \n",
            "                                                                 \n",
            " batch_normalization_66 (Bat  (None, 256)              1024      \n",
            " chNormalization)                                                \n",
            "                                                                 \n",
            " dropout_22 (Dropout)        (None, 256)               0         \n",
            "                                                                 \n",
            " dense_28 (Dense)            (None, 256)               65792     \n",
            "                                                                 \n",
            " batch_normalization_67 (Bat  (None, 256)              1024      \n",
            " chNormalization)                                                \n",
            "                                                                 \n",
            " dropout_23 (Dropout)        (None, 256)               0         \n",
            "                                                                 \n",
            " dense_29 (Dense)            (None, 5)                 1285      \n",
            "                                                                 \n",
            "=================================================================\n",
            "Total params: 2,556,533\n",
            "Trainable params: 2,554,549\n",
            "Non-trainable params: 1,984\n",
            "_________________________________________________________________\n"
          ]
        }
      ],
      "source": [
        "conv_3d5=ModelConv3D5()\n",
        "conv_3d5.initialize_path(project_folder)\n",
        "conv_3d5.initialize_image_properties(image_height=120,image_width=120)\n",
        "conv_3d5.initialize_hyperparams(frames_to_sample=16,batch_size=20,num_epochs=15)\n",
        "conv_3d5_model=conv_3d5.define_model(filtersize=(3,3,3),dense_neurons=256,dropout=0.25)\n",
        "conv_3d5_model.summary()"
      ]
    },
    {
      "cell_type": "code",
      "execution_count": 40,
      "metadata": {
        "id": "_dNjJGYypFwg",
        "colab": {
          "base_uri": "https://localhost:8080/"
        },
        "outputId": "33917e38-d128-42f3-f3a9-a88b80721d85"
      },
      "outputs": [
        {
          "output_type": "stream",
          "name": "stdout",
          "text": [
            "Total Params: 2556533\n",
            "WARNING:tensorflow:`period` argument is deprecated. Please use `save_freq` to specify the frequency in number of batches seen.\n",
            "Epoch 1/15\n",
            "34/34 [==============================] - ETA: 0s - loss: 1.7064 - categorical_accuracy: 0.3967\n",
            "Epoch 00001: val_loss improved from inf to 1.90352, saving model to model_init_2022-01-1212_42_30.550955/model-00001-1.70637-0.39668-1.90352-0.23000.h5\n",
            "34/34 [==============================] - 216s 6s/step - loss: 1.7064 - categorical_accuracy: 0.3967 - val_loss: 1.9035 - val_categorical_accuracy: 0.2300 - lr: 0.0010\n",
            "Epoch 2/15\n",
            "34/34 [==============================] - ETA: 0s - loss: 1.2650 - categorical_accuracy: 0.5317\n",
            "Epoch 00002: val_loss did not improve from 1.90352\n",
            "34/34 [==============================] - 206s 6s/step - loss: 1.2650 - categorical_accuracy: 0.5317 - val_loss: 2.6956 - val_categorical_accuracy: 0.1800 - lr: 0.0010\n",
            "Epoch 3/15\n",
            "34/34 [==============================] - ETA: 0s - loss: 1.0671 - categorical_accuracy: 0.5875\n",
            "Epoch 00003: val_loss did not improve from 1.90352\n",
            "34/34 [==============================] - 206s 6s/step - loss: 1.0671 - categorical_accuracy: 0.5875 - val_loss: 2.6967 - val_categorical_accuracy: 0.2400 - lr: 0.0010\n",
            "Epoch 4/15\n",
            "34/34 [==============================] - ETA: 0s - loss: 0.9940 - categorical_accuracy: 0.6078\n",
            "Epoch 00004: val_loss did not improve from 1.90352\n",
            "34/34 [==============================] - 214s 6s/step - loss: 0.9940 - categorical_accuracy: 0.6078 - val_loss: 2.7659 - val_categorical_accuracy: 0.3000 - lr: 0.0010\n",
            "Epoch 5/15\n",
            "34/34 [==============================] - ETA: 0s - loss: 0.8679 - categorical_accuracy: 0.6599\n",
            "Epoch 00005: val_loss did not improve from 1.90352\n",
            "\n",
            "Epoch 00005: ReduceLROnPlateau reducing learning rate to 0.00020000000949949026.\n",
            "34/34 [==============================] - 208s 6s/step - loss: 0.8679 - categorical_accuracy: 0.6599 - val_loss: 4.7968 - val_categorical_accuracy: 0.2400 - lr: 0.0010\n",
            "Epoch 6/15\n",
            "34/34 [==============================] - ETA: 0s - loss: 0.7890 - categorical_accuracy: 0.6931\n",
            "Epoch 00006: val_loss did not improve from 1.90352\n",
            "34/34 [==============================] - 197s 6s/step - loss: 0.7890 - categorical_accuracy: 0.6931 - val_loss: 3.0983 - val_categorical_accuracy: 0.2400 - lr: 2.0000e-04\n",
            "Epoch 7/15\n",
            "34/34 [==============================] - ETA: 0s - loss: 0.6800 - categorical_accuracy: 0.7262\n",
            "Epoch 00007: val_loss did not improve from 1.90352\n",
            "34/34 [==============================] - 212s 6s/step - loss: 0.6800 - categorical_accuracy: 0.7262 - val_loss: 3.6691 - val_categorical_accuracy: 0.2400 - lr: 2.0000e-04\n",
            "Epoch 8/15\n",
            "34/34 [==============================] - ETA: 0s - loss: 0.6367 - categorical_accuracy: 0.7670\n",
            "Epoch 00008: val_loss did not improve from 1.90352\n",
            "34/34 [==============================] - 208s 6s/step - loss: 0.6367 - categorical_accuracy: 0.7670 - val_loss: 3.5146 - val_categorical_accuracy: 0.2500 - lr: 2.0000e-04\n",
            "Epoch 9/15\n",
            "34/34 [==============================] - ETA: 0s - loss: 0.6060 - categorical_accuracy: 0.7685\n",
            "Epoch 00009: val_loss did not improve from 1.90352\n",
            "\n",
            "Epoch 00009: ReduceLROnPlateau reducing learning rate to 4.0000001899898055e-05.\n",
            "34/34 [==============================] - 215s 6s/step - loss: 0.6060 - categorical_accuracy: 0.7685 - val_loss: 3.3443 - val_categorical_accuracy: 0.2600 - lr: 2.0000e-04\n",
            "Epoch 10/15\n",
            "34/34 [==============================] - ETA: 0s - loss: 0.5264 - categorical_accuracy: 0.7979\n",
            "Epoch 00010: val_loss did not improve from 1.90352\n",
            "34/34 [==============================] - 202s 6s/step - loss: 0.5264 - categorical_accuracy: 0.7979 - val_loss: 3.3330 - val_categorical_accuracy: 0.2800 - lr: 4.0000e-05\n",
            "Epoch 11/15\n",
            "34/34 [==============================] - ETA: 0s - loss: 0.5496 - categorical_accuracy: 0.7964\n",
            "Epoch 00011: val_loss did not improve from 1.90352\n",
            "34/34 [==============================] - 214s 6s/step - loss: 0.5496 - categorical_accuracy: 0.7964 - val_loss: 3.3852 - val_categorical_accuracy: 0.2700 - lr: 4.0000e-05\n",
            "Epoch 00011: early stopping\n"
          ]
        }
      ],
      "source": [
        "print(\"Total Params:\", conv_3d5_model.count_params())\n",
        "history_model5=conv_3d5.train_model(conv_3d5_model,augment_data=True)"
      ]
    },
    {
      "cell_type": "code",
      "execution_count": 41,
      "metadata": {
        "id": "JJW7eBdKpFwg",
        "colab": {
          "base_uri": "https://localhost:8080/",
          "height": 268
        },
        "outputId": "956d68c8-eec6-40b7-edfa-d28dd484e21b"
      },
      "outputs": [
        {
          "output_type": "display_data",
          "data": {
            "image/png": "[encoded data removed]",
            "text/plain": [
              "<Figure size 1080x288 with 2 Axes>"
            ]
          },
          "metadata": {
            "needs_background": "light"
          }
        }
      ],
      "source": [
        "plot(history_model5)"
      ]
    },
    {
      "cell_type": "markdown",
      "metadata": {
        "collapsed": true,
        "id": "vi3j857MpFwh"
      },
      "source": [
        " __Ohh! Overfitting again!! Adding dropouts has further reduced validation accuracy as the model doesn't seem to generalise well.__"
      ]
    },
    {
      "cell_type": "markdown",
      "metadata": {
        "id": "QKdOJ_ZLpFwh"
      },
      "source": [
        "##### All the experimental models above have more than 1 million parameters. Let's try to reduce the model size and see the performance"
      ]
    },
    {
      "cell_type": "markdown",
      "metadata": {
        "id": "mNfgtLR_pFwh"
      },
      "source": [
        "## Model 6 \n",
        "### Reducing the number of parameters"
      ]
    },
    {
      "cell_type": "code",
      "execution_count": 42,
      "metadata": {
        "id": "SFN6yAtPpFwh"
      },
      "outputs": [],
      "source": [
        "class ModelConv3D6(ModelBuilder):\n",
        "    \n",
        "    def define_model(self,dense_neurons=64,dropout=0.25):\n",
        "\n",
        "        model = Sequential()\n",
        "        model.add(Conv3D(16, (3, 3, 3), padding='same',\n",
        "                 input_shape=(self.frames_to_sample,self.image_height,self.image_width,self.channels)))\n",
        "        model.add(Activation('relu'))\n",
        "        model.add(BatchNormalization())\n",
        "        model.add(MaxPooling3D(pool_size=(2, 2, 2)))\n",
        "\n",
        "        model.add(Conv3D(32, (2, 2, 2), padding='same'))\n",
        "        model.add(Activation('relu'))\n",
        "        model.add(BatchNormalization())\n",
        "        model.add(MaxPooling3D(pool_size=(2, 2, 2)))\n",
        "\n",
        "        model.add(Conv3D(64, (2, 2, 2), padding='same'))\n",
        "        model.add(Activation('relu'))\n",
        "        model.add(BatchNormalization())\n",
        "        model.add(MaxPooling3D(pool_size=(2, 2, 2)))\n",
        "\n",
        "        model.add(Conv3D(128, (2, 2, 2), padding='same'))\n",
        "        model.add(Activation('relu'))\n",
        "        model.add(BatchNormalization())\n",
        "        model.add(MaxPooling3D(pool_size=(2, 2, 2)))\n",
        "        \n",
        "        model.add(Flatten())\n",
        "        model.add(Dense(dense_neurons,activation='relu'))\n",
        "        model.add(BatchNormalization())\n",
        "        model.add(Dropout(dropout))\n",
        "\n",
        "        model.add(Dense(dense_neurons,activation='relu'))\n",
        "        model.add(BatchNormalization())\n",
        "        model.add(Dropout(dropout))\n",
        "\n",
        "        model.add(Dense(self.num_classes,activation='softmax'))\n",
        "\n",
        "        optimiser = tf.optimizers.Adam(lr=0.0002)\n",
        "        model.compile(optimizer=optimiser, loss='categorical_crossentropy', metrics=['categorical_accuracy'])\n",
        "        return model"
      ]
    },
    {
      "cell_type": "code",
      "execution_count": 43,
      "metadata": {
        "id": "U9H5_8qGpFwh",
        "colab": {
          "base_uri": "https://localhost:8080/"
        },
        "outputId": "67ceaa98-2161-475d-9ba3-3e84b63d798b"
      },
      "outputs": [
        {
          "output_type": "stream",
          "name": "stdout",
          "text": [
            "Model: \"sequential_10\"\n",
            "_________________________________________________________________\n",
            " Layer (type)                Output Shape              Param #   \n",
            "=================================================================\n",
            " conv3d_48 (Conv3D)          (None, 16, 100, 100, 16)  1312      \n",
            "                                                                 \n",
            " activation_48 (Activation)  (None, 16, 100, 100, 16)  0         \n",
            "                                                                 \n",
            " batch_normalization_68 (Bat  (None, 16, 100, 100, 16)  64       \n",
            " chNormalization)                                                \n",
            "                                                                 \n",
            " max_pooling3d_40 (MaxPoolin  (None, 8, 50, 50, 16)    0         \n",
            " g3D)                                                            \n",
            "                                                                 \n",
            " conv3d_49 (Conv3D)          (None, 8, 50, 50, 32)     4128      \n",
            "                                                                 \n",
            " activation_49 (Activation)  (None, 8, 50, 50, 32)     0         \n",
            "                                                                 \n",
            " batch_normalization_69 (Bat  (None, 8, 50, 50, 32)    128       \n",
            " chNormalization)                                                \n",
            "                                                                 \n",
            " max_pooling3d_41 (MaxPoolin  (None, 4, 25, 25, 32)    0         \n",
            " g3D)                                                            \n",
            "                                                                 \n",
            " conv3d_50 (Conv3D)          (None, 4, 25, 25, 64)     16448     \n",
            "                                                                 \n",
            " activation_50 (Activation)  (None, 4, 25, 25, 64)     0         \n",
            "                                                                 \n",
            " batch_normalization_70 (Bat  (None, 4, 25, 25, 64)    256       \n",
            " chNormalization)                                                \n",
            "                                                                 \n",
            " max_pooling3d_42 (MaxPoolin  (None, 2, 12, 12, 64)    0         \n",
            " g3D)                                                            \n",
            "                                                                 \n",
            " conv3d_51 (Conv3D)          (None, 2, 12, 12, 128)    65664     \n",
            "                                                                 \n",
            " activation_51 (Activation)  (None, 2, 12, 12, 128)    0         \n",
            "                                                                 \n",
            " batch_normalization_71 (Bat  (None, 2, 12, 12, 128)   512       \n",
            " chNormalization)                                                \n",
            "                                                                 \n",
            " max_pooling3d_43 (MaxPoolin  (None, 1, 6, 6, 128)     0         \n",
            " g3D)                                                            \n",
            "                                                                 \n",
            " flatten_10 (Flatten)        (None, 4608)              0         \n",
            "                                                                 \n",
            " dense_30 (Dense)            (None, 128)               589952    \n",
            "                                                                 \n",
            " batch_normalization_72 (Bat  (None, 128)              512       \n",
            " chNormalization)                                                \n",
            "                                                                 \n",
            " dropout_24 (Dropout)        (None, 128)               0         \n",
            "                                                                 \n",
            " dense_31 (Dense)            (None, 128)               16512     \n",
            "                                                                 \n",
            " batch_normalization_73 (Bat  (None, 128)              512       \n",
            " chNormalization)                                                \n",
            "                                                                 \n",
            " dropout_25 (Dropout)        (None, 128)               0         \n",
            "                                                                 \n",
            " dense_32 (Dense)            (None, 5)                 645       \n",
            "                                                                 \n",
            "=================================================================\n",
            "Total params: 696,645\n",
            "Trainable params: 695,653\n",
            "Non-trainable params: 992\n",
            "_________________________________________________________________\n"
          ]
        }
      ],
      "source": [
        "conv_3d6=ModelConv3D6()\n",
        "conv_3d6.initialize_path(project_folder)\n",
        "conv_3d6.initialize_image_properties(image_height=100,image_width=100)\n",
        "conv_3d6.initialize_hyperparams(frames_to_sample=16,batch_size=20,num_epochs=20)\n",
        "conv_3d6_model=conv_3d6.define_model(dense_neurons=128,dropout=0.25)\n",
        "conv_3d6_model.summary()"
      ]
    },
    {
      "cell_type": "code",
      "execution_count": 44,
      "metadata": {
        "scrolled": false,
        "id": "xCRwWkJEpFwh",
        "colab": {
          "base_uri": "https://localhost:8080/"
        },
        "outputId": "cf929681-c0d4-4483-9cfa-9b546b529b8e"
      },
      "outputs": [
        {
          "output_type": "stream",
          "name": "stdout",
          "text": [
            "Total Params: 696645\n",
            "WARNING:tensorflow:`period` argument is deprecated. Please use `save_freq` to specify the frequency in number of batches seen.\n",
            "Epoch 1/20\n",
            "34/34 [==============================] - ETA: 0s - loss: 1.7474 - categorical_accuracy: 0.3703\n",
            "Epoch 00001: val_loss improved from inf to 2.51015, saving model to model_init_2022-01-1213_20_57.173720/model-00001-1.74738-0.37029-2.51015-0.16000.h5\n",
            "34/34 [==============================] - 203s 6s/step - loss: 1.7474 - categorical_accuracy: 0.3703 - val_loss: 2.5101 - val_categorical_accuracy: 0.1600 - lr: 2.0000e-04\n",
            "Epoch 2/20\n",
            "34/34 [==============================] - ETA: 0s - loss: 1.2319 - categorical_accuracy: 0.5302\n",
            "Epoch 00002: val_loss did not improve from 2.51015\n",
            "34/34 [==============================] - 209s 6s/step - loss: 1.2319 - categorical_accuracy: 0.5302 - val_loss: 4.1795 - val_categorical_accuracy: 0.1800 - lr: 2.0000e-04\n",
            "Epoch 3/20\n",
            "34/34 [==============================] - ETA: 0s - loss: 0.9993 - categorical_accuracy: 0.6169\n",
            "Epoch 00003: val_loss did not improve from 2.51015\n",
            "34/34 [==============================] - 210s 6s/step - loss: 0.9993 - categorical_accuracy: 0.6169 - val_loss: 7.0328 - val_categorical_accuracy: 0.1500 - lr: 2.0000e-04\n",
            "Epoch 4/20\n",
            "34/34 [==============================] - ETA: 0s - loss: 0.8728 - categorical_accuracy: 0.6433\n",
            "Epoch 00004: val_loss did not improve from 2.51015\n",
            "34/34 [==============================] - 205s 6s/step - loss: 0.8728 - categorical_accuracy: 0.6433 - val_loss: 7.6424 - val_categorical_accuracy: 0.1600 - lr: 2.0000e-04\n",
            "Epoch 5/20\n",
            "34/34 [==============================] - ETA: 0s - loss: 0.8370 - categorical_accuracy: 0.6742\n",
            "Epoch 00005: val_loss did not improve from 2.51015\n",
            "\n",
            "Epoch 00005: ReduceLROnPlateau reducing learning rate to 3.9999998989515007e-05.\n",
            "34/34 [==============================] - 208s 6s/step - loss: 0.8370 - categorical_accuracy: 0.6742 - val_loss: 9.0089 - val_categorical_accuracy: 0.1700 - lr: 2.0000e-04\n",
            "Epoch 6/20\n",
            "34/34 [==============================] - ETA: 0s - loss: 0.7616 - categorical_accuracy: 0.7029\n",
            "Epoch 00006: val_loss did not improve from 2.51015\n",
            "34/34 [==============================] - 205s 6s/step - loss: 0.7616 - categorical_accuracy: 0.7029 - val_loss: 9.3916 - val_categorical_accuracy: 0.1600 - lr: 4.0000e-05\n",
            "Epoch 7/20\n",
            "34/34 [==============================] - ETA: 0s - loss: 0.6721 - categorical_accuracy: 0.7504\n",
            "Epoch 00007: val_loss did not improve from 2.51015\n",
            "34/34 [==============================] - 203s 6s/step - loss: 0.6721 - categorical_accuracy: 0.7504 - val_loss: 9.2724 - val_categorical_accuracy: 0.1400 - lr: 4.0000e-05\n",
            "Epoch 8/20\n",
            "34/34 [==============================] - ETA: 0s - loss: 0.6690 - categorical_accuracy: 0.7474\n",
            "Epoch 00008: val_loss did not improve from 2.51015\n",
            "34/34 [==============================] - 206s 6s/step - loss: 0.6690 - categorical_accuracy: 0.7474 - val_loss: 8.8240 - val_categorical_accuracy: 0.2000 - lr: 4.0000e-05\n",
            "Epoch 9/20\n",
            "34/34 [==============================] - ETA: 0s - loss: 0.6618 - categorical_accuracy: 0.7526\n",
            "Epoch 00009: val_loss did not improve from 2.51015\n",
            "\n",
            "Epoch 00009: ReduceLROnPlateau reducing learning rate to 7.999999797903002e-06.\n",
            "34/34 [==============================] - 201s 6s/step - loss: 0.6618 - categorical_accuracy: 0.7526 - val_loss: 8.4253 - val_categorical_accuracy: 0.1600 - lr: 4.0000e-05\n",
            "Epoch 10/20\n",
            "34/34 [==============================] - ETA: 0s - loss: 0.6336 - categorical_accuracy: 0.7594\n",
            "Epoch 00010: val_loss did not improve from 2.51015\n",
            "34/34 [==============================] - 197s 6s/step - loss: 0.6336 - categorical_accuracy: 0.7594 - val_loss: 6.7981 - val_categorical_accuracy: 0.1800 - lr: 8.0000e-06\n",
            "Epoch 11/20\n",
            "34/34 [==============================] - ETA: 0s - loss: 0.6025 - categorical_accuracy: 0.7805\n",
            "Epoch 00011: val_loss did not improve from 2.51015\n",
            "34/34 [==============================] - 202s 6s/step - loss: 0.6025 - categorical_accuracy: 0.7805 - val_loss: 5.6508 - val_categorical_accuracy: 0.2300 - lr: 8.0000e-06\n",
            "Epoch 00011: early stopping\n"
          ]
        }
      ],
      "source": [
        "print(\"Total Params:\", conv_3d6_model.count_params())\n",
        "history_model6=conv_3d6.train_model(conv_3d6_model,augment_data=True)"
      ]
    },
    {
      "cell_type": "code",
      "execution_count": 45,
      "metadata": {
        "id": "M5_iQsnOpFwi",
        "colab": {
          "base_uri": "https://localhost:8080/",
          "height": 264
        },
        "outputId": "5fa50efa-d23d-463d-ec89-dd3936f8a4fd"
      },
      "outputs": [
        {
          "output_type": "display_data",
          "data": {
            "image/png": "[encoded data removed]",
            "text/plain": [
              "<Figure size 1080x288 with 2 Axes>"
            ]
          },
          "metadata": {
            "needs_background": "light"
          }
        }
      ],
      "source": [
        "plot(history_model6)"
      ]
    },
    {
      "cell_type": "markdown",
      "metadata": {
        "collapsed": true,
        "id": "0mv--PxPpFwi"
      },
      "source": [
        "###### For the above low memory foot print model, we get the best validation accuracy of 74%"
      ]
    },
    {
      "cell_type": "markdown",
      "metadata": {
        "id": "iPG3VyX2pFwi"
      },
      "source": [
        "## Model 7 - Reducing the number of parameters again"
      ]
    },
    {
      "cell_type": "code",
      "execution_count": 46,
      "metadata": {
        "id": "2OVgFjFHpFwi"
      },
      "outputs": [],
      "source": [
        "class ModelConv3D7(ModelBuilder):\n",
        "    \n",
        "    def define_model(self,dense_neurons=64,dropout=0.25):\n",
        "\n",
        "        model = Sequential()\n",
        "        model.add(Conv3D(16, (3, 3, 3), padding='same',\n",
        "                 input_shape=(self.frames_to_sample,self.image_height,self.image_width,self.channels)))\n",
        "        model.add(Activation('relu'))\n",
        "        model.add(BatchNormalization())\n",
        "        model.add(MaxPooling3D(pool_size=(2, 2, 2)))\n",
        "\n",
        "        model.add(Conv3D(32, (3, 3, 3), padding='same'))\n",
        "        model.add(Activation('relu'))\n",
        "        model.add(BatchNormalization())\n",
        "        model.add(MaxPooling3D(pool_size=(2, 2, 2)))\n",
        "\n",
        "        model.add(Conv3D(64, (2, 2, 2), padding='same'))\n",
        "        model.add(Activation('relu'))\n",
        "        model.add(BatchNormalization())\n",
        "        model.add(MaxPooling3D(pool_size=(2, 2, 2)))\n",
        "\n",
        "        model.add(Conv3D(128, (2, 2, 2), padding='same'))\n",
        "        model.add(Activation('relu'))\n",
        "        model.add(BatchNormalization())\n",
        "        model.add(MaxPooling3D(pool_size=(2, 2, 2)))\n",
        "        \n",
        "        model.add(Flatten())\n",
        "        model.add(Dense(dense_neurons,activation='relu'))\n",
        "        model.add(BatchNormalization())\n",
        "        model.add(Dropout(dropout))\n",
        "\n",
        "        model.add(Dense(dense_neurons,activation='relu'))\n",
        "        model.add(BatchNormalization())\n",
        "        model.add(Dropout(dropout))\n",
        "\n",
        "        model.add(Dense(self.num_classes,activation='softmax'))\n",
        "\n",
        "        optimiser = tf.optimizers.Adam(lr=0.0002)\n",
        "        model.compile(optimizer=optimiser, loss='categorical_crossentropy', metrics=['categorical_accuracy'])\n",
        "        return model"
      ]
    },
    {
      "cell_type": "code",
      "execution_count": 47,
      "metadata": {
        "id": "h5OcLsP8pFwi",
        "colab": {
          "base_uri": "https://localhost:8080/"
        },
        "outputId": "2cc4fc67-f384-426c-d7c9-906eac9352a5"
      },
      "outputs": [
        {
          "output_type": "stream",
          "name": "stdout",
          "text": [
            "Model: \"sequential_11\"\n",
            "_________________________________________________________________\n",
            " Layer (type)                Output Shape              Param #   \n",
            "=================================================================\n",
            " conv3d_52 (Conv3D)          (None, 16, 120, 120, 16)  1312      \n",
            "                                                                 \n",
            " activation_52 (Activation)  (None, 16, 120, 120, 16)  0         \n",
            "                                                                 \n",
            " batch_normalization_74 (Bat  (None, 16, 120, 120, 16)  64       \n",
            " chNormalization)                                                \n",
            "                                                                 \n",
            " max_pooling3d_44 (MaxPoolin  (None, 8, 60, 60, 16)    0         \n",
            " g3D)                                                            \n",
            "                                                                 \n",
            " conv3d_53 (Conv3D)          (None, 8, 60, 60, 32)     13856     \n",
            "                                                                 \n",
            " activation_53 (Activation)  (None, 8, 60, 60, 32)     0         \n",
            "                                                                 \n",
            " batch_normalization_75 (Bat  (None, 8, 60, 60, 32)    128       \n",
            " chNormalization)                                                \n",
            "                                                                 \n",
            " max_pooling3d_45 (MaxPoolin  (None, 4, 30, 30, 32)    0         \n",
            " g3D)                                                            \n",
            "                                                                 \n",
            " conv3d_54 (Conv3D)          (None, 4, 30, 30, 64)     16448     \n",
            "                                                                 \n",
            " activation_54 (Activation)  (None, 4, 30, 30, 64)     0         \n",
            "                                                                 \n",
            " batch_normalization_76 (Bat  (None, 4, 30, 30, 64)    256       \n",
            " chNormalization)                                                \n",
            "                                                                 \n",
            " max_pooling3d_46 (MaxPoolin  (None, 2, 15, 15, 64)    0         \n",
            " g3D)                                                            \n",
            "                                                                 \n",
            " conv3d_55 (Conv3D)          (None, 2, 15, 15, 128)    65664     \n",
            "                                                                 \n",
            " activation_55 (Activation)  (None, 2, 15, 15, 128)    0         \n",
            "                                                                 \n",
            " batch_normalization_77 (Bat  (None, 2, 15, 15, 128)   512       \n",
            " chNormalization)                                                \n",
            "                                                                 \n",
            " max_pooling3d_47 (MaxPoolin  (None, 1, 7, 7, 128)     0         \n",
            " g3D)                                                            \n",
            "                                                                 \n",
            " flatten_11 (Flatten)        (None, 6272)              0         \n",
            "                                                                 \n",
            " dense_33 (Dense)            (None, 64)                401472    \n",
            "                                                                 \n",
            " batch_normalization_78 (Bat  (None, 64)               256       \n",
            " chNormalization)                                                \n",
            "                                                                 \n",
            " dropout_26 (Dropout)        (None, 64)                0         \n",
            "                                                                 \n",
            " dense_34 (Dense)            (None, 64)                4160      \n",
            "                                                                 \n",
            " batch_normalization_79 (Bat  (None, 64)               256       \n",
            " chNormalization)                                                \n",
            "                                                                 \n",
            " dropout_27 (Dropout)        (None, 64)                0         \n",
            "                                                                 \n",
            " dense_35 (Dense)            (None, 5)                 325       \n",
            "                                                                 \n",
            "=================================================================\n",
            "Total params: 504,709\n",
            "Trainable params: 503,973\n",
            "Non-trainable params: 736\n",
            "_________________________________________________________________\n"
          ]
        }
      ],
      "source": [
        "conv_3d7=ModelConv3D7()\n",
        "conv_3d7.initialize_path(project_folder)\n",
        "conv_3d7.initialize_image_properties(image_height=120,image_width=120)\n",
        "conv_3d7.initialize_hyperparams(frames_to_sample=16,batch_size=20,num_epochs=25)\n",
        "conv_3d7_model=conv_3d7.define_model(dense_neurons=64,dropout=0.25)\n",
        "conv_3d7_model.summary()"
      ]
    },
    {
      "cell_type": "code",
      "execution_count": 48,
      "metadata": {
        "scrolled": false,
        "id": "m5PnSNQipFwi",
        "colab": {
          "base_uri": "https://localhost:8080/"
        },
        "outputId": "2f81c966-8e2f-4215-8d46-0f8c2d234ccc"
      },
      "outputs": [
        {
          "output_type": "stream",
          "name": "stdout",
          "text": [
            "Total Params: 504709\n",
            "WARNING:tensorflow:`period` argument is deprecated. Please use `save_freq` to specify the frequency in number of batches seen.\n",
            "Epoch 1/25\n",
            "34/34 [==============================] - ETA: 0s - loss: 1.7294 - categorical_accuracy: 0.3567\n",
            "Epoch 00001: val_loss improved from inf to 1.81877, saving model to model_init_2022-01-1213_59_27.723862/model-00001-1.72942-0.35671-1.81877-0.16000.h5\n",
            "34/34 [==============================] - 203s 6s/step - loss: 1.7294 - categorical_accuracy: 0.3567 - val_loss: 1.8188 - val_categorical_accuracy: 0.1600 - lr: 2.0000e-04\n",
            "Epoch 2/25\n",
            "34/34 [==============================] - ETA: 0s - loss: 1.2492 - categorical_accuracy: 0.5234\n",
            "Epoch 00002: val_loss did not improve from 1.81877\n",
            "34/34 [==============================] - 215s 6s/step - loss: 1.2492 - categorical_accuracy: 0.5234 - val_loss: 2.7400 - val_categorical_accuracy: 0.1400 - lr: 2.0000e-04\n",
            "Epoch 3/25\n",
            "34/34 [==============================] - ETA: 0s - loss: 0.9945 - categorical_accuracy: 0.6244\n",
            "Epoch 00003: val_loss did not improve from 1.81877\n",
            "34/34 [==============================] - 204s 6s/step - loss: 0.9945 - categorical_accuracy: 0.6244 - val_loss: 2.9892 - val_categorical_accuracy: 0.1600 - lr: 2.0000e-04\n",
            "Epoch 4/25\n",
            "34/34 [==============================] - ETA: 0s - loss: 0.8966 - categorical_accuracy: 0.6546\n",
            "Epoch 00004: val_loss did not improve from 1.81877\n",
            "34/34 [==============================] - 210s 6s/step - loss: 0.8966 - categorical_accuracy: 0.6546 - val_loss: 3.0098 - val_categorical_accuracy: 0.1700 - lr: 2.0000e-04\n",
            "Epoch 5/25\n",
            "34/34 [==============================] - ETA: 0s - loss: 0.8294 - categorical_accuracy: 0.6742\n",
            "Epoch 00005: val_loss did not improve from 1.81877\n",
            "\n",
            "Epoch 00005: ReduceLROnPlateau reducing learning rate to 3.9999998989515007e-05.\n",
            "34/34 [==============================] - 200s 6s/step - loss: 0.8294 - categorical_accuracy: 0.6742 - val_loss: 3.1610 - val_categorical_accuracy: 0.1800 - lr: 2.0000e-04\n",
            "Epoch 6/25\n",
            "34/34 [==============================] - ETA: 0s - loss: 0.7285 - categorical_accuracy: 0.7308\n",
            "Epoch 00006: val_loss did not improve from 1.81877\n",
            "34/34 [==============================] - 207s 6s/step - loss: 0.7285 - categorical_accuracy: 0.7308 - val_loss: 3.2973 - val_categorical_accuracy: 0.1900 - lr: 4.0000e-05\n",
            "Epoch 7/25\n",
            "34/34 [==============================] - ETA: 0s - loss: 0.7015 - categorical_accuracy: 0.7391\n",
            "Epoch 00007: val_loss did not improve from 1.81877\n",
            "34/34 [==============================] - 225s 7s/step - loss: 0.7015 - categorical_accuracy: 0.7391 - val_loss: 3.4145 - val_categorical_accuracy: 0.1800 - lr: 4.0000e-05\n",
            "Epoch 8/25\n",
            "34/34 [==============================] - ETA: 0s - loss: 0.6859 - categorical_accuracy: 0.7285\n",
            "Epoch 00008: val_loss did not improve from 1.81877\n",
            "34/34 [==============================] - 214s 6s/step - loss: 0.6859 - categorical_accuracy: 0.7285 - val_loss: 3.6643 - val_categorical_accuracy: 0.2100 - lr: 4.0000e-05\n",
            "Epoch 9/25\n",
            "34/34 [==============================] - ETA: 0s - loss: 0.6390 - categorical_accuracy: 0.7640\n",
            "Epoch 00009: val_loss did not improve from 1.81877\n",
            "\n",
            "Epoch 00009: ReduceLROnPlateau reducing learning rate to 7.999999797903002e-06.\n",
            "34/34 [==============================] - 206s 6s/step - loss: 0.6390 - categorical_accuracy: 0.7640 - val_loss: 3.5188 - val_categorical_accuracy: 0.1800 - lr: 4.0000e-05\n",
            "Epoch 10/25\n",
            "34/34 [==============================] - ETA: 0s - loss: 0.6244 - categorical_accuracy: 0.7602\n",
            "Epoch 00010: val_loss did not improve from 1.81877\n",
            "34/34 [==============================] - 200s 6s/step - loss: 0.6244 - categorical_accuracy: 0.7602 - val_loss: 3.3547 - val_categorical_accuracy: 0.2000 - lr: 8.0000e-06\n",
            "Epoch 11/25\n",
            "34/34 [==============================] - ETA: 0s - loss: 0.6427 - categorical_accuracy: 0.7632\n",
            "Epoch 00011: val_loss did not improve from 1.81877\n",
            "34/34 [==============================] - 227s 7s/step - loss: 0.6427 - categorical_accuracy: 0.7632 - val_loss: 3.1363 - val_categorical_accuracy: 0.3100 - lr: 8.0000e-06\n",
            "Epoch 00011: early stopping\n"
          ]
        }
      ],
      "source": [
        "print(\"Total Params:\", conv_3d7_model.count_params())\n",
        "history_model7=conv_3d7.train_model(conv_3d7_model,augment_data=True)"
      ]
    },
    {
      "cell_type": "code",
      "execution_count": 49,
      "metadata": {
        "id": "zdV-of2opFwi",
        "colab": {
          "base_uri": "https://localhost:8080/",
          "height": 264
        },
        "outputId": "040ba2c0-4493-4a2f-a14a-055ba7fea8d0"
      },
      "outputs": [
        {
          "output_type": "display_data",
          "data": {
            "image/png": "[encoded data removed]",
            "text/plain": [
              "<Figure size 1080x288 with 2 Axes>"
            ]
          },
          "metadata": {
            "needs_background": "light"
          }
        }
      ],
      "source": [
        "plot(history_model7)"
      ]
    },
    {
      "cell_type": "markdown",
      "metadata": {
        "id": "PmV7tSbWpFwi"
      },
      "source": [
        "###### For the above low memory foot print model the best validation accuracy of 73%"
      ]
    },
    {
      "cell_type": "markdown",
      "metadata": {
        "id": "5sKjF_SNpFwj"
      },
      "source": [
        "## Model 8 - CNN- LSTM Model"
      ]
    },
    {
      "cell_type": "code",
      "execution_count": 50,
      "metadata": {
        "id": "oJ4g6x74pFwj"
      },
      "outputs": [],
      "source": [
        "class RNNCNN1(ModelBuilder):\n",
        "    \n",
        "    def define_model(self,lstm_cells=64,dense_neurons=64,dropout=0.25):\n",
        "\n",
        "        model = Sequential()\n",
        "\n",
        "        model.add(TimeDistributed(Conv2D(16, (3, 3) , padding='same', activation='relu'),\n",
        "                                  input_shape=(self.frames_to_sample,self.image_height,self.image_width,self.channels)))\n",
        "        model.add(TimeDistributed(BatchNormalization()))\n",
        "        model.add(TimeDistributed(MaxPooling2D((2, 2))))\n",
        "        \n",
        "        model.add(TimeDistributed(Conv2D(32, (3, 3) , padding='same', activation='relu')))\n",
        "        model.add(TimeDistributed(BatchNormalization()))\n",
        "        model.add(TimeDistributed(MaxPooling2D((2, 2))))\n",
        "        \n",
        "        model.add(TimeDistributed(Conv2D(64, (3, 3) , padding='same', activation='relu')))\n",
        "        model.add(TimeDistributed(BatchNormalization()))\n",
        "        model.add(TimeDistributed(MaxPooling2D((2, 2))))\n",
        "        \n",
        "        model.add(TimeDistributed(Conv2D(128, (3, 3) , padding='same', activation='relu')))\n",
        "        model.add(TimeDistributed(BatchNormalization()))\n",
        "        model.add(TimeDistributed(MaxPooling2D((2, 2))))\n",
        "        \n",
        "        model.add(TimeDistributed(Conv2D(256, (3, 3) , padding='same', activation='relu')))\n",
        "        model.add(TimeDistributed(BatchNormalization()))\n",
        "        model.add(TimeDistributed(MaxPooling2D((2, 2))))\n",
        "        \n",
        "        #model.add(TimeDistributed(Conv2D(512, (2, 2) , padding='valid', activation='relu')))\n",
        "       # model.add(TimeDistributed(BatchNormalization()))\n",
        "       # model.add(TimeDistributed(MaxPooling2D((2, 2))))\n",
        "\n",
        "        model.add(TimeDistributed(Flatten()))\n",
        "\n",
        "\n",
        "        model.add(LSTM(lstm_cells))\n",
        "        model.add(Dropout(dropout))\n",
        "        \n",
        "        model.add(Dense(dense_neurons,activation='relu'))\n",
        "        model.add(Dropout(dropout))\n",
        "        \n",
        "        model.add(Dense(self.num_classes, activation='softmax'))\n",
        "        optimiser = tf.optimizers.Adam()\n",
        "        model.compile(optimizer=optimiser, loss='categorical_crossentropy', metrics=['categorical_accuracy'])\n",
        "        return model"
      ]
    },
    {
      "cell_type": "code",
      "execution_count": 51,
      "metadata": {
        "id": "-0LZ9R0fpFwj",
        "colab": {
          "base_uri": "https://localhost:8080/"
        },
        "outputId": "f516cb01-6769-48ed-a40a-11808e35ca68"
      },
      "outputs": [
        {
          "output_type": "stream",
          "name": "stdout",
          "text": [
            "Model: \"sequential_12\"\n",
            "_________________________________________________________________\n",
            " Layer (type)                Output Shape              Param #   \n",
            "=================================================================\n",
            " time_distributed (TimeDistr  (None, 18, 120, 120, 16)  448      \n",
            " ibuted)                                                         \n",
            "                                                                 \n",
            " time_distributed_1 (TimeDis  (None, 18, 120, 120, 16)  64       \n",
            " tributed)                                                       \n",
            "                                                                 \n",
            " time_distributed_2 (TimeDis  (None, 18, 60, 60, 16)   0         \n",
            " tributed)                                                       \n",
            "                                                                 \n",
            " time_distributed_3 (TimeDis  (None, 18, 60, 60, 32)   4640      \n",
            " tributed)                                                       \n",
            "                                                                 \n",
            " time_distributed_4 (TimeDis  (None, 18, 60, 60, 32)   128       \n",
            " tributed)                                                       \n",
            "                                                                 \n",
            " time_distributed_5 (TimeDis  (None, 18, 30, 30, 32)   0         \n",
            " tributed)                                                       \n",
            "                                                                 \n",
            " time_distributed_6 (TimeDis  (None, 18, 30, 30, 64)   18496     \n",
            " tributed)                                                       \n",
            "                                                                 \n",
            " time_distributed_7 (TimeDis  (None, 18, 30, 30, 64)   256       \n",
            " tributed)                                                       \n",
            "                                                                 \n",
            " time_distributed_8 (TimeDis  (None, 18, 15, 15, 64)   0         \n",
            " tributed)                                                       \n",
            "                                                                 \n",
            " time_distributed_9 (TimeDis  (None, 18, 15, 15, 128)  73856     \n",
            " tributed)                                                       \n",
            "                                                                 \n",
            " time_distributed_10 (TimeDi  (None, 18, 15, 15, 128)  512       \n",
            " stributed)                                                      \n",
            "                                                                 \n",
            " time_distributed_11 (TimeDi  (None, 18, 7, 7, 128)    0         \n",
            " stributed)                                                      \n",
            "                                                                 \n",
            " time_distributed_12 (TimeDi  (None, 18, 7, 7, 256)    295168    \n",
            " stributed)                                                      \n",
            "                                                                 \n",
            " time_distributed_13 (TimeDi  (None, 18, 7, 7, 256)    1024      \n",
            " stributed)                                                      \n",
            "                                                                 \n",
            " time_distributed_14 (TimeDi  (None, 18, 3, 3, 256)    0         \n",
            " stributed)                                                      \n",
            "                                                                 \n",
            " time_distributed_15 (TimeDi  (None, 18, 2304)         0         \n",
            " stributed)                                                      \n",
            "                                                                 \n",
            " lstm (LSTM)                 (None, 128)               1245696   \n",
            "                                                                 \n",
            " dropout_28 (Dropout)        (None, 128)               0         \n",
            "                                                                 \n",
            " dense_36 (Dense)            (None, 128)               16512     \n",
            "                                                                 \n",
            " dropout_29 (Dropout)        (None, 128)               0         \n",
            "                                                                 \n",
            " dense_37 (Dense)            (None, 5)                 645       \n",
            "                                                                 \n",
            "=================================================================\n",
            "Total params: 1,657,445\n",
            "Trainable params: 1,656,453\n",
            "Non-trainable params: 992\n",
            "_________________________________________________________________\n"
          ]
        }
      ],
      "source": [
        "rnn_cnn1=RNNCNN1()\n",
        "rnn_cnn1.initialize_path(project_folder)\n",
        "rnn_cnn1.initialize_image_properties(image_height=120,image_width=120)\n",
        "rnn_cnn1.initialize_hyperparams(frames_to_sample=18,batch_size=20,num_epochs=20)\n",
        "rnn_cnn1_model=rnn_cnn1.define_model(lstm_cells=128,dense_neurons=128,dropout=0.25)\n",
        "rnn_cnn1_model.summary()"
      ]
    },
    {
      "cell_type": "code",
      "execution_count": 52,
      "metadata": {
        "scrolled": false,
        "id": "maM6P7sVpFwj",
        "colab": {
          "base_uri": "https://localhost:8080/"
        },
        "outputId": "d5dd8466-3491-4fa3-d620-a58b7a2c08e5"
      },
      "outputs": [
        {
          "output_type": "stream",
          "name": "stdout",
          "text": [
            "Total Params: 1657445\n",
            "WARNING:tensorflow:`period` argument is deprecated. Please use `save_freq` to specify the frequency in number of batches seen.\n",
            "Epoch 1/20\n",
            "34/34 [==============================] - ETA: 0s - loss: 1.3903 - categorical_accuracy: 0.4103\n",
            "Epoch 00001: val_loss improved from inf to 1.95359, saving model to model_init_2022-01-1214_38_58.757162/model-00001-1.39028-0.41026-1.95359-0.16000.h5\n",
            "34/34 [==============================] - 253s 7s/step - loss: 1.3903 - categorical_accuracy: 0.4103 - val_loss: 1.9536 - val_categorical_accuracy: 0.1600 - lr: 0.0010\n",
            "Epoch 2/20\n",
            "34/34 [==============================] - ETA: 0s - loss: 1.1295 - categorical_accuracy: 0.5385\n",
            "Epoch 00002: val_loss improved from 1.95359 to 1.85831, saving model to model_init_2022-01-1214_38_58.757162/model-00002-1.12947-0.53846-1.85831-0.21000.h5\n",
            "34/34 [==============================] - 240s 7s/step - loss: 1.1295 - categorical_accuracy: 0.5385 - val_loss: 1.8583 - val_categorical_accuracy: 0.2100 - lr: 0.0010\n",
            "Epoch 3/20\n",
            "34/34 [==============================] - ETA: 0s - loss: 0.9250 - categorical_accuracy: 0.6357\n",
            "Epoch 00003: val_loss did not improve from 1.85831\n",
            "34/34 [==============================] - 251s 8s/step - loss: 0.9250 - categorical_accuracy: 0.6357 - val_loss: 2.4818 - val_categorical_accuracy: 0.2200 - lr: 0.0010\n",
            "Epoch 4/20\n",
            "34/34 [==============================] - ETA: 0s - loss: 0.8709 - categorical_accuracy: 0.6448\n",
            "Epoch 00004: val_loss did not improve from 1.85831\n",
            "34/34 [==============================] - 248s 7s/step - loss: 0.8709 - categorical_accuracy: 0.6448 - val_loss: 2.1594 - val_categorical_accuracy: 0.2600 - lr: 0.0010\n",
            "Epoch 5/20\n",
            "34/34 [==============================] - ETA: 0s - loss: 0.7950 - categorical_accuracy: 0.6757\n",
            "Epoch 00005: val_loss did not improve from 1.85831\n",
            "34/34 [==============================] - 236s 7s/step - loss: 0.7950 - categorical_accuracy: 0.6757 - val_loss: 2.5814 - val_categorical_accuracy: 0.1800 - lr: 0.0010\n",
            "Epoch 6/20\n",
            "34/34 [==============================] - ETA: 0s - loss: 0.7462 - categorical_accuracy: 0.7172\n",
            "Epoch 00006: val_loss did not improve from 1.85831\n",
            "\n",
            "Epoch 00006: ReduceLROnPlateau reducing learning rate to 0.00020000000949949026.\n",
            "34/34 [==============================] - 239s 7s/step - loss: 0.7462 - categorical_accuracy: 0.7172 - val_loss: 2.2964 - val_categorical_accuracy: 0.2200 - lr: 0.0010\n",
            "Epoch 7/20\n",
            "34/34 [==============================] - ETA: 0s - loss: 0.6320 - categorical_accuracy: 0.7579\n",
            "Epoch 00007: val_loss did not improve from 1.85831\n",
            "34/34 [==============================] - 226s 7s/step - loss: 0.6320 - categorical_accuracy: 0.7579 - val_loss: 2.5148 - val_categorical_accuracy: 0.2800 - lr: 2.0000e-04\n",
            "Epoch 8/20\n",
            "34/34 [==============================] - ETA: 0s - loss: 0.5237 - categorical_accuracy: 0.8092\n",
            "Epoch 00008: val_loss did not improve from 1.85831\n",
            "34/34 [==============================] - 224s 7s/step - loss: 0.5237 - categorical_accuracy: 0.8092 - val_loss: 2.3017 - val_categorical_accuracy: 0.3100 - lr: 2.0000e-04\n",
            "Epoch 9/20\n",
            "34/34 [==============================] - ETA: 0s - loss: 0.4432 - categorical_accuracy: 0.8356\n",
            "Epoch 00009: val_loss did not improve from 1.85831\n",
            "34/34 [==============================] - 236s 7s/step - loss: 0.4432 - categorical_accuracy: 0.8356 - val_loss: 1.9869 - val_categorical_accuracy: 0.3500 - lr: 2.0000e-04\n",
            "Epoch 10/20\n",
            "34/34 [==============================] - ETA: 0s - loss: 0.4193 - categorical_accuracy: 0.8484\n",
            "Epoch 00010: val_loss did not improve from 1.85831\n",
            "\n",
            "Epoch 00010: ReduceLROnPlateau reducing learning rate to 4.0000001899898055e-05.\n",
            "34/34 [==============================] - 234s 7s/step - loss: 0.4193 - categorical_accuracy: 0.8484 - val_loss: 2.1514 - val_categorical_accuracy: 0.4300 - lr: 2.0000e-04\n",
            "Epoch 11/20\n",
            "34/34 [==============================] - ETA: 0s - loss: 0.3788 - categorical_accuracy: 0.8582\n",
            "Epoch 00011: val_loss improved from 1.85831 to 1.83886, saving model to model_init_2022-01-1214_38_58.757162/model-00011-0.37884-0.85822-1.83886-0.42000.h5\n",
            "34/34 [==============================] - 234s 7s/step - loss: 0.3788 - categorical_accuracy: 0.8582 - val_loss: 1.8389 - val_categorical_accuracy: 0.4200 - lr: 4.0000e-05\n",
            "Epoch 12/20\n",
            "34/34 [==============================] - ETA: 0s - loss: 0.3337 - categorical_accuracy: 0.8906\n",
            "Epoch 00012: val_loss improved from 1.83886 to 1.81226, saving model to model_init_2022-01-1214_38_58.757162/model-00012-0.33365-0.89065-1.81226-0.45000.h5\n",
            "34/34 [==============================] - 245s 7s/step - loss: 0.3337 - categorical_accuracy: 0.8906 - val_loss: 1.8123 - val_categorical_accuracy: 0.4500 - lr: 4.0000e-05\n",
            "Epoch 13/20\n",
            "34/34 [==============================] - ETA: 0s - loss: 0.3395 - categorical_accuracy: 0.8786\n",
            "Epoch 00013: val_loss improved from 1.81226 to 1.53567, saving model to model_init_2022-01-1214_38_58.757162/model-00013-0.33955-0.87858-1.53567-0.52000.h5\n",
            "34/34 [==============================] - 242s 7s/step - loss: 0.3395 - categorical_accuracy: 0.8786 - val_loss: 1.5357 - val_categorical_accuracy: 0.5200 - lr: 4.0000e-05\n",
            "Epoch 14/20\n",
            "34/34 [==============================] - ETA: 0s - loss: 0.3318 - categorical_accuracy: 0.8869\n",
            "Epoch 00014: val_loss improved from 1.53567 to 1.34507, saving model to model_init_2022-01-1214_38_58.757162/model-00014-0.33185-0.88688-1.34507-0.62000.h5\n",
            "34/34 [==============================] - 241s 7s/step - loss: 0.3318 - categorical_accuracy: 0.8869 - val_loss: 1.3451 - val_categorical_accuracy: 0.6200 - lr: 4.0000e-05\n",
            "Epoch 15/20\n",
            "34/34 [==============================] - ETA: 0s - loss: 0.3046 - categorical_accuracy: 0.8906\n",
            "Epoch 00015: val_loss improved from 1.34507 to 0.92105, saving model to model_init_2022-01-1214_38_58.757162/model-00015-0.30460-0.89065-0.92105-0.70000.h5\n",
            "34/34 [==============================] - 234s 7s/step - loss: 0.3046 - categorical_accuracy: 0.8906 - val_loss: 0.9211 - val_categorical_accuracy: 0.7000 - lr: 4.0000e-05\n",
            "Epoch 16/20\n",
            "34/34 [==============================] - ETA: 0s - loss: 0.3101 - categorical_accuracy: 0.8884\n",
            "Epoch 00016: val_loss did not improve from 0.92105\n",
            "34/34 [==============================] - 245s 7s/step - loss: 0.3101 - categorical_accuracy: 0.8884 - val_loss: 0.9251 - val_categorical_accuracy: 0.6900 - lr: 4.0000e-05\n",
            "Epoch 17/20\n",
            "34/34 [==============================] - ETA: 0s - loss: 0.3077 - categorical_accuracy: 0.8959\n",
            "Epoch 00017: val_loss improved from 0.92105 to 0.84455, saving model to model_init_2022-01-1214_38_58.757162/model-00017-0.30771-0.89593-0.84455-0.66000.h5\n",
            "34/34 [==============================] - 240s 7s/step - loss: 0.3077 - categorical_accuracy: 0.8959 - val_loss: 0.8446 - val_categorical_accuracy: 0.6600 - lr: 4.0000e-05\n",
            "Epoch 18/20\n",
            "34/34 [==============================] - ETA: 0s - loss: 0.2663 - categorical_accuracy: 0.9080\n",
            "Epoch 00018: val_loss did not improve from 0.84455\n",
            "34/34 [==============================] - 243s 7s/step - loss: 0.2663 - categorical_accuracy: 0.9080 - val_loss: 0.8919 - val_categorical_accuracy: 0.6900 - lr: 4.0000e-05\n",
            "Epoch 19/20\n",
            "34/34 [==============================] - ETA: 0s - loss: 0.2884 - categorical_accuracy: 0.9118\n",
            "Epoch 00019: val_loss improved from 0.84455 to 0.73765, saving model to model_init_2022-01-1214_38_58.757162/model-00019-0.28839-0.91176-0.73765-0.71000.h5\n",
            "34/34 [==============================] - 252s 8s/step - loss: 0.2884 - categorical_accuracy: 0.9118 - val_loss: 0.7376 - val_categorical_accuracy: 0.7100 - lr: 4.0000e-05\n",
            "Epoch 20/20\n",
            "34/34 [==============================] - ETA: 0s - loss: 0.2815 - categorical_accuracy: 0.9110\n",
            "Epoch 00020: val_loss did not improve from 0.73765\n",
            "34/34 [==============================] - 237s 7s/step - loss: 0.2815 - categorical_accuracy: 0.9110 - val_loss: 0.7456 - val_categorical_accuracy: 0.6700 - lr: 4.0000e-05\n"
          ]
        }
      ],
      "source": [
        "print(\"Total Params:\", rnn_cnn1_model.count_params())\n",
        "history_model8=rnn_cnn1.train_model(rnn_cnn1_model,augment_data=True)"
      ]
    },
    {
      "cell_type": "code",
      "execution_count": 53,
      "metadata": {
        "id": "yhKKqekHpFwj",
        "colab": {
          "base_uri": "https://localhost:8080/",
          "height": 264
        },
        "outputId": "6bb14739-3595-424b-b7e8-2891e1817177"
      },
      "outputs": [
        {
          "output_type": "display_data",
          "data": {
            "image/png": "[encoded data removed]",
            "text/plain": [
              "<Figure size 1080x288 with 2 Axes>"
            ]
          },
          "metadata": {
            "needs_background": "light"
          }
        }
      ],
      "source": [
        "plot(history_model8)"
      ]
    },
    {
      "cell_type": "markdown",
      "metadata": {
        "collapsed": true,
        "id": "Cq5jiUUEpFwj"
      },
      "source": [
        "##### For CNN - LSTM model we get a best validation accuracy of 85%"
      ]
    },
    {
      "cell_type": "markdown",
      "metadata": {
        "id": "O1I0tOLEpFwj"
      },
      "source": [
        "As we see more cases of overfitting, lets augment the data with ***slight rotation*** as well and run the same set of models again"
      ]
    },
    {
      "cell_type": "markdown",
      "metadata": {
        "id": "rHrjk-rxpFwk"
      },
      "source": [
        "## Let's apply some data augmentation & check the model performance."
      ]
    },
    {
      "cell_type": "code",
      "execution_count": 54,
      "metadata": {
        "id": "yBld1nWgpFwk"
      },
      "outputs": [],
      "source": [
        "class ModelBuilderMoreAugmentation(metaclass= abc.ABCMeta):\n",
        "    \n",
        "    def initialize_path(self,project_folder):\n",
        "        self.train_doc = np.random.permutation(open(project_folder + '/' + 'train.csv').readlines())\n",
        "        self.val_doc = np.random.permutation(open(project_folder + '/' + 'val.csv').readlines())\n",
        "        self.train_path = project_folder + '/' + 'train'\n",
        "        self.val_path =  project_folder + '/' + 'val'\n",
        "        self.num_train_sequences = len(self.train_doc)\n",
        "        self.num_val_sequences = len(self.val_doc)\n",
        "        \n",
        "    def initialize_image_properties(self,image_height=100,image_width=100):\n",
        "        self.image_height=image_height\n",
        "        self.image_width=image_width\n",
        "        self.channels=3\n",
        "        self.num_classes=5\n",
        "        self.total_frames=30\n",
        "          \n",
        "    def initialize_hyperparams(self,frames_to_sample=30,batch_size=20,num_epochs=20):\n",
        "        self.frames_to_sample=frames_to_sample\n",
        "        self.batch_size=batch_size\n",
        "        self.num_epochs=num_epochs\n",
        "        \n",
        "        \n",
        "    def generator(self,source_path, folder_list, augment=False):\n",
        "        img_idx = np.round(np.linspace(0,self.total_frames-1,self.frames_to_sample)).astype(int)\n",
        "        batch_size=self.batch_size\n",
        "        while True:\n",
        "            t = np.random.permutation(folder_list)\n",
        "            num_batches = len(t)//batch_size\n",
        "        \n",
        "            for batch in range(num_batches): \n",
        "                batch_data, batch_labels= self.one_batch_data(source_path,t,batch,batch_size,img_idx,augment)\n",
        "                yield batch_data, batch_labels \n",
        "\n",
        "            remaining_seq=len(t)%batch_size\n",
        "        \n",
        "            if (remaining_seq != 0):\n",
        "                batch_data, batch_labels= self.one_batch_data(source_path,t,num_batches,batch_size,img_idx,augment,remaining_seq)\n",
        "                yield batch_data, batch_labels \n",
        "    \n",
        "    \n",
        "    def one_batch_data(self,source_path,t,batch,batch_size,img_idx,augment,remaining_seq=0):\n",
        "    \n",
        "        seq_len = remaining_seq if remaining_seq else batch_size\n",
        "    \n",
        "        batch_data = np.zeros((seq_len,len(img_idx),self.image_height,self.image_width,self.channels)) \n",
        "        batch_labels = np.zeros((seq_len,self.num_classes)) \n",
        "    \n",
        "        if (augment): batch_data_aug = np.zeros((seq_len,len(img_idx),self.image_height,self.image_width,self.channels))\n",
        "\n",
        "        \n",
        "        for folder in range(seq_len): \n",
        "            imgs = os.listdir(source_path+'/'+ t[folder + (batch*batch_size)].split(';')[0]) \n",
        "            for idx,item in enumerate(img_idx): \n",
        "                image = imread(source_path+'/'+ t[folder + (batch*batch_size)].strip().split(';')[0]+'/'+imgs[item]).astype(np.float32)\n",
        "                image_resized=imresize(image,(self.image_height,self.image_width,3))\n",
        "            \n",
        "\n",
        "                batch_data[folder,idx,:,:,0] = (image_resized[:,:,0])/255\n",
        "                batch_data[folder,idx,:,:,1] = (image_resized[:,:,1])/255\n",
        "                batch_data[folder,idx,:,:,2] = (image_resized[:,:,2])/255\n",
        "            \n",
        "                if (augment):\n",
        "                    shifted = cv2.warpAffine(image, \n",
        "                                             np.float32([[1, 0, np.random.randint(-30,30)],[0, 1, np.random.randint(-30,30)]]), \n",
        "                                            (image.shape[1], image.shape[0]))\n",
        "                    \n",
        "                    gray = cv2.cvtColor(shifted,cv2.COLOR_BGR2GRAY)\n",
        "\n",
        "                    x0, y0 = np.argwhere(gray > 0).min(axis=0)\n",
        "                    x1, y1 = np.argwhere(gray > 0).max(axis=0) \n",
        "                    \n",
        "                    cropped=shifted[x0:x1,y0:y1,:]\n",
        "                    \n",
        "                    image_resized=imresize(cropped,(self.image_height,self.image_width,3))\n",
        "                    \n",
        "                    M = cv2.getRotationMatrix2D((self.image_width//2,self.image_height//2),\n",
        "                                                np.random.randint(-10,10), 1.0)\n",
        "                    rotated = cv2.warpAffine(image_resized, M, (self.image_width, self.image_height))\n",
        "                    \n",
        "                    #shifted = cv2.warpAffine(image_resized, \n",
        "                    #                        np.float32([[1, 0, np.random.randint(-3,3)],[0, 1, np.random.randint(-3,3)]]), \n",
        "                    #                        (image_resized.shape[1], image_resized.shape[0]))\n",
        "            \n",
        "                    batch_data_aug[folder,idx,:,:,0] = (rotated[:,:,0])/255\n",
        "                    batch_data_aug[folder,idx,:,:,1] = (rotated[:,:,1])/255\n",
        "                    batch_data_aug[folder,idx,:,:,2] = (rotated[:,:,2])/255\n",
        "                \n",
        "            \n",
        "            batch_labels[folder, int(t[folder + (batch*batch_size)].strip().split(';')[2])] = 1\n",
        "            \n",
        "    \n",
        "        if (augment):\n",
        "            batch_data=np.concatenate([batch_data,batch_data_aug])\n",
        "            batch_labels=np.concatenate([batch_labels,batch_labels])\n",
        "\n",
        "        \n",
        "        return(batch_data,batch_labels)\n",
        "    \n",
        "    \n",
        "    def train_model(self, model, augment_data=False):\n",
        "        train_generator = self.generator(self.train_path, self.train_doc,augment=augment_data)\n",
        "        val_generator = self.generator(self.val_path, self.val_doc)\n",
        "\n",
        "        model_name = 'model_init' + '_' + str(datetime.datetime.now()).replace(' ','').replace(':','_') + '/'\n",
        "    \n",
        "        if not os.path.exists(model_name):\n",
        "            os.mkdir(model_name)\n",
        "        \n",
        "        filepath = model_name + 'model-{epoch:05d}-{loss:.5f}-{categorical_accuracy:.5f}-{val_loss:.5f}-{val_categorical_accuracy:.5f}.h5'\n",
        "\n",
        "        checkpoint = ModelCheckpoint(filepath, monitor='val_loss', verbose=1, save_best_only=False, save_weights_only=False, mode='auto', period=1)\n",
        "        LR = ReduceLROnPlateau(monitor='val_loss', factor=0.2, verbose=1, patience=4)\n",
        "        callbacks_list = [checkpoint, LR]\n",
        "\n",
        "        if (self.num_train_sequences%self.batch_size) == 0:\n",
        "            steps_per_epoch = int(self.num_train_sequences/self.batch_size)\n",
        "        else:\n",
        "            steps_per_epoch = (self.num_train_sequences//self.batch_size) + 1\n",
        "\n",
        "        if (self.num_val_sequences%self.batch_size) == 0:\n",
        "            validation_steps = int(self.num_val_sequences/self.batch_size)\n",
        "        else:\n",
        "            validation_steps = (self.num_val_sequences//self.batch_size) + 1\n",
        "    \n",
        "        history=model.fit_generator(train_generator, steps_per_epoch=steps_per_epoch, epochs=self.num_epochs, verbose=1, \n",
        "                            callbacks=callbacks_list, validation_data=val_generator, \n",
        "                            validation_steps=validation_steps, class_weight=None, workers=1, initial_epoch=0)\n",
        "        return history\n",
        "\n",
        "        \n",
        "    @abc.abstractmethod\n",
        "    def define_model(self):\n",
        "        pass\n",
        "    \n",
        "    "
      ]
    },
    {
      "cell_type": "code",
      "execution_count": 55,
      "metadata": {
        "id": "Ic_Ux1K8pFwn",
        "colab": {
          "base_uri": "https://localhost:8080/",
          "height": 204
        },
        "outputId": "4e783222-fe53-416a-c6c4-7df61fb6d522"
      },
      "outputs": [
        {
          "output_type": "display_data",
          "data": {
            "image/png": "[encoded data removed]",
            "text/plain": [
              "<Figure size 432x288 with 2 Axes>"
            ]
          },
          "metadata": {
            "needs_background": "light"
          }
        }
      ],
      "source": [
        "class Test(ModelBuilderMoreAugmentation):\n",
        "    def define_model(self):\n",
        "        pass\n",
        "\n",
        "test_generator=Test()\n",
        "test_generator.initialize_path(project_folder)\n",
        "test_generator.initialize_image_properties(image_height=160,image_width=160)\n",
        "test_generator.initialize_hyperparams(frames_to_sample=30,batch_size=3,num_epochs=1)\n",
        "\n",
        "g=test_generator.generator(test_generator.val_path,test_generator.val_doc,augment=True)\n",
        "batch_data, batch_labels=next(g)\n",
        "fig, axes = plt.subplots(nrows=1, ncols=2)\n",
        "axes[0].imshow(batch_data[0,29,:,:,:])   \n",
        "axes[1].imshow(batch_data[3,29,:,:,:]) \n",
        "plt.show()"
      ]
    },
    {
      "cell_type": "markdown",
      "metadata": {
        "id": "jpG9J6jVpFwn"
      },
      "source": [
        "## Model 9 with Augmentation\n",
        "### (3,3,3) Filter & 160x160 Image resolution - similar to Model 2"
      ]
    },
    {
      "cell_type": "code",
      "execution_count": 56,
      "metadata": {
        "id": "r3YvkzBrpFwn"
      },
      "outputs": [],
      "source": [
        "class ModelConv3D9(ModelBuilderMoreAugmentation):\n",
        "    \n",
        "    def define_model(self,filtersize=(3,3,3),dense_neurons=64,dropout=0.25):\n",
        "\n",
        "        model = Sequential()\n",
        "        model.add(Conv3D(16, filtersize, padding='same',\n",
        "                 input_shape=(self.frames_to_sample,self.image_height,self.image_width,self.channels)))\n",
        "        model.add(Activation('relu'))\n",
        "        model.add(BatchNormalization())\n",
        "        model.add(MaxPooling3D(pool_size=(2, 2, 2)))\n",
        "\n",
        "        model.add(Conv3D(32, filtersize, padding='same'))\n",
        "        model.add(Activation('relu'))\n",
        "        model.add(BatchNormalization())\n",
        "        model.add(MaxPooling3D(pool_size=(2, 2, 2)))\n",
        "\n",
        "        model.add(Conv3D(64, filtersize, padding='same'))\n",
        "        model.add(Activation('relu'))\n",
        "        model.add(BatchNormalization())\n",
        "        model.add(MaxPooling3D(pool_size=(2, 2, 2)))\n",
        "\n",
        "        model.add(Conv3D(128, filtersize, padding='same'))\n",
        "        model.add(Activation('relu'))\n",
        "        model.add(BatchNormalization())\n",
        "        model.add(MaxPooling3D(pool_size=(2, 2, 2)))\n",
        "\n",
        "        model.add(Flatten())\n",
        "        model.add(Dense(dense_neurons,activation='relu'))\n",
        "        model.add(BatchNormalization())\n",
        "        model.add(Dropout(dropout))\n",
        "\n",
        "        model.add(Dense(dense_neurons,activation='relu'))\n",
        "        model.add(BatchNormalization())\n",
        "        model.add(Dropout(dropout))\n",
        "\n",
        "\n",
        "        model.add(Dense(self.num_classes,activation='softmax'))\n",
        "\n",
        "        optimiser = tf.optimizers.Adam(lr=0.0002)\n",
        "        model.compile(optimizer=optimiser, loss='categorical_crossentropy', metrics=['categorical_accuracy'])\n",
        "        return model"
      ]
    },
    {
      "cell_type": "code",
      "execution_count": 57,
      "metadata": {
        "id": "UTupY3gNpFwo",
        "colab": {
          "base_uri": "https://localhost:8080/"
        },
        "outputId": "9330d38a-4080-4c18-fe75-5996463a9ef8"
      },
      "outputs": [
        {
          "output_type": "stream",
          "name": "stdout",
          "text": [
            "Model: \"sequential_13\"\n",
            "_________________________________________________________________\n",
            " Layer (type)                Output Shape              Param #   \n",
            "=================================================================\n",
            " conv3d_56 (Conv3D)          (None, 20, 160, 160, 16)  1312      \n",
            "                                                                 \n",
            " activation_56 (Activation)  (None, 20, 160, 160, 16)  0         \n",
            "                                                                 \n",
            " batch_normalization_85 (Bat  (None, 20, 160, 160, 16)  64       \n",
            " chNormalization)                                                \n",
            "                                                                 \n",
            " max_pooling3d_48 (MaxPoolin  (None, 10, 80, 80, 16)   0         \n",
            " g3D)                                                            \n",
            "                                                                 \n",
            " conv3d_57 (Conv3D)          (None, 10, 80, 80, 32)    13856     \n",
            "                                                                 \n",
            " activation_57 (Activation)  (None, 10, 80, 80, 32)    0         \n",
            "                                                                 \n",
            " batch_normalization_86 (Bat  (None, 10, 80, 80, 32)   128       \n",
            " chNormalization)                                                \n",
            "                                                                 \n",
            " max_pooling3d_49 (MaxPoolin  (None, 5, 40, 40, 32)    0         \n",
            " g3D)                                                            \n",
            "                                                                 \n",
            " conv3d_58 (Conv3D)          (None, 5, 40, 40, 64)     55360     \n",
            "                                                                 \n",
            " activation_58 (Activation)  (None, 5, 40, 40, 64)     0         \n",
            "                                                                 \n",
            " batch_normalization_87 (Bat  (None, 5, 40, 40, 64)    256       \n",
            " chNormalization)                                                \n",
            "                                                                 \n",
            " max_pooling3d_50 (MaxPoolin  (None, 2, 20, 20, 64)    0         \n",
            " g3D)                                                            \n",
            "                                                                 \n",
            " conv3d_59 (Conv3D)          (None, 2, 20, 20, 128)    221312    \n",
            "                                                                 \n",
            " activation_59 (Activation)  (None, 2, 20, 20, 128)    0         \n",
            "                                                                 \n",
            " batch_normalization_88 (Bat  (None, 2, 20, 20, 128)   512       \n",
            " chNormalization)                                                \n",
            "                                                                 \n",
            " max_pooling3d_51 (MaxPoolin  (None, 1, 10, 10, 128)   0         \n",
            " g3D)                                                            \n",
            "                                                                 \n",
            " flatten_13 (Flatten)        (None, 12800)             0         \n",
            "                                                                 \n",
            " dense_38 (Dense)            (None, 256)               3277056   \n",
            "                                                                 \n",
            " batch_normalization_89 (Bat  (None, 256)              1024      \n",
            " chNormalization)                                                \n",
            "                                                                 \n",
            " dropout_30 (Dropout)        (None, 256)               0         \n",
            "                                                                 \n",
            " dense_39 (Dense)            (None, 256)               65792     \n",
            "                                                                 \n",
            " batch_normalization_90 (Bat  (None, 256)              1024      \n",
            " chNormalization)                                                \n",
            "                                                                 \n",
            " dropout_31 (Dropout)        (None, 256)               0         \n",
            "                                                                 \n",
            " dense_40 (Dense)            (None, 5)                 1285      \n",
            "                                                                 \n",
            "=================================================================\n",
            "Total params: 3,638,981\n",
            "Trainable params: 3,637,477\n",
            "Non-trainable params: 1,504\n",
            "_________________________________________________________________\n"
          ]
        }
      ],
      "source": [
        "conv_3d9=ModelConv3D9()\n",
        "conv_3d9.initialize_path(project_folder)\n",
        "conv_3d9.initialize_image_properties(image_height=160,image_width=160)\n",
        "conv_3d9.initialize_hyperparams(frames_to_sample=20,batch_size=20,num_epochs=20)\n",
        "conv_3d9_model=conv_3d9.define_model(dense_neurons=256,dropout=0.5)\n",
        "conv_3d9_model.summary()\n"
      ]
    },
    {
      "cell_type": "code",
      "execution_count": 58,
      "metadata": {
        "id": "_5wx1O99pFwo",
        "colab": {
          "base_uri": "https://localhost:8080/"
        },
        "outputId": "720bac25-22d1-4054-9cee-54ae87534720"
      },
      "outputs": [
        {
          "output_type": "stream",
          "name": "stdout",
          "text": [
            "Total Params: 3638981\n",
            "WARNING:tensorflow:`period` argument is deprecated. Please use `save_freq` to specify the frequency in number of batches seen.\n",
            "Epoch 1/20\n",
            "34/34 [==============================] - ETA: 0s - loss: 1.8230 - categorical_accuracy: 0.3899\n",
            "Epoch 00001: saving model to model_init_2022-01-1215_59_12.227890/model-00001-1.82301-0.38989-2.91249-0.21000.h5\n",
            "34/34 [==============================] - 309s 9s/step - loss: 1.8230 - categorical_accuracy: 0.3899 - val_loss: 2.9125 - val_categorical_accuracy: 0.2100 - lr: 2.0000e-04\n",
            "Epoch 2/20\n",
            "34/34 [==============================] - ETA: 0s - loss: 1.4161 - categorical_accuracy: 0.5204\n",
            "Epoch 00002: saving model to model_init_2022-01-1215_59_12.227890/model-00002-1.41606-0.52036-4.72966-0.21000.h5\n",
            "34/34 [==============================] - 313s 9s/step - loss: 1.4161 - categorical_accuracy: 0.5204 - val_loss: 4.7297 - val_categorical_accuracy: 0.2100 - lr: 2.0000e-04\n",
            "Epoch 3/20\n",
            "34/34 [==============================] - ETA: 0s - loss: 1.1343 - categorical_accuracy: 0.6011\n",
            "Epoch 00003: saving model to model_init_2022-01-1215_59_12.227890/model-00003-1.13435-0.60106-6.75143-0.16000.h5\n",
            "34/34 [==============================] - 312s 9s/step - loss: 1.1343 - categorical_accuracy: 0.6011 - val_loss: 6.7514 - val_categorical_accuracy: 0.1600 - lr: 2.0000e-04\n",
            "Epoch 4/20\n",
            "34/34 [==============================] - ETA: 0s - loss: 1.1111 - categorical_accuracy: 0.6116\n",
            "Epoch 00004: saving model to model_init_2022-01-1215_59_12.227890/model-00004-1.11111-0.61161-6.27407-0.23000.h5\n",
            "34/34 [==============================] - 310s 9s/step - loss: 1.1111 - categorical_accuracy: 0.6116 - val_loss: 6.2741 - val_categorical_accuracy: 0.2300 - lr: 2.0000e-04\n",
            "Epoch 5/20\n",
            "34/34 [==============================] - ETA: 0s - loss: 1.0442 - categorical_accuracy: 0.6380\n",
            "Epoch 00005: saving model to model_init_2022-01-1215_59_12.227890/model-00005-1.04416-0.63801-6.90567-0.24000.h5\n",
            "\n",
            "Epoch 00005: ReduceLROnPlateau reducing learning rate to 3.9999998989515007e-05.\n",
            "34/34 [==============================] - 313s 9s/step - loss: 1.0442 - categorical_accuracy: 0.6380 - val_loss: 6.9057 - val_categorical_accuracy: 0.2400 - lr: 2.0000e-04\n",
            "Epoch 6/20\n",
            "34/34 [==============================] - ETA: 0s - loss: 0.9268 - categorical_accuracy: 0.6689\n",
            "Epoch 00006: saving model to model_init_2022-01-1215_59_12.227890/model-00006-0.92677-0.66893-6.48388-0.21000.h5\n",
            "34/34 [==============================] - 309s 9s/step - loss: 0.9268 - categorical_accuracy: 0.6689 - val_loss: 6.4839 - val_categorical_accuracy: 0.2100 - lr: 4.0000e-05\n",
            "Epoch 7/20\n",
            "34/34 [==============================] - ETA: 0s - loss: 0.8351 - categorical_accuracy: 0.6817\n",
            "Epoch 00007: saving model to model_init_2022-01-1215_59_12.227890/model-00007-0.83511-0.68175-6.19912-0.21000.h5\n",
            "34/34 [==============================] - 312s 9s/step - loss: 0.8351 - categorical_accuracy: 0.6817 - val_loss: 6.1991 - val_categorical_accuracy: 0.2100 - lr: 4.0000e-05\n",
            "Epoch 8/20\n",
            "34/34 [==============================] - ETA: 0s - loss: 0.7790 - categorical_accuracy: 0.7187\n",
            "Epoch 00008: saving model to model_init_2022-01-1215_59_12.227890/model-00008-0.77899-0.71870-6.47361-0.24000.h5\n",
            "34/34 [==============================] - 311s 9s/step - loss: 0.7790 - categorical_accuracy: 0.7187 - val_loss: 6.4736 - val_categorical_accuracy: 0.2400 - lr: 4.0000e-05\n",
            "Epoch 9/20\n",
            "34/34 [==============================] - ETA: 0s - loss: 0.7041 - categorical_accuracy: 0.7345\n",
            "Epoch 00009: saving model to model_init_2022-01-1215_59_12.227890/model-00009-0.70405-0.73454-7.08167-0.16000.h5\n",
            "\n",
            "Epoch 00009: ReduceLROnPlateau reducing learning rate to 7.999999797903002e-06.\n",
            "34/34 [==============================] - 315s 10s/step - loss: 0.7041 - categorical_accuracy: 0.7345 - val_loss: 7.0817 - val_categorical_accuracy: 0.1600 - lr: 4.0000e-05\n",
            "Epoch 10/20\n",
            "34/34 [==============================] - ETA: 0s - loss: 0.7257 - categorical_accuracy: 0.7315\n",
            "Epoch 00010: saving model to model_init_2022-01-1215_59_12.227890/model-00010-0.72574-0.73152-6.20316-0.24000.h5\n",
            "34/34 [==============================] - 325s 10s/step - loss: 0.7257 - categorical_accuracy: 0.7315 - val_loss: 6.2032 - val_categorical_accuracy: 0.2400 - lr: 8.0000e-06\n",
            "Epoch 11/20\n",
            "34/34 [==============================] - ETA: 0s - loss: 0.7439 - categorical_accuracy: 0.7285\n",
            "Epoch 00011: saving model to model_init_2022-01-1215_59_12.227890/model-00011-0.74391-0.72851-6.05051-0.22000.h5\n",
            "34/34 [==============================] - 325s 10s/step - loss: 0.7439 - categorical_accuracy: 0.7285 - val_loss: 6.0505 - val_categorical_accuracy: 0.2200 - lr: 8.0000e-06\n",
            "Epoch 12/20\n",
            "34/34 [==============================] - ETA: 0s - loss: 0.7307 - categorical_accuracy: 0.7308\n",
            "Epoch 00012: saving model to model_init_2022-01-1215_59_12.227890/model-00012-0.73069-0.73077-5.38330-0.24000.h5\n",
            "34/34 [==============================] - 324s 10s/step - loss: 0.7307 - categorical_accuracy: 0.7308 - val_loss: 5.3833 - val_categorical_accuracy: 0.2400 - lr: 8.0000e-06\n",
            "Epoch 13/20\n",
            "34/34 [==============================] - ETA: 0s - loss: 0.6743 - categorical_accuracy: 0.7632\n",
            "Epoch 00013: saving model to model_init_2022-01-1215_59_12.227890/model-00013-0.67427-0.76320-4.29258-0.29000.h5\n",
            "\n",
            "Epoch 00013: ReduceLROnPlateau reducing learning rate to 1.5999999959603884e-06.\n",
            "34/34 [==============================] - 320s 10s/step - loss: 0.6743 - categorical_accuracy: 0.7632 - val_loss: 4.2926 - val_categorical_accuracy: 0.2900 - lr: 8.0000e-06\n",
            "Epoch 14/20\n",
            "34/34 [==============================] - ETA: 0s - loss: 0.6994 - categorical_accuracy: 0.7391\n",
            "Epoch 00014: saving model to model_init_2022-01-1215_59_12.227890/model-00014-0.69939-0.73906-4.13645-0.25000.h5\n",
            "34/34 [==============================] - 325s 10s/step - loss: 0.6994 - categorical_accuracy: 0.7391 - val_loss: 4.1364 - val_categorical_accuracy: 0.2500 - lr: 1.6000e-06\n",
            "Epoch 15/20\n",
            "34/34 [==============================] - ETA: 0s - loss: 0.6909 - categorical_accuracy: 0.7504\n",
            "Epoch 00015: saving model to model_init_2022-01-1215_59_12.227890/model-00015-0.69087-0.75038-2.95404-0.31000.h5\n",
            "34/34 [==============================] - 333s 10s/step - loss: 0.6909 - categorical_accuracy: 0.7504 - val_loss: 2.9540 - val_categorical_accuracy: 0.3100 - lr: 1.6000e-06\n",
            "Epoch 16/20\n",
            "34/34 [==============================] - ETA: 0s - loss: 0.7373 - categorical_accuracy: 0.7293\n",
            "Epoch 00016: saving model to model_init_2022-01-1215_59_12.227890/model-00016-0.73726-0.72926-2.33303-0.38000.h5\n",
            "34/34 [==============================] - 321s 10s/step - loss: 0.7373 - categorical_accuracy: 0.7293 - val_loss: 2.3330 - val_categorical_accuracy: 0.3800 - lr: 1.6000e-06\n",
            "Epoch 17/20\n",
            "34/34 [==============================] - ETA: 0s - loss: 0.6913 - categorical_accuracy: 0.7541\n",
            "Epoch 00017: saving model to model_init_2022-01-1215_59_12.227890/model-00017-0.69128-0.75415-1.87426-0.43000.h5\n",
            "34/34 [==============================] - 319s 10s/step - loss: 0.6913 - categorical_accuracy: 0.7541 - val_loss: 1.8743 - val_categorical_accuracy: 0.4300 - lr: 1.6000e-06\n",
            "Epoch 18/20\n",
            "34/34 [==============================] - ETA: 0s - loss: 0.7044 - categorical_accuracy: 0.7526\n",
            "Epoch 00018: saving model to model_init_2022-01-1215_59_12.227890/model-00018-0.70438-0.75264-1.47064-0.52000.h5\n",
            "34/34 [==============================] - 311s 9s/step - loss: 0.7044 - categorical_accuracy: 0.7526 - val_loss: 1.4706 - val_categorical_accuracy: 0.5200 - lr: 1.6000e-06\n",
            "Epoch 19/20\n",
            "34/34 [==============================] - ETA: 0s - loss: 0.6623 - categorical_accuracy: 0.7557\n",
            "Epoch 00019: saving model to model_init_2022-01-1215_59_12.227890/model-00019-0.66228-0.75566-1.11752-0.62000.h5\n",
            "34/34 [==============================] - 294s 9s/step - loss: 0.6623 - categorical_accuracy: 0.7557 - val_loss: 1.1175 - val_categorical_accuracy: 0.6200 - lr: 1.6000e-06\n",
            "Epoch 20/20\n",
            "34/34 [==============================] - ETA: 0s - loss: 0.6859 - categorical_accuracy: 0.7511\n",
            "Epoch 00020: saving model to model_init_2022-01-1215_59_12.227890/model-00020-0.68587-0.75113-1.14507-0.63000.h5\n",
            "34/34 [==============================] - 313s 9s/step - loss: 0.6859 - categorical_accuracy: 0.7511 - val_loss: 1.1451 - val_categorical_accuracy: 0.6300 - lr: 1.6000e-06\n"
          ]
        }
      ],
      "source": [
        "print(\"Total Params:\", conv_3d9_model.count_params())\n",
        "history_model9=conv_3d9.train_model(conv_3d9_model,augment_data=True)"
      ]
    },
    {
      "cell_type": "code",
      "execution_count": 59,
      "metadata": {
        "scrolled": true,
        "id": "VWUv2I48pFwo",
        "colab": {
          "base_uri": "https://localhost:8080/",
          "height": 264
        },
        "outputId": "e712f2ff-9d2d-479f-8564-f907c6ad9edf"
      },
      "outputs": [
        {
          "output_type": "display_data",
          "data": {
            "image/png": "[encoded data removed]",
            "text/plain": [
              "<Figure size 1080x288 with 2 Axes>"
            ]
          },
          "metadata": {
            "needs_background": "light"
          }
        }
      ],
      "source": [
        "plot(history_model9)"
      ]
    },
    {
      "cell_type": "markdown",
      "metadata": {
        "id": "IwK-ZBqepFwo"
      },
      "source": [
        "## Model 10 with Augmentation\n",
        "### (2,2,2) Filter  & 120x120 Image resolution - similar to Model 3"
      ]
    },
    {
      "cell_type": "code",
      "execution_count": 60,
      "metadata": {
        "id": "_2POBRRipFwp"
      },
      "outputs": [],
      "source": [
        "class ModelConv3D10(ModelBuilderMoreAugmentation):\n",
        "    \n",
        "    def define_model(self,filtersize=(3,3,3),dense_neurons=64,dropout=0.25):\n",
        "\n",
        "        model = Sequential()\n",
        "        model.add(Conv3D(16, filtersize, padding='same',\n",
        "                 input_shape=(self.frames_to_sample,self.image_height,self.image_width,self.channels)))\n",
        "        model.add(Activation('relu'))\n",
        "        model.add(BatchNormalization())\n",
        "        model.add(MaxPooling3D(pool_size=(2, 2, 2)))\n",
        "\n",
        "        model.add(Conv3D(32, filtersize, padding='same'))\n",
        "        model.add(Activation('relu'))\n",
        "        model.add(BatchNormalization())\n",
        "        model.add(MaxPooling3D(pool_size=(2, 2, 2)))\n",
        "\n",
        "        model.add(Conv3D(64, filtersize, padding='same'))\n",
        "        model.add(Activation('relu'))\n",
        "        model.add(BatchNormalization())\n",
        "        model.add(MaxPooling3D(pool_size=(2, 2, 2)))\n",
        "\n",
        "        model.add(Conv3D(128, filtersize, padding='same'))\n",
        "        model.add(Activation('relu'))\n",
        "        model.add(BatchNormalization())\n",
        "        model.add(MaxPooling3D(pool_size=(2, 2, 2)))\n",
        "\n",
        "        model.add(Flatten())\n",
        "        model.add(Dense(dense_neurons,activation='relu'))\n",
        "        model.add(BatchNormalization())\n",
        "        model.add(Dropout(dropout))\n",
        "\n",
        "        model.add(Dense(dense_neurons,activation='relu'))\n",
        "        model.add(BatchNormalization())\n",
        "        model.add(Dropout(dropout))\n",
        "\n",
        "\n",
        "        model.add(Dense(self.num_classes,activation='softmax'))\n",
        "\n",
        "        optimiser = tf.optimizers.Adam(lr=0.0002)\n",
        "        model.compile(optimizer=optimiser, loss='categorical_crossentropy', metrics=['categorical_accuracy'])\n",
        "        return model"
      ]
    },
    {
      "cell_type": "code",
      "execution_count": 61,
      "metadata": {
        "id": "WXGay9llpFwp",
        "colab": {
          "base_uri": "https://localhost:8080/"
        },
        "outputId": "44ad5df9-d4cd-408a-ea1c-019d4f7a4c7a"
      },
      "outputs": [
        {
          "output_type": "stream",
          "name": "stdout",
          "text": [
            "Model: \"sequential_14\"\n",
            "_________________________________________________________________\n",
            " Layer (type)                Output Shape              Param #   \n",
            "=================================================================\n",
            " conv3d_60 (Conv3D)          (None, 16, 120, 120, 16)  400       \n",
            "                                                                 \n",
            " activation_60 (Activation)  (None, 16, 120, 120, 16)  0         \n",
            "                                                                 \n",
            " batch_normalization_91 (Bat  (None, 16, 120, 120, 16)  64       \n",
            " chNormalization)                                                \n",
            "                                                                 \n",
            " max_pooling3d_52 (MaxPoolin  (None, 8, 60, 60, 16)    0         \n",
            " g3D)                                                            \n",
            "                                                                 \n",
            " conv3d_61 (Conv3D)          (None, 8, 60, 60, 32)     4128      \n",
            "                                                                 \n",
            " activation_61 (Activation)  (None, 8, 60, 60, 32)     0         \n",
            "                                                                 \n",
            " batch_normalization_92 (Bat  (None, 8, 60, 60, 32)    128       \n",
            " chNormalization)                                                \n",
            "                                                                 \n",
            " max_pooling3d_53 (MaxPoolin  (None, 4, 30, 30, 32)    0         \n",
            " g3D)                                                            \n",
            "                                                                 \n",
            " conv3d_62 (Conv3D)          (None, 4, 30, 30, 64)     16448     \n",
            "                                                                 \n",
            " activation_62 (Activation)  (None, 4, 30, 30, 64)     0         \n",
            "                                                                 \n",
            " batch_normalization_93 (Bat  (None, 4, 30, 30, 64)    256       \n",
            " chNormalization)                                                \n",
            "                                                                 \n",
            " max_pooling3d_54 (MaxPoolin  (None, 2, 15, 15, 64)    0         \n",
            " g3D)                                                            \n",
            "                                                                 \n",
            " conv3d_63 (Conv3D)          (None, 2, 15, 15, 128)    65664     \n",
            "                                                                 \n",
            " activation_63 (Activation)  (None, 2, 15, 15, 128)    0         \n",
            "                                                                 \n",
            " batch_normalization_94 (Bat  (None, 2, 15, 15, 128)   512       \n",
            " chNormalization)                                                \n",
            "                                                                 \n",
            " max_pooling3d_55 (MaxPoolin  (None, 1, 7, 7, 128)     0         \n",
            " g3D)                                                            \n",
            "                                                                 \n",
            " flatten_14 (Flatten)        (None, 6272)              0         \n",
            "                                                                 \n",
            " dense_41 (Dense)            (None, 256)               1605888   \n",
            "                                                                 \n",
            " batch_normalization_95 (Bat  (None, 256)              1024      \n",
            " chNormalization)                                                \n",
            "                                                                 \n",
            " dropout_32 (Dropout)        (None, 256)               0         \n",
            "                                                                 \n",
            " dense_42 (Dense)            (None, 256)               65792     \n",
            "                                                                 \n",
            " batch_normalization_96 (Bat  (None, 256)              1024      \n",
            " chNormalization)                                                \n",
            "                                                                 \n",
            " dropout_33 (Dropout)        (None, 256)               0         \n",
            "                                                                 \n",
            " dense_43 (Dense)            (None, 5)                 1285      \n",
            "                                                                 \n",
            "=================================================================\n",
            "Total params: 1,762,613\n",
            "Trainable params: 1,761,109\n",
            "Non-trainable params: 1,504\n",
            "_________________________________________________________________\n"
          ]
        }
      ],
      "source": [
        "conv_3d10=ModelConv3D10()\n",
        "conv_3d10.initialize_path(project_folder)\n",
        "conv_3d10.initialize_image_properties(image_height=120,image_width=120)\n",
        "conv_3d10.initialize_hyperparams(frames_to_sample=16,batch_size=30,num_epochs=25)\n",
        "conv_3d10_model=conv_3d10.define_model(filtersize=(2,2,2),dense_neurons=256,dropout=0.5)\n",
        "conv_3d10_model.summary()"
      ]
    },
    {
      "cell_type": "code",
      "execution_count": null,
      "metadata": {
        "scrolled": false,
        "id": "xsF9GpA1pFwp",
        "colab": {
          "base_uri": "https://localhost:8080/"
        },
        "outputId": "f755a02c-7f4e-4e02-879b-2fcbfb3a1801"
      },
      "outputs": [
        {
          "output_type": "stream",
          "name": "stdout",
          "text": [
            "Total Params: 1762613\n",
            "WARNING:tensorflow:`period` argument is deprecated. Please use `save_freq` to specify the frequency in number of batches seen.\n",
            "Epoch 1/25\n",
            " 3/23 [==>...........................] - ETA: 2:24 - loss: 2.5915 - categorical_accuracy: 0.1833"
          ]
        }
      ],
      "source": [
        "print(\"Total Params:\", conv_3d10_model.count_params())\n",
        "history_model10=conv_3d10.train_model(conv_3d10_model,augment_data=True)"
      ]
    },
    {
      "cell_type": "code",
      "execution_count": null,
      "metadata": {
        "scrolled": true,
        "id": "15iEbYNPpFwp"
      },
      "outputs": [],
      "source": [
        "plot(history_model10)"
      ]
    },
    {
      "cell_type": "markdown",
      "metadata": {
        "id": "75GCOroppFwq"
      },
      "source": [
        "## Model 11 with Augmentation\n",
        "### Adding more layers - Similar to model 4"
      ]
    },
    {
      "cell_type": "code",
      "execution_count": null,
      "metadata": {
        "id": "Nzrq2wMcpFwq"
      },
      "outputs": [],
      "source": [
        "class ModelConv3D11(ModelBuilderMoreAugmentation):\n",
        "    \n",
        "    def define_model(self,filtersize=(3,3,3),dense_neurons=64,dropout=0.25):\n",
        "\n",
        "        model = Sequential()\n",
        "        model.add(Conv3D(16, filtersize, padding='same',\n",
        "                 input_shape=(self.frames_to_sample,self.image_height,self.image_width,self.channels)))\n",
        "        model.add(Activation('relu'))\n",
        "        model.add(BatchNormalization())\n",
        "        \n",
        "        model.add(Conv3D(16, filtersize, padding='same',\n",
        "                 input_shape=(self.frames_to_sample,self.image_height,self.image_width,self.channels)))\n",
        "        model.add(Activation('relu'))\n",
        "        model.add(BatchNormalization())\n",
        "        \n",
        "        model.add(MaxPooling3D(pool_size=(2, 2, 2)))\n",
        "\n",
        "        model.add(Conv3D(32, filtersize, padding='same'))\n",
        "        model.add(Activation('relu'))\n",
        "        model.add(BatchNormalization())\n",
        "        \n",
        "        model.add(Conv3D(32, filtersize, padding='same'))\n",
        "        model.add(Activation('relu'))\n",
        "        model.add(BatchNormalization())\n",
        "        \n",
        "        model.add(MaxPooling3D(pool_size=(2, 2, 2)))\n",
        "\n",
        "        model.add(Conv3D(64, filtersize, padding='same'))\n",
        "        model.add(Activation('relu'))\n",
        "        model.add(BatchNormalization())\n",
        "        \n",
        "        model.add(Conv3D(64, filtersize, padding='same'))\n",
        "        model.add(Activation('relu'))\n",
        "        model.add(BatchNormalization())\n",
        "        \n",
        "        model.add(MaxPooling3D(pool_size=(2, 2, 2)))\n",
        "\n",
        "        model.add(Conv3D(128, filtersize, padding='same'))\n",
        "        model.add(Activation('relu'))\n",
        "        model.add(BatchNormalization())\n",
        "        \n",
        "        model.add(Conv3D(128, filtersize, padding='same'))\n",
        "        model.add(Activation('relu'))\n",
        "        model.add(BatchNormalization())\n",
        "        \n",
        "        model.add(MaxPooling3D(pool_size=(2, 2, 2)))\n",
        "        \n",
        "\n",
        "        model.add(Flatten())\n",
        "        model.add(Dense(dense_neurons,activation='relu'))\n",
        "        model.add(BatchNormalization())\n",
        "        model.add(Dropout(dropout))\n",
        "\n",
        "        model.add(Dense(dense_neurons,activation='relu'))\n",
        "        model.add(BatchNormalization())\n",
        "        model.add(Dropout(dropout))\n",
        "\n",
        "\n",
        "        model.add(Dense(self.num_classes,activation='softmax'))\n",
        "\n",
        "        optimiser = tf.optimizers.Adam(lr=0.0002)\n",
        "        model.compile(optimizer=optimiser, loss='categorical_crossentropy', metrics=['categorical_accuracy'])\n",
        "        return model"
      ]
    },
    {
      "cell_type": "code",
      "execution_count": null,
      "metadata": {
        "id": "bHvs1zqxpFwq"
      },
      "outputs": [],
      "source": [
        "conv_3d11=ModelConv3D11()\n",
        "conv_3d11.initialize_path(project_folder)\n",
        "conv_3d11.initialize_image_properties(image_height=120,image_width=120)\n",
        "conv_3d11.initialize_hyperparams(frames_to_sample=16,batch_size=20,num_epochs=25)\n",
        "conv_3d11_model=conv_3d11.define_model(filtersize=(3,3,3),dense_neurons=256,dropout=0.5)\n",
        "conv_3d11_model.summary()"
      ]
    },
    {
      "cell_type": "code",
      "execution_count": null,
      "metadata": {
        "scrolled": false,
        "id": "fDriHtSkpFwq"
      },
      "outputs": [],
      "source": [
        "print(\"Total Params:\", conv_3d11_model.count_params())\n",
        "history_model11=conv_3d11.train_model(conv_3d11_model,augment_data=True)"
      ]
    },
    {
      "cell_type": "code",
      "execution_count": null,
      "metadata": {
        "id": "aSPcVQJMpFwq"
      },
      "outputs": [],
      "source": [
        "plot(history_model11)"
      ]
    },
    {
      "cell_type": "markdown",
      "metadata": {
        "id": "M2LrTV1TpFwr"
      },
      "source": [
        "## Model 12 with Augmentation\n",
        "### Adding dropouts - Similar to Model 5"
      ]
    },
    {
      "cell_type": "code",
      "execution_count": null,
      "metadata": {
        "id": "v2g2x2-apFwr"
      },
      "outputs": [],
      "source": [
        "class ModelConv3D12(ModelBuilderMoreAugmentation):\n",
        "    \n",
        "    def define_model(self,filtersize=(3,3,3),dense_neurons=64,dropout=0.25):\n",
        "\n",
        "        model = Sequential()\n",
        "        model.add(Conv3D(16, filtersize, padding='same',\n",
        "                 input_shape=(self.frames_to_sample,self.image_height,self.image_width,self.channels)))\n",
        "        model.add(Activation('relu'))\n",
        "        model.add(BatchNormalization())\n",
        "        \n",
        "        model.add(Conv3D(16, filtersize, padding='same',\n",
        "                 input_shape=(self.frames_to_sample,self.image_height,self.image_width,self.channels)))\n",
        "        model.add(Activation('relu'))\n",
        "        model.add(BatchNormalization())\n",
        "        \n",
        "        model.add(MaxPooling3D(pool_size=(2, 2, 2)))\n",
        "        model.add(Dropout(dropout))\n",
        "\n",
        "        model.add(Conv3D(32, filtersize, padding='same'))\n",
        "        model.add(Activation('relu'))\n",
        "        model.add(BatchNormalization())\n",
        "        \n",
        "        model.add(Conv3D(32, filtersize, padding='same'))\n",
        "        model.add(Activation('relu'))\n",
        "        model.add(BatchNormalization())\n",
        "        \n",
        "        model.add(MaxPooling3D(pool_size=(2, 2, 2)))\n",
        "        model.add(Dropout(dropout))\n",
        "\n",
        "        model.add(Conv3D(64, filtersize, padding='same'))\n",
        "        model.add(Activation('relu'))\n",
        "        model.add(BatchNormalization())\n",
        "        \n",
        "        model.add(Conv3D(64, filtersize, padding='same'))\n",
        "        model.add(Activation('relu'))\n",
        "        model.add(BatchNormalization())\n",
        "        \n",
        "        model.add(MaxPooling3D(pool_size=(2, 2, 2)))\n",
        "        model.add(Dropout(dropout))\n",
        "\n",
        "        model.add(Conv3D(128, filtersize, padding='same'))\n",
        "        model.add(Activation('relu'))\n",
        "        model.add(BatchNormalization())\n",
        "        \n",
        "        model.add(Conv3D(128, filtersize, padding='same'))\n",
        "        model.add(Activation('relu'))\n",
        "        model.add(BatchNormalization())\n",
        "        \n",
        "        model.add(MaxPooling3D(pool_size=(2, 2, 2)))\n",
        "        model.add(Dropout(dropout))\n",
        "        \n",
        "        model.add(Flatten())\n",
        "        model.add(Dense(dense_neurons,activation='relu'))\n",
        "        model.add(BatchNormalization())\n",
        "        model.add(Dropout(dropout))\n",
        "\n",
        "        model.add(Dense(dense_neurons,activation='relu'))\n",
        "        model.add(BatchNormalization())\n",
        "        model.add(Dropout(dropout))\n",
        "\n",
        "\n",
        "        model.add(Dense(self.num_classes,activation='softmax'))\n",
        "\n",
        "        optimiser = tf.optimizers.Adam(lr=0.0002)\n",
        "        model.compile(optimizer=optimiser, loss='categorical_crossentropy', metrics=['categorical_accuracy'])\n",
        "        return model"
      ]
    },
    {
      "cell_type": "code",
      "execution_count": null,
      "metadata": {
        "id": "iSHmQpwSpFwr"
      },
      "outputs": [],
      "source": [
        "conv_3d12=ModelConv3D12()\n",
        "conv_3d12.initialize_path(project_folder)\n",
        "conv_3d12.initialize_image_properties(image_height=120,image_width=120)\n",
        "conv_3d12.initialize_hyperparams(frames_to_sample=16,batch_size=20,num_epochs=25)\n",
        "conv_3d12_model=conv_3d12.define_model(filtersize=(3,3,3),dense_neurons=256,dropout=0.25)\n",
        "conv_3d12_model.summary()"
      ]
    },
    {
      "cell_type": "code",
      "execution_count": null,
      "metadata": {
        "scrolled": false,
        "id": "KjAzt9uspFwr"
      },
      "outputs": [],
      "source": [
        "print(\"Total Params:\", conv_3d12_model.count_params())\n",
        "history_model12=conv_3d12.train_model(conv_3d12_model,augment_data=True)"
      ]
    },
    {
      "cell_type": "code",
      "execution_count": null,
      "metadata": {
        "id": "6HFvC-QZpFws"
      },
      "outputs": [],
      "source": [
        "plot(history_model12)"
      ]
    },
    {
      "cell_type": "markdown",
      "metadata": {
        "id": "KaiRSWCnpFws"
      },
      "source": [
        "Model is overfitting badly !!"
      ]
    },
    {
      "cell_type": "markdown",
      "metadata": {
        "id": "F6SMmoW2pFws"
      },
      "source": [
        "## Model 13 with Augmentation\n",
        "### Reducing network parameters - Similar to Model 6"
      ]
    },
    {
      "cell_type": "code",
      "execution_count": null,
      "metadata": {
        "id": "bUNgmsu7pFws"
      },
      "outputs": [],
      "source": [
        "class ModelConv3D13(ModelBuilderMoreAugmentation):\n",
        "    \n",
        "    def define_model(self,dense_neurons=64,dropout=0.25):\n",
        "\n",
        "        model = Sequential()\n",
        "        model.add(Conv3D(16, (3, 3, 3), padding='same',\n",
        "                 input_shape=(self.frames_to_sample,self.image_height,self.image_width,self.channels)))\n",
        "        model.add(Activation('relu'))\n",
        "        model.add(BatchNormalization())\n",
        "        model.add(MaxPooling3D(pool_size=(2, 2, 2)))\n",
        "\n",
        "        model.add(Conv3D(32, (2, 2, 2), padding='same'))\n",
        "        model.add(Activation('relu'))\n",
        "        model.add(BatchNormalization())\n",
        "        model.add(MaxPooling3D(pool_size=(2, 2, 2)))\n",
        "\n",
        "        model.add(Conv3D(64, (2, 2, 2), padding='same'))\n",
        "        model.add(Activation('relu'))\n",
        "        model.add(BatchNormalization())\n",
        "        model.add(MaxPooling3D(pool_size=(2, 2, 2)))\n",
        "\n",
        "        model.add(Conv3D(128, (2, 2, 2), padding='same'))\n",
        "        model.add(Activation('relu'))\n",
        "        model.add(BatchNormalization())\n",
        "        model.add(MaxPooling3D(pool_size=(2, 2, 2)))\n",
        "        \n",
        "        model.add(Flatten())\n",
        "        model.add(Dense(dense_neurons,activation='relu'))\n",
        "        model.add(BatchNormalization())\n",
        "        model.add(Dropout(dropout))\n",
        "\n",
        "        model.add(Dense(dense_neurons,activation='relu'))\n",
        "        model.add(BatchNormalization())\n",
        "        model.add(Dropout(dropout))\n",
        "\n",
        "        model.add(Dense(self.num_classes,activation='softmax'))\n",
        "\n",
        "        optimiser = tf.optimizers.Adam(lr=0.0002)\n",
        "        model.compile(optimizer=optimiser, loss='categorical_crossentropy', metrics=['categorical_accuracy'])\n",
        "        return model"
      ]
    },
    {
      "cell_type": "code",
      "execution_count": null,
      "metadata": {
        "id": "4ewRlYrlpFws"
      },
      "outputs": [],
      "source": [
        "conv_3d13=ModelConv3D13()\n",
        "conv_3d13.initialize_path(project_folder)\n",
        "conv_3d13.initialize_image_properties(image_height=100,image_width=100)\n",
        "conv_3d13.initialize_hyperparams(frames_to_sample=16,batch_size=20,num_epochs=25)\n",
        "conv_3d13_model=conv_3d13.define_model(dense_neurons=128,dropout=0.25)\n",
        "conv_3d13_model.summary()"
      ]
    },
    {
      "cell_type": "code",
      "execution_count": null,
      "metadata": {
        "scrolled": false,
        "id": "m7vKEFsUpFwt"
      },
      "outputs": [],
      "source": [
        "print(\"Total Params:\", conv_3d13_model.count_params())\n",
        "history_model13=conv_3d13.train_model(conv_3d13_model,augment_data=True)"
      ]
    },
    {
      "cell_type": "code",
      "execution_count": null,
      "metadata": {
        "id": "q7laRAuCpFwt"
      },
      "outputs": [],
      "source": [
        "plot(history_model13)"
      ]
    },
    {
      "cell_type": "markdown",
      "metadata": {
        "id": "-9E1LGF0pFwt"
      },
      "source": [
        "## Model 14 with Augmentation\n",
        "###  Reducing network parameters again - Similar to model 7"
      ]
    },
    {
      "cell_type": "code",
      "execution_count": null,
      "metadata": {
        "id": "mm_wd46HpFwt"
      },
      "outputs": [],
      "source": [
        "class ModelConv3D14(ModelBuilderMoreAugmentation):\n",
        "    \n",
        "    def define_model(self,dense_neurons=64,dropout=0.25):\n",
        "\n",
        "        model = Sequential()\n",
        "        model.add(Conv3D(16, (3, 3, 3), padding='same',\n",
        "                 input_shape=(self.frames_to_sample,self.image_height,self.image_width,self.channels)))\n",
        "        model.add(Activation('relu'))\n",
        "        model.add(BatchNormalization())\n",
        "        model.add(MaxPooling3D(pool_size=(2, 2, 2)))\n",
        "\n",
        "        model.add(Conv3D(32, (3, 3, 3), padding='same'))\n",
        "        model.add(Activation('relu'))\n",
        "        model.add(BatchNormalization())\n",
        "        model.add(MaxPooling3D(pool_size=(2, 2, 2)))\n",
        "\n",
        "        model.add(Conv3D(64, (2, 2, 2), padding='same'))\n",
        "        model.add(Activation('relu'))\n",
        "        model.add(BatchNormalization())\n",
        "        model.add(MaxPooling3D(pool_size=(2, 2, 2)))\n",
        "\n",
        "        model.add(Conv3D(128, (2, 2, 2), padding='same'))\n",
        "        model.add(Activation('relu'))\n",
        "        model.add(BatchNormalization())\n",
        "        model.add(MaxPooling3D(pool_size=(2, 2, 2)))\n",
        "        \n",
        "        model.add(Flatten())\n",
        "        model.add(Dense(dense_neurons,activation='relu'))\n",
        "        model.add(BatchNormalization())\n",
        "        model.add(Dropout(dropout))\n",
        "\n",
        "        model.add(Dense(dense_neurons,activation='relu'))\n",
        "        model.add(BatchNormalization())\n",
        "        model.add(Dropout(dropout))\n",
        "\n",
        "        model.add(Dense(self.num_classes,activation='softmax'))\n",
        "\n",
        "        optimiser = tf.optimizers.Adam(lr=0.0002)\n",
        "        model.compile(optimizer=optimiser, loss='categorical_crossentropy', metrics=['categorical_accuracy'])\n",
        "        return model"
      ]
    },
    {
      "cell_type": "code",
      "execution_count": null,
      "metadata": {
        "id": "Fuuc8iiapFwt"
      },
      "outputs": [],
      "source": [
        "conv_3d14=ModelConv3D14()\n",
        "conv_3d14.initialize_path(project_folder)\n",
        "conv_3d14.initialize_image_properties(image_height=120,image_width=120)\n",
        "conv_3d14.initialize_hyperparams(frames_to_sample=16,batch_size=20,num_epochs=25)\n",
        "conv_3d14_model=conv_3d14.define_model(dense_neurons=64,dropout=0.25)\n",
        "conv_3d14_model.summary()"
      ]
    },
    {
      "cell_type": "code",
      "execution_count": null,
      "metadata": {
        "scrolled": false,
        "id": "ea4MAzNYpFwu"
      },
      "outputs": [],
      "source": [
        "print(\"Total Params:\", conv_3d14_model.count_params())\n",
        "history_model14=conv_3d14.train_model(conv_3d14_model,augment_data=True)"
      ]
    },
    {
      "cell_type": "code",
      "execution_count": null,
      "metadata": {
        "id": "qQJIpQVvpFwu"
      },
      "outputs": [],
      "source": [
        "plot(history_model14)"
      ]
    },
    {
      "cell_type": "markdown",
      "metadata": {
        "id": "uxyayGl1pFwu"
      },
      "source": [
        "## Model 15 with Augmentation\n",
        "### CNN LSTM with GRU - Similar to Model 8"
      ]
    },
    {
      "cell_type": "code",
      "execution_count": null,
      "metadata": {
        "id": "h6K-nMvHpFwu"
      },
      "outputs": [],
      "source": [
        "class RNNCNN2(ModelBuilderMoreAugmentation):\n",
        "    \n",
        "    def define_model(self,lstm_cells=64,dense_neurons=64,dropout=0.25):\n",
        "\n",
        "        model = Sequential()\n",
        "\n",
        "        model.add(TimeDistributed(Conv2D(16, (3, 3) , padding='same', activation='relu'),\n",
        "                                  input_shape=(self.frames_to_sample,self.image_height,self.image_width,self.channels)))\n",
        "        model.add(TimeDistributed(BatchNormalization()))\n",
        "        model.add(TimeDistributed(MaxPooling2D((2, 2))))\n",
        "        \n",
        "        model.add(TimeDistributed(Conv2D(32, (3, 3) , padding='same', activation='relu')))\n",
        "        model.add(TimeDistributed(BatchNormalization()))\n",
        "        model.add(TimeDistributed(MaxPooling2D((2, 2))))\n",
        "        \n",
        "        model.add(TimeDistributed(Conv2D(64, (3, 3) , padding='same', activation='relu')))\n",
        "        model.add(TimeDistributed(BatchNormalization()))\n",
        "        model.add(TimeDistributed(MaxPooling2D((2, 2))))\n",
        "        \n",
        "        model.add(TimeDistributed(Conv2D(128, (3, 3) , padding='same', activation='relu')))\n",
        "        model.add(TimeDistributed(BatchNormalization()))\n",
        "        model.add(TimeDistributed(MaxPooling2D((2, 2))))\n",
        "        \n",
        "\n",
        "        model.add(TimeDistributed(Flatten()))\n",
        "\n",
        "\n",
        "        model.add(GRU(lstm_cells))\n",
        "        model.add(Dropout(dropout))\n",
        "        \n",
        "        model.add(Dense(dense_neurons,activation='relu'))\n",
        "        model.add(Dropout(dropout))\n",
        "        \n",
        "        model.add(Dense(self.num_classes, activation='softmax'))\n",
        "        optimiser = tf.optimizers.Adam(lr=0.0002)\n",
        "        model.compile(optimizer=optimiser, loss='categorical_crossentropy', metrics=['categorical_accuracy'])\n",
        "        return model"
      ]
    },
    {
      "cell_type": "code",
      "execution_count": null,
      "metadata": {
        "id": "xv2ptZWOpFwu"
      },
      "outputs": [],
      "source": [
        "rnn_cnn2=RNNCNN2()\n",
        "rnn_cnn2.initialize_path(project_folder)\n",
        "rnn_cnn2.initialize_image_properties(image_height=120,image_width=120)\n",
        "rnn_cnn2.initialize_hyperparams(frames_to_sample=18,batch_size=20,num_epochs=20)\n",
        "rnn_cnn2_model=rnn_cnn2.define_model(lstm_cells=128,dense_neurons=128,dropout=0.25)\n",
        "rnn_cnn2_model.summary()"
      ]
    },
    {
      "cell_type": "code",
      "execution_count": null,
      "metadata": {
        "id": "3YCYiYClpFwu"
      },
      "outputs": [],
      "source": [
        "print(\"Total Params:\", rnn_cnn2_model.count_params())\n",
        "history_model15=rnn_cnn2.train_model(rnn_cnn2_model,augment_data=True)"
      ]
    },
    {
      "cell_type": "code",
      "execution_count": null,
      "metadata": {
        "id": "dAcVSCfXpFwv"
      },
      "outputs": [],
      "source": [
        "plot(history_model15)"
      ]
    },
    {
      "cell_type": "markdown",
      "metadata": {
        "collapsed": true,
        "id": "n_qBDSR1pFwv"
      },
      "source": [
        "### We see that overfitting is considerably high when we do more augmentation. However there is not much improvement on accuracy"
      ]
    },
    {
      "cell_type": "markdown",
      "metadata": {
        "collapsed": true,
        "id": "lAAR5ElNpFwv"
      },
      "source": [
        "## Model 16 - Let us bring in Transfer Learning !! :)\n",
        "__(Optional)__"
      ]
    },
    {
      "cell_type": "code",
      "execution_count": null,
      "metadata": {
        "id": "9fGEediWpFwv"
      },
      "outputs": [],
      "source": [
        "# importing the MobileNet model due to it's lightweight architecture and high speed performance as compared \n",
        "# to other heavy-duty models like VGG16, Alexnet, InceptionV3 etc. Also, we are now also running on low disk space \n",
        "# in the nimblebox.ai platform. \n",
        "\n",
        "from keras.applications import mobilenet"
      ]
    },
    {
      "cell_type": "code",
      "execution_count": null,
      "metadata": {
        "id": "gqBTC-rApFwv"
      },
      "outputs": [],
      "source": [
        "mobilenet_transfer = mobilenet.MobileNet(weights='imagenet', include_top=False)\n",
        "\n",
        "class RNNCNN_TL(ModelBuilderMoreAugmentation):\n",
        "    \n",
        "    def define_model(self,lstm_cells=64,dense_neurons=64,dropout=0.25):\n",
        "        \n",
        "        model = Sequential()\n",
        "        model.add(TimeDistributed(mobilenet_transfer,input_shape=(self.frames_to_sample,self.image_height,self.image_width,self.channels)))\n",
        "        \n",
        "        \n",
        "        for layer in model.layers:\n",
        "            layer.trainable = False\n",
        "        \n",
        "        \n",
        "        model.add(TimeDistributed(BatchNormalization()))\n",
        "        model.add(TimeDistributed(MaxPooling2D((2, 2))))\n",
        "        model.add(TimeDistributed(Flatten()))\n",
        "\n",
        "        model.add(LSTM(lstm_cells))\n",
        "        model.add(Dropout(dropout))\n",
        "        \n",
        "        model.add(Dense(dense_neurons,activation='relu'))\n",
        "        model.add(Dropout(dropout))\n",
        "        \n",
        "        model.add(Dense(self.num_classes, activation='softmax'))\n",
        "        \n",
        "        \n",
        "        optimiser = tf.optimizers.Adam()\n",
        "        model.compile(optimizer=optimiser, loss='categorical_crossentropy', metrics=['categorical_accuracy'])\n",
        "        return model"
      ]
    },
    {
      "cell_type": "code",
      "execution_count": null,
      "metadata": {
        "id": "cwwpPuttpFww"
      },
      "outputs": [],
      "source": [
        "rnn_cnn_tl=RNNCNN_TL()\n",
        "rnn_cnn_tl.initialize_path(project_folder)\n",
        "rnn_cnn_tl.initialize_image_properties(image_height=120,image_width=120)\n",
        "rnn_cnn_tl.initialize_hyperparams(frames_to_sample=16,batch_size=5,num_epochs=20)\n",
        "rnn_cnn_tl_model=rnn_cnn_tl.define_model(lstm_cells=128,dense_neurons=128,dropout=0.25)\n",
        "rnn_cnn_tl_model.summary()"
      ]
    },
    {
      "cell_type": "code",
      "execution_count": null,
      "metadata": {
        "scrolled": false,
        "id": "EzUtOCnSpFww"
      },
      "outputs": [],
      "source": [
        "print(\"Total Params:\", rnn_cnn_tl_model.count_params())\n",
        "history_model16=rnn_cnn_tl.train_model(rnn_cnn_tl_model,augment_data=True)"
      ]
    },
    {
      "cell_type": "code",
      "execution_count": null,
      "metadata": {
        "id": "3ArskVxKpFww"
      },
      "outputs": [],
      "source": [
        "plot(history_model16)"
      ]
    },
    {
      "cell_type": "markdown",
      "metadata": {
        "collapsed": true,
        "id": "5D-zwJ-ZpFww"
      },
      "source": [
        "##### We are not training the mobilenet weights and we see validation accuracy is very poor. Let's train them as well and observe if there is performance improvement"
      ]
    },
    {
      "cell_type": "markdown",
      "metadata": {
        "id": "wDT_Jl66pFww"
      },
      "source": [
        "## Model 17 - Transfer Learning with GRU and training all weights\n",
        "__(Optional)__"
      ]
    },
    {
      "cell_type": "code",
      "execution_count": null,
      "metadata": {
        "id": "tQx18KtfpFww"
      },
      "outputs": [],
      "source": [
        "from keras.applications import mobilenet\n",
        "\n",
        "mobilenet_transfer = mobilenet.MobileNet(weights='imagenet', include_top=False)\n",
        "\n",
        "class RNNCNN_TL2(ModelBuilderMoreAugmentation):\n",
        "    \n",
        "    def define_model(self,gru_cells=64,dense_neurons=64,dropout=0.25):\n",
        "        \n",
        "        model = Sequential()\n",
        "        model.add(TimeDistributed(mobilenet_transfer,input_shape=(self.frames_to_sample,self.image_height,self.image_width,self.channels)))\n",
        " \n",
        "        \n",
        "        model.add(TimeDistributed(BatchNormalization()))\n",
        "        model.add(TimeDistributed(MaxPooling2D((2, 2))))\n",
        "        model.add(TimeDistributed(Flatten()))\n",
        "\n",
        "        model.add(GRU(gru_cells))\n",
        "        model.add(Dropout(dropout))\n",
        "        \n",
        "        model.add(Dense(dense_neurons,activation='relu'))\n",
        "        model.add(Dropout(dropout))\n",
        "        \n",
        "        model.add(Dense(self.num_classes, activation='softmax'))\n",
        "        \n",
        "        \n",
        "        optimiser = tf.optimizers.Adam()\n",
        "        model.compile(optimizer=optimiser, loss='categorical_crossentropy', metrics=['categorical_accuracy'])\n",
        "        return model"
      ]
    },
    {
      "cell_type": "code",
      "execution_count": null,
      "metadata": {
        "id": "TGxQk-B2pFwx"
      },
      "outputs": [],
      "source": [
        "rnn_cnn_tl2=RNNCNN_TL2()\n",
        "rnn_cnn_tl2.initialize_path(project_folder)\n",
        "rnn_cnn_tl2.initialize_image_properties(image_height=120,image_width=120)\n",
        "rnn_cnn_tl2.initialize_hyperparams(frames_to_sample=16,batch_size=5,num_epochs=20)\n",
        "rnn_cnn_tl2_model=rnn_cnn_tl2.define_model(gru_cells=128,dense_neurons=128,dropout=0.25)\n",
        "rnn_cnn_tl2_model.summary()"
      ]
    },
    {
      "cell_type": "code",
      "execution_count": null,
      "metadata": {
        "id": "LYvA_MohpFwx"
      },
      "outputs": [],
      "source": [
        "print(\"Total Params:\", rnn_cnn_tl2_model.count_params())\n",
        "history_model17=rnn_cnn_tl2.train_model(rnn_cnn_tl2_model,augment_data=True)"
      ]
    },
    {
      "cell_type": "code",
      "execution_count": null,
      "metadata": {
        "id": "LlEy60gSpFwx"
      },
      "outputs": [],
      "source": [
        "plot(history_model17)"
      ]
    },
    {
      "cell_type": "markdown",
      "metadata": {
        "id": "thZESR15pFwx"
      },
      "source": [
        "### Awesome results! 98% Training accuracy and 93% validation accuracy :)"
      ]
    },
    {
      "cell_type": "markdown",
      "metadata": {
        "id": "vaFh22SPpFwx"
      },
      "source": [
        "# Consolidated Final Models"
      ]
    },
    {
      "cell_type": "markdown",
      "metadata": {
        "id": "MH4RENslpFwy"
      },
      "source": [
        "![png1.PNG](attachment:png1.PNG)\n",
        "![png2.PNG](attachment:png2.PNG)"
      ]
    },
    {
      "cell_type": "markdown",
      "metadata": {
        "id": "YCr21FGupFwy"
      },
      "source": [
        "## After doing all the experiments, we finalized Model 8 - CNN+LSTM, which performed well.\n",
        "__Reason:__\n",
        "\n",
        "__- (Training Accuracy : 93%, Validation Accuracy : 85%)__\n",
        "\n",
        "__- Number of Parameters(1,657,445)less according to other models performance__\n",
        "\n",
        "__- Learning rate gradually decreacing after 16 Epoch__\n",
        "\n",
        "\n",
        "__The best weights of CNN-LSTM: model-00020-0.19649-0.93514-0.45695-0.85000.h5 (19 MB). we considered this weight for model testing, Let's have look at the performance below__\n"
      ]
    },
    {
      "cell_type": "code",
      "execution_count": null,
      "metadata": {
        "id": "QaN-_plspFwy"
      },
      "outputs": [],
      "source": [
        "a"
      ]
    },
    {
      "cell_type": "markdown",
      "metadata": {
        "id": "Ty01IGHWpFwy"
      },
      "source": [
        "# Loading model and Testing"
      ]
    },
    {
      "cell_type": "code",
      "execution_count": null,
      "metadata": {
        "id": "dghpP8JhpFwy"
      },
      "outputs": [],
      "source": [
        "import time\n",
        "from keras.models import load_model\n",
        "model = load_model('model_init_2021-01-1223_50_50.411328/model-00020-0.02207-0.99397-0.24331-0.94000.h5')"
      ]
    },
    {
      "cell_type": "code",
      "execution_count": null,
      "metadata": {
        "id": "udEI1BWYpFwy"
      },
      "outputs": [],
      "source": [
        "test_generator=RNNCNN1()\n",
        "test_generator.initialize_path(project_folder)\n",
        "test_generator.initialize_image_properties(image_height=120,image_width=120)\n",
        "test_generator.initialize_hyperparams(frames_to_sample=18,batch_size=20,num_epochs=20)\n",
        "\n",
        "g=test_generator.generator(test_generator.val_path,test_generator.val_doc,augment=False)\n",
        "batch_data, batch_labels=next(g)"
      ]
    },
    {
      "cell_type": "code",
      "execution_count": null,
      "metadata": {
        "id": "KFhqgujhpFwz"
      },
      "outputs": [],
      "source": [
        "batch_labels"
      ]
    },
    {
      "cell_type": "code",
      "execution_count": null,
      "metadata": {
        "id": "1UMMXdMQpFwz"
      },
      "outputs": [],
      "source": [
        "print(np.argmax(model.predict(batch_data[:,:,:,:,:]),axis=1))"
      ]
    },
    {
      "cell_type": "code",
      "execution_count": null,
      "metadata": {
        "id": "zn27POOspFwz"
      },
      "outputs": [],
      "source": [
        "test_generator=RNNCNN1()\n",
        "test_generator.initialize_path(project_folder)\n",
        "test_generator.initialize_image_properties(image_height=120,image_width=120)\n",
        "test_generator.initialize_hyperparams(frames_to_sample=16,batch_size=20,num_epochs=20)\n",
        "\n",
        "g=test_generator.generator(test_generator.val_path,test_generator.val_doc,augment=False)\n",
        "batch_data, batch_labels=next(g)"
      ]
    }
  ],
  "metadata": {
    "kernelspec": {
      "display_name": "Python 3 (ipykernel)",
      "language": "python",
      "name": "python3"
    },
    "language_info": {
      "codemirror_mode": {
        "name": "ipython",
        "version": 3
      },
      "file_extension": ".py",
      "mimetype": "text/x-python",
      "name": "python",
      "nbconvert_exporter": "python",
      "pygments_lexer": "ipython3",
      "version": "3.9.7"
    },
    "colab": {
      "name": "Final_Gesture_Recognition_Case-Study.ipynb",
      "provenance": [],
      "collapsed_sections": [
        "HS4qL3XPpFwf",
        "RsenSTBUpFwg",
        "mNfgtLR_pFwh",
        "iPG3VyX2pFwi",
        "5sKjF_SNpFwj",
        "rHrjk-rxpFwk",
        "jpG9J6jVpFwn",
        "IwK-ZBqepFwo",
        "75GCOroppFwq",
        "M2LrTV1TpFwr",
        "F6SMmoW2pFws",
        "-9E1LGF0pFwt",
        "uxyayGl1pFwu",
        "n_qBDSR1pFwv",
        "lAAR5ElNpFwv",
        "wDT_Jl66pFww",
        "thZESR15pFwx",
        "YCr21FGupFwy"
      ],
      "machine_shape": "hm"
    },
    "accelerator": "GPU"
  },
  "nbformat": 4,
  "nbformat_minor": 0
}